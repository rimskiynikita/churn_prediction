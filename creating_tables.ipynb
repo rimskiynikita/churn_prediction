{
 "cells": [
  {
   "cell_type": "code",
   "execution_count": 3,
   "metadata": {
    "collapsed": true
   },
   "outputs": [],
   "source": [
    "import pandas as pd"
   ]
  },
  {
   "cell_type": "code",
   "execution_count": 6,
   "metadata": {},
   "outputs": [
    {
     "data": {
      "text/html": [
       "<div>\n",
       "<style>\n",
       "    .dataframe thead tr:only-child th {\n",
       "        text-align: right;\n",
       "    }\n",
       "\n",
       "    .dataframe thead th {\n",
       "        text-align: left;\n",
       "    }\n",
       "\n",
       "    .dataframe tbody tr th {\n",
       "        vertical-align: top;\n",
       "    }\n",
       "</style>\n",
       "<table border=\"1\" class=\"dataframe\">\n",
       "  <thead>\n",
       "    <tr style=\"text-align: right;\">\n",
       "      <th></th>\n",
       "      <th>msno</th>\n",
       "      <th>is_churn</th>\n",
       "    </tr>\n",
       "  </thead>\n",
       "  <tbody>\n",
       "    <tr>\n",
       "      <th>0</th>\n",
       "      <td>waLDQMmcOu2jLDaV1ddDkgCrB/jl6sD66Xzs0Vqax1Y=</td>\n",
       "      <td>1</td>\n",
       "    </tr>\n",
       "    <tr>\n",
       "      <th>1</th>\n",
       "      <td>QA7uiXy8vIbUSPOkCf9RwQ3FsT8jVq2OxDr8zqa7bRQ=</td>\n",
       "      <td>1</td>\n",
       "    </tr>\n",
       "    <tr>\n",
       "      <th>2</th>\n",
       "      <td>fGwBva6hikQmTJzrbz/2Ezjm5Cth5jZUNvXigKK2AFA=</td>\n",
       "      <td>1</td>\n",
       "    </tr>\n",
       "    <tr>\n",
       "      <th>3</th>\n",
       "      <td>mT5V8rEpa+8wuqi6x0DoVd3H5icMKkE9Prt49UlmK+4=</td>\n",
       "      <td>1</td>\n",
       "    </tr>\n",
       "    <tr>\n",
       "      <th>4</th>\n",
       "      <td>XaPhtGLk/5UvvOYHcONTwsnH97P4eGECeq+BARGItRw=</td>\n",
       "      <td>1</td>\n",
       "    </tr>\n",
       "    <tr>\n",
       "      <th>5</th>\n",
       "      <td>GBy8qSz16X5iYWD+3CMxv/Hm6OPSrXBYtmbnlRtknW0=</td>\n",
       "      <td>1</td>\n",
       "    </tr>\n",
       "    <tr>\n",
       "      <th>6</th>\n",
       "      <td>lYLh7TdkWpIoQs3i3o6mIjLH8/IEgMWP9r7OpsLX0Vo=</td>\n",
       "      <td>1</td>\n",
       "    </tr>\n",
       "    <tr>\n",
       "      <th>7</th>\n",
       "      <td>T0FF6lumjKcqEO0O+tUH2ytc+Kb9EkeaLzcVUiTr1aE=</td>\n",
       "      <td>1</td>\n",
       "    </tr>\n",
       "    <tr>\n",
       "      <th>8</th>\n",
       "      <td>Nb1ZGEmagQeba5E+nQj8VlQoWl+8SFmLZu+Y8ytIamw=</td>\n",
       "      <td>1</td>\n",
       "    </tr>\n",
       "    <tr>\n",
       "      <th>9</th>\n",
       "      <td>MkuWz0Nq6/Oq5fKqRddWL7oh2SLUSRe3/g+XmAWqW1Q=</td>\n",
       "      <td>1</td>\n",
       "    </tr>\n",
       "  </tbody>\n",
       "</table>\n",
       "</div>"
      ],
      "text/plain": [
       "                                           msno  is_churn\n",
       "0  waLDQMmcOu2jLDaV1ddDkgCrB/jl6sD66Xzs0Vqax1Y=         1\n",
       "1  QA7uiXy8vIbUSPOkCf9RwQ3FsT8jVq2OxDr8zqa7bRQ=         1\n",
       "2  fGwBva6hikQmTJzrbz/2Ezjm5Cth5jZUNvXigKK2AFA=         1\n",
       "3  mT5V8rEpa+8wuqi6x0DoVd3H5icMKkE9Prt49UlmK+4=         1\n",
       "4  XaPhtGLk/5UvvOYHcONTwsnH97P4eGECeq+BARGItRw=         1\n",
       "5  GBy8qSz16X5iYWD+3CMxv/Hm6OPSrXBYtmbnlRtknW0=         1\n",
       "6  lYLh7TdkWpIoQs3i3o6mIjLH8/IEgMWP9r7OpsLX0Vo=         1\n",
       "7  T0FF6lumjKcqEO0O+tUH2ytc+Kb9EkeaLzcVUiTr1aE=         1\n",
       "8  Nb1ZGEmagQeba5E+nQj8VlQoWl+8SFmLZu+Y8ytIamw=         1\n",
       "9  MkuWz0Nq6/Oq5fKqRddWL7oh2SLUSRe3/g+XmAWqW1Q=         1"
      ]
     },
     "execution_count": 6,
     "metadata": {},
     "output_type": "execute_result"
    }
   ],
   "source": [
    "churn = pd.read_csv('train.csv')\n",
    "churn.head(10)"
   ]
  },
  {
   "cell_type": "code",
   "execution_count": 7,
   "metadata": {
    "scrolled": true
   },
   "outputs": [
    {
     "data": {
      "text/html": [
       "<div>\n",
       "<style>\n",
       "    .dataframe thead tr:only-child th {\n",
       "        text-align: right;\n",
       "    }\n",
       "\n",
       "    .dataframe thead th {\n",
       "        text-align: left;\n",
       "    }\n",
       "\n",
       "    .dataframe tbody tr th {\n",
       "        vertical-align: top;\n",
       "    }\n",
       "</style>\n",
       "<table border=\"1\" class=\"dataframe\">\n",
       "  <thead>\n",
       "    <tr style=\"text-align: right;\">\n",
       "      <th></th>\n",
       "      <th>index</th>\n",
       "      <th>msno</th>\n",
       "      <th>is_churn</th>\n",
       "    </tr>\n",
       "  </thead>\n",
       "  <tbody>\n",
       "    <tr>\n",
       "      <th>0</th>\n",
       "      <td>30423</td>\n",
       "      <td>zzzN9thH22os1dRS0VHReY/8FTfGHOi86//d+wGGFsQ=</td>\n",
       "      <td>1</td>\n",
       "    </tr>\n",
       "    <tr>\n",
       "      <th>1</th>\n",
       "      <td>19995</td>\n",
       "      <td>zzz4xr5LLzoxUqD6LfKiieCt8Or4dUWFQ0RA5gmkx8I=</td>\n",
       "      <td>1</td>\n",
       "    </tr>\n",
       "    <tr>\n",
       "      <th>2</th>\n",
       "      <td>888205</td>\n",
       "      <td>zzz1Dc3P9s53HAowRTrm3fNsWju5yeN4YBfNDq7Z99Q=</td>\n",
       "      <td>0</td>\n",
       "    </tr>\n",
       "    <tr>\n",
       "      <th>3</th>\n",
       "      <td>480976</td>\n",
       "      <td>zzxi7n5xoTYo9Q3VTygLWvl/rBDcexwaeAry0yK7Q0E=</td>\n",
       "      <td>0</td>\n",
       "    </tr>\n",
       "    <tr>\n",
       "      <th>4</th>\n",
       "      <td>320038</td>\n",
       "      <td>zzxZeMFx2fjfKZigMnJa2w0EmloDbm8+8nTf/o/00GY=</td>\n",
       "      <td>0</td>\n",
       "    </tr>\n",
       "    <tr>\n",
       "      <th>5</th>\n",
       "      <td>337812</td>\n",
       "      <td>zzxPS8+wCuE4HE85EDp4WBHgS5l548vfwXJbQq1HZ9I=</td>\n",
       "      <td>0</td>\n",
       "    </tr>\n",
       "    <tr>\n",
       "      <th>6</th>\n",
       "      <td>53376</td>\n",
       "      <td>zzx7wcys2Nha6yP2Skjs+R1/JNAfEuAWUaAp0qsV2Cg=</td>\n",
       "      <td>1</td>\n",
       "    </tr>\n",
       "    <tr>\n",
       "      <th>7</th>\n",
       "      <td>872980</td>\n",
       "      <td>zzx4hKiyR9XFEGAr7SAjcCPbKJCZ+IqegWL7dPjPwZk=</td>\n",
       "      <td>0</td>\n",
       "    </tr>\n",
       "    <tr>\n",
       "      <th>8</th>\n",
       "      <td>102852</td>\n",
       "      <td>zzx1qgX8R9EmT8PAn4/KyQ6s7PuLYTfR8kUCABiCW9E=</td>\n",
       "      <td>0</td>\n",
       "    </tr>\n",
       "    <tr>\n",
       "      <th>9</th>\n",
       "      <td>870369</td>\n",
       "      <td>zzwsW1MnZalh6V5BwYE+V6hFWyKJYOf+rFd+SWVXxp8=</td>\n",
       "      <td>0</td>\n",
       "    </tr>\n",
       "  </tbody>\n",
       "</table>\n",
       "</div>"
      ],
      "text/plain": [
       "    index                                          msno  is_churn\n",
       "0   30423  zzzN9thH22os1dRS0VHReY/8FTfGHOi86//d+wGGFsQ=         1\n",
       "1   19995  zzz4xr5LLzoxUqD6LfKiieCt8Or4dUWFQ0RA5gmkx8I=         1\n",
       "2  888205  zzz1Dc3P9s53HAowRTrm3fNsWju5yeN4YBfNDq7Z99Q=         0\n",
       "3  480976  zzxi7n5xoTYo9Q3VTygLWvl/rBDcexwaeAry0yK7Q0E=         0\n",
       "4  320038  zzxZeMFx2fjfKZigMnJa2w0EmloDbm8+8nTf/o/00GY=         0\n",
       "5  337812  zzxPS8+wCuE4HE85EDp4WBHgS5l548vfwXJbQq1HZ9I=         0\n",
       "6   53376  zzx7wcys2Nha6yP2Skjs+R1/JNAfEuAWUaAp0qsV2Cg=         1\n",
       "7  872980  zzx4hKiyR9XFEGAr7SAjcCPbKJCZ+IqegWL7dPjPwZk=         0\n",
       "8  102852  zzx1qgX8R9EmT8PAn4/KyQ6s7PuLYTfR8kUCABiCW9E=         0\n",
       "9  870369  zzwsW1MnZalh6V5BwYE+V6hFWyKJYOf+rFd+SWVXxp8=         0"
      ]
     },
     "execution_count": 7,
     "metadata": {},
     "output_type": "execute_result"
    }
   ],
   "source": [
    "churn1 = churn.sort_values(['msno'],ascending= [False]).reset_index()\n",
    "churn1.head(10)"
   ]
  },
  {
   "cell_type": "code",
   "execution_count": 8,
   "metadata": {
    "collapsed": true
   },
   "outputs": [],
   "source": [
    "churn2 = churn1[['msno', 'is_churn']]"
   ]
  },
  {
   "cell_type": "code",
   "execution_count": 9,
   "metadata": {
    "collapsed": true
   },
   "outputs": [],
   "source": [
    "churn_ones = churn2[churn2.is_churn == 1].reset_index()\n",
    "churn_ones = churn_ones[['msno', 'is_churn']]\n"
   ]
  },
  {
   "cell_type": "code",
   "execution_count": 10,
   "metadata": {},
   "outputs": [
    {
     "data": {
      "text/html": [
       "<div>\n",
       "<style>\n",
       "    .dataframe thead tr:only-child th {\n",
       "        text-align: right;\n",
       "    }\n",
       "\n",
       "    .dataframe thead th {\n",
       "        text-align: left;\n",
       "    }\n",
       "\n",
       "    .dataframe tbody tr th {\n",
       "        vertical-align: top;\n",
       "    }\n",
       "</style>\n",
       "<table border=\"1\" class=\"dataframe\">\n",
       "  <thead>\n",
       "    <tr style=\"text-align: right;\">\n",
       "      <th></th>\n",
       "      <th>msno</th>\n",
       "      <th>is_churn</th>\n",
       "    </tr>\n",
       "  </thead>\n",
       "  <tbody>\n",
       "    <tr>\n",
       "      <th>1499</th>\n",
       "      <td>z8b0VhBdrYFd0e2yCZyhXvciYnLf3WUCFtI+/p5s3ps=</td>\n",
       "      <td>1</td>\n",
       "    </tr>\n",
       "  </tbody>\n",
       "</table>\n",
       "</div>"
      ],
      "text/plain": [
       "                                              msno  is_churn\n",
       "1499  z8b0VhBdrYFd0e2yCZyhXvciYnLf3WUCFtI+/p5s3ps=         1"
      ]
     },
     "execution_count": 10,
     "metadata": {},
     "output_type": "execute_result"
    }
   ],
   "source": [
    "churn_ones = churn_ones.loc[0:1499]\n",
    "churn.iloc[[1499]]"
   ]
  },
  {
   "cell_type": "code",
   "execution_count": 11,
   "metadata": {
    "collapsed": true
   },
   "outputs": [],
   "source": [
    "churn_zeros = churn2[churn2.is_churn == 0].reset_index()\n",
    "churn_zeros = churn_zeros[['msno', 'is_churn']]"
   ]
  },
  {
   "cell_type": "code",
   "execution_count": 12,
   "metadata": {},
   "outputs": [
    {
     "data": {
      "text/html": [
       "<div>\n",
       "<style>\n",
       "    .dataframe thead tr:only-child th {\n",
       "        text-align: right;\n",
       "    }\n",
       "\n",
       "    .dataframe thead th {\n",
       "        text-align: left;\n",
       "    }\n",
       "\n",
       "    .dataframe tbody tr th {\n",
       "        vertical-align: top;\n",
       "    }\n",
       "</style>\n",
       "<table border=\"1\" class=\"dataframe\">\n",
       "  <thead>\n",
       "    <tr style=\"text-align: right;\">\n",
       "      <th></th>\n",
       "      <th>msno</th>\n",
       "      <th>is_churn</th>\n",
       "    </tr>\n",
       "  </thead>\n",
       "  <tbody>\n",
       "    <tr>\n",
       "      <th>0</th>\n",
       "      <td>zzz1Dc3P9s53HAowRTrm3fNsWju5yeN4YBfNDq7Z99Q=</td>\n",
       "      <td>0</td>\n",
       "    </tr>\n",
       "    <tr>\n",
       "      <th>1</th>\n",
       "      <td>zzxi7n5xoTYo9Q3VTygLWvl/rBDcexwaeAry0yK7Q0E=</td>\n",
       "      <td>0</td>\n",
       "    </tr>\n",
       "    <tr>\n",
       "      <th>2</th>\n",
       "      <td>zzxZeMFx2fjfKZigMnJa2w0EmloDbm8+8nTf/o/00GY=</td>\n",
       "      <td>0</td>\n",
       "    </tr>\n",
       "    <tr>\n",
       "      <th>3</th>\n",
       "      <td>zzxPS8+wCuE4HE85EDp4WBHgS5l548vfwXJbQq1HZ9I=</td>\n",
       "      <td>0</td>\n",
       "    </tr>\n",
       "    <tr>\n",
       "      <th>4</th>\n",
       "      <td>zzx4hKiyR9XFEGAr7SAjcCPbKJCZ+IqegWL7dPjPwZk=</td>\n",
       "      <td>0</td>\n",
       "    </tr>\n",
       "    <tr>\n",
       "      <th>5</th>\n",
       "      <td>zzx1qgX8R9EmT8PAn4/KyQ6s7PuLYTfR8kUCABiCW9E=</td>\n",
       "      <td>0</td>\n",
       "    </tr>\n",
       "    <tr>\n",
       "      <th>6</th>\n",
       "      <td>zzwsW1MnZalh6V5BwYE+V6hFWyKJYOf+rFd+SWVXxp8=</td>\n",
       "      <td>0</td>\n",
       "    </tr>\n",
       "    <tr>\n",
       "      <th>7</th>\n",
       "      <td>zzwlIVmSuehTevzOi+WkcC7b3+MBYDiE4qybszTyhII=</td>\n",
       "      <td>0</td>\n",
       "    </tr>\n",
       "    <tr>\n",
       "      <th>8</th>\n",
       "      <td>zzwimfmJBJ4SrRw3bYXQzE9UrizlSE10yI7dHPvG5xM=</td>\n",
       "      <td>0</td>\n",
       "    </tr>\n",
       "    <tr>\n",
       "      <th>9</th>\n",
       "      <td>zzvhQSh5Xs6/9DO+wUTtEbSZRBHjGIpHMOP2kVMrXmk=</td>\n",
       "      <td>0</td>\n",
       "    </tr>\n",
       "  </tbody>\n",
       "</table>\n",
       "</div>"
      ],
      "text/plain": [
       "                                           msno  is_churn\n",
       "0  zzz1Dc3P9s53HAowRTrm3fNsWju5yeN4YBfNDq7Z99Q=         0\n",
       "1  zzxi7n5xoTYo9Q3VTygLWvl/rBDcexwaeAry0yK7Q0E=         0\n",
       "2  zzxZeMFx2fjfKZigMnJa2w0EmloDbm8+8nTf/o/00GY=         0\n",
       "3  zzxPS8+wCuE4HE85EDp4WBHgS5l548vfwXJbQq1HZ9I=         0\n",
       "4  zzx4hKiyR9XFEGAr7SAjcCPbKJCZ+IqegWL7dPjPwZk=         0\n",
       "5  zzx1qgX8R9EmT8PAn4/KyQ6s7PuLYTfR8kUCABiCW9E=         0\n",
       "6  zzwsW1MnZalh6V5BwYE+V6hFWyKJYOf+rFd+SWVXxp8=         0\n",
       "7  zzwlIVmSuehTevzOi+WkcC7b3+MBYDiE4qybszTyhII=         0\n",
       "8  zzwimfmJBJ4SrRw3bYXQzE9UrizlSE10yI7dHPvG5xM=         0\n",
       "9  zzvhQSh5Xs6/9DO+wUTtEbSZRBHjGIpHMOP2kVMrXmk=         0"
      ]
     },
     "execution_count": 12,
     "metadata": {},
     "output_type": "execute_result"
    }
   ],
   "source": [
    "churn_zeros = churn_zeros.loc[0:1499]\n",
    "churn_zeros.head(10)"
   ]
  },
  {
   "cell_type": "code",
   "execution_count": 13,
   "metadata": {
    "scrolled": true
   },
   "outputs": [
    {
     "data": {
      "text/html": [
       "<div>\n",
       "<style>\n",
       "    .dataframe thead tr:only-child th {\n",
       "        text-align: right;\n",
       "    }\n",
       "\n",
       "    .dataframe thead th {\n",
       "        text-align: left;\n",
       "    }\n",
       "\n",
       "    .dataframe tbody tr th {\n",
       "        vertical-align: top;\n",
       "    }\n",
       "</style>\n",
       "<table border=\"1\" class=\"dataframe\">\n",
       "  <thead>\n",
       "    <tr style=\"text-align: right;\">\n",
       "      <th></th>\n",
       "      <th>msno</th>\n",
       "      <th>is_churn</th>\n",
       "    </tr>\n",
       "  </thead>\n",
       "  <tbody>\n",
       "    <tr>\n",
       "      <th>1499</th>\n",
       "      <td>ztKkAYwQCfLuGS33MZwpmXG0TUp8HRxkK871IxOoUaM=</td>\n",
       "      <td>0</td>\n",
       "    </tr>\n",
       "  </tbody>\n",
       "</table>\n",
       "</div>"
      ],
      "text/plain": [
       "                                              msno  is_churn\n",
       "1499  ztKkAYwQCfLuGS33MZwpmXG0TUp8HRxkK871IxOoUaM=         0"
      ]
     },
     "execution_count": 13,
     "metadata": {},
     "output_type": "execute_result"
    }
   ],
   "source": [
    "churn_zeros.iloc[[1499]]"
   ]
  },
  {
   "cell_type": "code",
   "execution_count": null,
   "metadata": {
    "collapsed": true
   },
   "outputs": [],
   "source": []
  },
  {
   "cell_type": "code",
   "execution_count": null,
   "metadata": {
    "collapsed": true
   },
   "outputs": [],
   "source": []
  },
  {
   "cell_type": "markdown",
   "metadata": {},
   "source": [
    "# Таблица Мемберс и Трейн"
   ]
  },
  {
   "cell_type": "code",
   "execution_count": 14,
   "metadata": {
    "scrolled": true
   },
   "outputs": [
    {
     "data": {
      "text/html": [
       "<div>\n",
       "<style>\n",
       "    .dataframe thead tr:only-child th {\n",
       "        text-align: right;\n",
       "    }\n",
       "\n",
       "    .dataframe thead th {\n",
       "        text-align: left;\n",
       "    }\n",
       "\n",
       "    .dataframe tbody tr th {\n",
       "        vertical-align: top;\n",
       "    }\n",
       "</style>\n",
       "<table border=\"1\" class=\"dataframe\">\n",
       "  <thead>\n",
       "    <tr style=\"text-align: right;\">\n",
       "      <th></th>\n",
       "      <th>msno</th>\n",
       "      <th>city</th>\n",
       "      <th>bd</th>\n",
       "      <th>gender</th>\n",
       "      <th>registered_via</th>\n",
       "      <th>registration_init_time</th>\n",
       "      <th>expiration_date</th>\n",
       "    </tr>\n",
       "  </thead>\n",
       "  <tbody>\n",
       "    <tr>\n",
       "      <th>0</th>\n",
       "      <td>URiXrfYPzHAlk+7+n7BOMl9G+T7g8JmrSnT/BU8GmEo=</td>\n",
       "      <td>1</td>\n",
       "      <td>0</td>\n",
       "      <td>NaN</td>\n",
       "      <td>9</td>\n",
       "      <td>20150525</td>\n",
       "      <td>20150526</td>\n",
       "    </tr>\n",
       "    <tr>\n",
       "      <th>1</th>\n",
       "      <td>U1q0qCqK/lDMTD2kN8G9OXMtfuvLCey20OAIPOvXXGQ=</td>\n",
       "      <td>1</td>\n",
       "      <td>0</td>\n",
       "      <td>NaN</td>\n",
       "      <td>4</td>\n",
       "      <td>20161221</td>\n",
       "      <td>20161224</td>\n",
       "    </tr>\n",
       "    <tr>\n",
       "      <th>2</th>\n",
       "      <td>W6M2H2kAoN9ahfDYKo3J6tmsJRAeuFc9wl1cau5VL1Q=</td>\n",
       "      <td>1</td>\n",
       "      <td>0</td>\n",
       "      <td>NaN</td>\n",
       "      <td>4</td>\n",
       "      <td>20160306</td>\n",
       "      <td>20160309</td>\n",
       "    </tr>\n",
       "    <tr>\n",
       "      <th>3</th>\n",
       "      <td>1qE5+cN7CUyC+KFH6gBZzMWmM1QpIVW6A43BEm98I/w=</td>\n",
       "      <td>5</td>\n",
       "      <td>17</td>\n",
       "      <td>female</td>\n",
       "      <td>4</td>\n",
       "      <td>20161031</td>\n",
       "      <td>20161107</td>\n",
       "    </tr>\n",
       "    <tr>\n",
       "      <th>4</th>\n",
       "      <td>SeAnaZPI+tFdAt+r3lZt/B8PgTp7bcG/1os39u4pLxs=</td>\n",
       "      <td>1</td>\n",
       "      <td>0</td>\n",
       "      <td>NaN</td>\n",
       "      <td>4</td>\n",
       "      <td>20170202</td>\n",
       "      <td>20170205</td>\n",
       "    </tr>\n",
       "    <tr>\n",
       "      <th>5</th>\n",
       "      <td>iSJMDbqVrpRf7DRQoCINa6CzxpEIkHj91X5oqpReC3k=</td>\n",
       "      <td>1</td>\n",
       "      <td>0</td>\n",
       "      <td>NaN</td>\n",
       "      <td>4</td>\n",
       "      <td>20160215</td>\n",
       "      <td>20160218</td>\n",
       "    </tr>\n",
       "    <tr>\n",
       "      <th>6</th>\n",
       "      <td>NNYKvjuUcXHLi40gmdfpVfdlNOuRxQ1uGYVp45Ce/eY=</td>\n",
       "      <td>1</td>\n",
       "      <td>0</td>\n",
       "      <td>NaN</td>\n",
       "      <td>9</td>\n",
       "      <td>20150719</td>\n",
       "      <td>20150720</td>\n",
       "    </tr>\n",
       "    <tr>\n",
       "      <th>7</th>\n",
       "      <td>TA85iK5eP14OHddABVsSlwi4EKTe9sxMBp+9nWsdLq8=</td>\n",
       "      <td>1</td>\n",
       "      <td>40</td>\n",
       "      <td>male</td>\n",
       "      <td>3</td>\n",
       "      <td>20150606</td>\n",
       "      <td>20150615</td>\n",
       "    </tr>\n",
       "    <tr>\n",
       "      <th>8</th>\n",
       "      <td>75rp8sCaeatezkb6c0I133UakcSDuKcc5ia0b0Q+JS4=</td>\n",
       "      <td>1</td>\n",
       "      <td>24</td>\n",
       "      <td>male</td>\n",
       "      <td>3</td>\n",
       "      <td>20151129</td>\n",
       "      <td>20170925</td>\n",
       "    </tr>\n",
       "    <tr>\n",
       "      <th>9</th>\n",
       "      <td>1Nqjt8ykQceNOmuRrh9bcgvicDfLlj+jkgx7+Dd0Rk0=</td>\n",
       "      <td>1</td>\n",
       "      <td>0</td>\n",
       "      <td>NaN</td>\n",
       "      <td>7</td>\n",
       "      <td>20160410</td>\n",
       "      <td>20170909</td>\n",
       "    </tr>\n",
       "  </tbody>\n",
       "</table>\n",
       "</div>"
      ],
      "text/plain": [
       "                                           msno  city  bd  gender  \\\n",
       "0  URiXrfYPzHAlk+7+n7BOMl9G+T7g8JmrSnT/BU8GmEo=     1   0     NaN   \n",
       "1  U1q0qCqK/lDMTD2kN8G9OXMtfuvLCey20OAIPOvXXGQ=     1   0     NaN   \n",
       "2  W6M2H2kAoN9ahfDYKo3J6tmsJRAeuFc9wl1cau5VL1Q=     1   0     NaN   \n",
       "3  1qE5+cN7CUyC+KFH6gBZzMWmM1QpIVW6A43BEm98I/w=     5  17  female   \n",
       "4  SeAnaZPI+tFdAt+r3lZt/B8PgTp7bcG/1os39u4pLxs=     1   0     NaN   \n",
       "5  iSJMDbqVrpRf7DRQoCINa6CzxpEIkHj91X5oqpReC3k=     1   0     NaN   \n",
       "6  NNYKvjuUcXHLi40gmdfpVfdlNOuRxQ1uGYVp45Ce/eY=     1   0     NaN   \n",
       "7  TA85iK5eP14OHddABVsSlwi4EKTe9sxMBp+9nWsdLq8=     1  40    male   \n",
       "8  75rp8sCaeatezkb6c0I133UakcSDuKcc5ia0b0Q+JS4=     1  24    male   \n",
       "9  1Nqjt8ykQceNOmuRrh9bcgvicDfLlj+jkgx7+Dd0Rk0=     1   0     NaN   \n",
       "\n",
       "   registered_via  registration_init_time  expiration_date  \n",
       "0               9                20150525         20150526  \n",
       "1               4                20161221         20161224  \n",
       "2               4                20160306         20160309  \n",
       "3               4                20161031         20161107  \n",
       "4               4                20170202         20170205  \n",
       "5               4                20160215         20160218  \n",
       "6               9                20150719         20150720  \n",
       "7               3                20150606         20150615  \n",
       "8               3                20151129         20170925  \n",
       "9               7                20160410         20170909  "
      ]
     },
     "execution_count": 14,
     "metadata": {},
     "output_type": "execute_result"
    }
   ],
   "source": [
    "members = pd.read_csv('members.csv')\n",
    "members.head(10)"
   ]
  },
  {
   "cell_type": "code",
   "execution_count": 15,
   "metadata": {
    "collapsed": true
   },
   "outputs": [],
   "source": [
    "members = members.sort_values(['msno'],ascending= False).reset_index()"
   ]
  },
  {
   "cell_type": "code",
   "execution_count": 16,
   "metadata": {
    "collapsed": true
   },
   "outputs": [],
   "source": [
    "members = members.drop('index',axis=1)\n"
   ]
  },
  {
   "cell_type": "code",
   "execution_count": 17,
   "metadata": {
    "scrolled": true
   },
   "outputs": [
    {
     "data": {
      "text/plain": [
       "8271"
      ]
     },
     "execution_count": 17,
     "metadata": {},
     "output_type": "execute_result"
    }
   ],
   "source": [
    "members.index[members.msno=='ztKkAYwQCfLuGS33MZwpmXG0TUp8HRxkK871IxOoUaM='][0]"
   ]
  },
  {
   "cell_type": "code",
   "execution_count": 18,
   "metadata": {
    "scrolled": true
   },
   "outputs": [
    {
     "data": {
      "text/plain": [
       "Int64Index([47], dtype='int64')"
      ]
     },
     "execution_count": 18,
     "metadata": {},
     "output_type": "execute_result"
    }
   ],
   "source": [
    "members.index[members.msno=='zzxZeMFx2fjfKZigMnJa2w0EmloDbm8+8nTf/o/00GY=']"
   ]
  },
  {
   "cell_type": "code",
   "execution_count": 19,
   "metadata": {
    "scrolled": true
   },
   "outputs": [
    {
     "data": {
      "text/html": [
       "<div>\n",
       "<style>\n",
       "    .dataframe thead tr:only-child th {\n",
       "        text-align: right;\n",
       "    }\n",
       "\n",
       "    .dataframe thead th {\n",
       "        text-align: left;\n",
       "    }\n",
       "\n",
       "    .dataframe tbody tr th {\n",
       "        vertical-align: top;\n",
       "    }\n",
       "</style>\n",
       "<table border=\"1\" class=\"dataframe\">\n",
       "  <thead>\n",
       "    <tr style=\"text-align: right;\">\n",
       "      <th></th>\n",
       "      <th>msno</th>\n",
       "      <th>city</th>\n",
       "      <th>bd</th>\n",
       "      <th>gender</th>\n",
       "      <th>registered_via</th>\n",
       "      <th>registration_init_time</th>\n",
       "      <th>expiration_date</th>\n",
       "    </tr>\n",
       "  </thead>\n",
       "  <tbody>\n",
       "    <tr>\n",
       "      <th>121069</th>\n",
       "      <td>ySwrLh1f7ifxL9KJjlSNk6fQ8RWebZirK9DHwgCVvGw=</td>\n",
       "      <td>12</td>\n",
       "      <td>25</td>\n",
       "      <td>female</td>\n",
       "      <td>9</td>\n",
       "      <td>20100804</td>\n",
       "      <td>20170205</td>\n",
       "    </tr>\n",
       "  </tbody>\n",
       "</table>\n",
       "</div>"
      ],
      "text/plain": [
       "                                                msno  city  bd  gender  \\\n",
       "121069  ySwrLh1f7ifxL9KJjlSNk6fQ8RWebZirK9DHwgCVvGw=    12  25  female   \n",
       "\n",
       "        registered_via  registration_init_time  expiration_date  \n",
       "121069               9                20100804         20170205  "
      ]
     },
     "execution_count": 19,
     "metadata": {},
     "output_type": "execute_result"
    }
   ],
   "source": [
    "members[members.msno=='ySwrLh1f7ifxL9KJjlSNk6fQ8RWebZirK9DHwgCVvGw=']"
   ]
  },
  {
   "cell_type": "code",
   "execution_count": 20,
   "metadata": {},
   "outputs": [
    {
     "data": {
      "text/html": [
       "<div>\n",
       "<style>\n",
       "    .dataframe thead tr:only-child th {\n",
       "        text-align: right;\n",
       "    }\n",
       "\n",
       "    .dataframe thead th {\n",
       "        text-align: left;\n",
       "    }\n",
       "\n",
       "    .dataframe tbody tr th {\n",
       "        vertical-align: top;\n",
       "    }\n",
       "</style>\n",
       "<table border=\"1\" class=\"dataframe\">\n",
       "  <thead>\n",
       "    <tr style=\"text-align: right;\">\n",
       "      <th></th>\n",
       "      <th>msno</th>\n",
       "      <th>city</th>\n",
       "      <th>bd</th>\n",
       "      <th>gender</th>\n",
       "      <th>registered_via</th>\n",
       "      <th>registration_init_time</th>\n",
       "      <th>expiration_date</th>\n",
       "    </tr>\n",
       "  </thead>\n",
       "  <tbody>\n",
       "    <tr>\n",
       "      <th>145661</th>\n",
       "      <td>y9HCJ3cXWVi042BpzlL0zaJFqm5OwWAguVWxDPrWiYQ=</td>\n",
       "      <td>1</td>\n",
       "      <td>0</td>\n",
       "      <td>NaN</td>\n",
       "      <td>7</td>\n",
       "      <td>20140104</td>\n",
       "      <td>20170923</td>\n",
       "    </tr>\n",
       "  </tbody>\n",
       "</table>\n",
       "</div>"
      ],
      "text/plain": [
       "                                                msno  city  bd gender  \\\n",
       "145661  y9HCJ3cXWVi042BpzlL0zaJFqm5OwWAguVWxDPrWiYQ=     1   0    NaN   \n",
       "\n",
       "        registered_via  registration_init_time  expiration_date  \n",
       "145661               7                20140104         20170923  "
      ]
     },
     "execution_count": 20,
     "metadata": {},
     "output_type": "execute_result"
    }
   ],
   "source": [
    "members[members.msno=='y9HCJ3cXWVi042BpzlL0zaJFqm5OwWAguVWxDPrWiYQ=']"
   ]
  },
  {
   "cell_type": "code",
   "execution_count": null,
   "metadata": {
    "collapsed": true
   },
   "outputs": [],
   "source": []
  },
  {
   "cell_type": "code",
   "execution_count": 21,
   "metadata": {},
   "outputs": [
    {
     "data": {
      "text/plain": [
       "msno                      ztKkAYwQCfLuGS33MZwpmXG0TUp8HRxkK871IxOoUaM=\n",
       "city                                                                13\n",
       "bd                                                                  18\n",
       "gender                                                            male\n",
       "registered_via                                                       3\n",
       "registration_init_time                                        20151029\n",
       "expiration_date                                               20170907\n",
       "Name: 8271, dtype: object"
      ]
     },
     "execution_count": 21,
     "metadata": {},
     "output_type": "execute_result"
    }
   ],
   "source": [
    "members_check = members.iloc[0:8272]\n",
    "members_check.iloc[8271]"
   ]
  },
  {
   "cell_type": "code",
   "execution_count": 22,
   "metadata": {
    "collapsed": true
   },
   "outputs": [],
   "source": [
    "churn_zeros_check = churn_zeros.iloc[0:3]"
   ]
  },
  {
   "cell_type": "code",
   "execution_count": 23,
   "metadata": {},
   "outputs": [
    {
     "data": {
      "text/plain": [
       "msno        zzzN9thH22os1dRS0VHReY/8FTfGHOi86//d+wGGFsQ=\n",
       "is_churn                                               1\n",
       "Name: 0, dtype: object"
      ]
     },
     "execution_count": 23,
     "metadata": {},
     "output_type": "execute_result"
    }
   ],
   "source": [
    "churn_all = churn_zeros.append(churn_ones)\n",
    "churn_all.iloc[1500]"
   ]
  },
  {
   "cell_type": "code",
   "execution_count": null,
   "metadata": {
    "collapsed": true
   },
   "outputs": [],
   "source": []
  },
  {
   "cell_type": "code",
   "execution_count": 24,
   "metadata": {
    "collapsed": true
   },
   "outputs": [],
   "source": [
    "churn_all.to_csv(\"churn_all.csv\",index=False)"
   ]
  },
  {
   "cell_type": "code",
   "execution_count": null,
   "metadata": {
    "collapsed": true
   },
   "outputs": [],
   "source": []
  },
  {
   "cell_type": "code",
   "execution_count": 25,
   "metadata": {},
   "outputs": [],
   "source": [
    "churn_members_zero = pd.merge(left = churn_zeros,right = members_check,how = 'left',on=['msno'])"
   ]
  },
  {
   "cell_type": "code",
   "execution_count": 26,
   "metadata": {},
   "outputs": [
    {
     "data": {
      "text/plain": [
       "msno                      ySwrLh1f7ifxL9KJjlSNk6fQ8RWebZirK9DHwgCVvGw=\n",
       "city                                                                12\n",
       "bd                                                                  25\n",
       "gender                                                          female\n",
       "registered_via                                                       9\n",
       "registration_init_time                                        20100804\n",
       "expiration_date                                               20170205\n",
       "Name: 121069, dtype: object"
      ]
     },
     "execution_count": 26,
     "metadata": {},
     "output_type": "execute_result"
    }
   ],
   "source": [
    "members_check = members.iloc[0:121070]\n",
    "members_check.iloc[121069]"
   ]
  },
  {
   "cell_type": "code",
   "execution_count": 27,
   "metadata": {
    "collapsed": true
   },
   "outputs": [],
   "source": [
    "churn_members_all = pd.merge(left = churn_all,right = members_check,how = 'left',on=['msno'])"
   ]
  },
  {
   "cell_type": "code",
   "execution_count": null,
   "metadata": {
    "collapsed": true
   },
   "outputs": [],
   "source": []
  },
  {
   "cell_type": "markdown",
   "metadata": {},
   "source": [
    "### Вот она"
   ]
  },
  {
   "cell_type": "code",
   "execution_count": 28,
   "metadata": {},
   "outputs": [
    {
     "data": {
      "text/html": [
       "<div>\n",
       "<style>\n",
       "    .dataframe thead tr:only-child th {\n",
       "        text-align: right;\n",
       "    }\n",
       "\n",
       "    .dataframe thead th {\n",
       "        text-align: left;\n",
       "    }\n",
       "\n",
       "    .dataframe tbody tr th {\n",
       "        vertical-align: top;\n",
       "    }\n",
       "</style>\n",
       "<table border=\"1\" class=\"dataframe\">\n",
       "  <thead>\n",
       "    <tr style=\"text-align: right;\">\n",
       "      <th></th>\n",
       "      <th>msno</th>\n",
       "      <th>is_churn</th>\n",
       "      <th>city</th>\n",
       "      <th>bd</th>\n",
       "      <th>gender</th>\n",
       "      <th>registered_via</th>\n",
       "      <th>registration_init_time</th>\n",
       "      <th>expiration_date</th>\n",
       "    </tr>\n",
       "  </thead>\n",
       "  <tbody>\n",
       "    <tr>\n",
       "      <th>0</th>\n",
       "      <td>zzz1Dc3P9s53HAowRTrm3fNsWju5yeN4YBfNDq7Z99Q=</td>\n",
       "      <td>0</td>\n",
       "      <td>4.0</td>\n",
       "      <td>48.0</td>\n",
       "      <td>female</td>\n",
       "      <td>9.0</td>\n",
       "      <td>20140611.0</td>\n",
       "      <td>20170924.0</td>\n",
       "    </tr>\n",
       "    <tr>\n",
       "      <th>1</th>\n",
       "      <td>zzxi7n5xoTYo9Q3VTygLWvl/rBDcexwaeAry0yK7Q0E=</td>\n",
       "      <td>0</td>\n",
       "      <td>NaN</td>\n",
       "      <td>NaN</td>\n",
       "      <td>NaN</td>\n",
       "      <td>NaN</td>\n",
       "      <td>NaN</td>\n",
       "      <td>NaN</td>\n",
       "    </tr>\n",
       "    <tr>\n",
       "      <th>2</th>\n",
       "      <td>zzxZeMFx2fjfKZigMnJa2w0EmloDbm8+8nTf/o/00GY=</td>\n",
       "      <td>0</td>\n",
       "      <td>4.0</td>\n",
       "      <td>24.0</td>\n",
       "      <td>male</td>\n",
       "      <td>7.0</td>\n",
       "      <td>20120306.0</td>\n",
       "      <td>20170930.0</td>\n",
       "    </tr>\n",
       "    <tr>\n",
       "      <th>3</th>\n",
       "      <td>zzxPS8+wCuE4HE85EDp4WBHgS5l548vfwXJbQq1HZ9I=</td>\n",
       "      <td>0</td>\n",
       "      <td>22.0</td>\n",
       "      <td>27.0</td>\n",
       "      <td>female</td>\n",
       "      <td>9.0</td>\n",
       "      <td>20070810.0</td>\n",
       "      <td>20171010.0</td>\n",
       "    </tr>\n",
       "    <tr>\n",
       "      <th>4</th>\n",
       "      <td>zzx4hKiyR9XFEGAr7SAjcCPbKJCZ+IqegWL7dPjPwZk=</td>\n",
       "      <td>0</td>\n",
       "      <td>1.0</td>\n",
       "      <td>0.0</td>\n",
       "      <td>NaN</td>\n",
       "      <td>7.0</td>\n",
       "      <td>20110823.0</td>\n",
       "      <td>20170919.0</td>\n",
       "    </tr>\n",
       "  </tbody>\n",
       "</table>\n",
       "</div>"
      ],
      "text/plain": [
       "                                           msno  is_churn  city    bd  gender  \\\n",
       "0  zzz1Dc3P9s53HAowRTrm3fNsWju5yeN4YBfNDq7Z99Q=         0   4.0  48.0  female   \n",
       "1  zzxi7n5xoTYo9Q3VTygLWvl/rBDcexwaeAry0yK7Q0E=         0   NaN   NaN     NaN   \n",
       "2  zzxZeMFx2fjfKZigMnJa2w0EmloDbm8+8nTf/o/00GY=         0   4.0  24.0    male   \n",
       "3  zzxPS8+wCuE4HE85EDp4WBHgS5l548vfwXJbQq1HZ9I=         0  22.0  27.0  female   \n",
       "4  zzx4hKiyR9XFEGAr7SAjcCPbKJCZ+IqegWL7dPjPwZk=         0   1.0   0.0     NaN   \n",
       "\n",
       "   registered_via  registration_init_time  expiration_date  \n",
       "0             9.0              20140611.0       20170924.0  \n",
       "1             NaN                     NaN              NaN  \n",
       "2             7.0              20120306.0       20170930.0  \n",
       "3             9.0              20070810.0       20171010.0  \n",
       "4             7.0              20110823.0       20170919.0  "
      ]
     },
     "execution_count": 28,
     "metadata": {},
     "output_type": "execute_result"
    }
   ],
   "source": [
    "churn_members_all.head()"
   ]
  },
  {
   "cell_type": "code",
   "execution_count": null,
   "metadata": {
    "collapsed": true
   },
   "outputs": [],
   "source": []
  },
  {
   "cell_type": "code",
   "execution_count": 29,
   "metadata": {
    "collapsed": true
   },
   "outputs": [],
   "source": [
    "churn_members_all.to_csv('churn_members_all.csv', index=False)"
   ]
  },
  {
   "cell_type": "code",
   "execution_count": null,
   "metadata": {
    "collapsed": true
   },
   "outputs": [],
   "source": []
  },
  {
   "cell_type": "code",
   "execution_count": null,
   "metadata": {
    "collapsed": true
   },
   "outputs": [],
   "source": []
  },
  {
   "cell_type": "markdown",
   "metadata": {},
   "source": [
    "# Таблица Транзакции"
   ]
  },
  {
   "cell_type": "code",
   "execution_count": 30,
   "metadata": {},
   "outputs": [
    {
     "data": {
      "text/html": [
       "<div>\n",
       "<style>\n",
       "    .dataframe thead tr:only-child th {\n",
       "        text-align: right;\n",
       "    }\n",
       "\n",
       "    .dataframe thead th {\n",
       "        text-align: left;\n",
       "    }\n",
       "\n",
       "    .dataframe tbody tr th {\n",
       "        vertical-align: top;\n",
       "    }\n",
       "</style>\n",
       "<table border=\"1\" class=\"dataframe\">\n",
       "  <thead>\n",
       "    <tr style=\"text-align: right;\">\n",
       "      <th></th>\n",
       "      <th>msno</th>\n",
       "      <th>payment_method_id</th>\n",
       "      <th>payment_plan_days</th>\n",
       "      <th>plan_list_price</th>\n",
       "      <th>actual_amount_paid</th>\n",
       "      <th>is_auto_renew</th>\n",
       "      <th>transaction_date</th>\n",
       "      <th>membership_expire_date</th>\n",
       "      <th>is_cancel</th>\n",
       "    </tr>\n",
       "  </thead>\n",
       "  <tbody>\n",
       "    <tr>\n",
       "      <th>0</th>\n",
       "      <td>zZZZfd3Qx+k7ArK539JBMYbvQe2PH1ZBUOwQ0moQLMQ=</td>\n",
       "      <td>35</td>\n",
       "      <td>7</td>\n",
       "      <td>0</td>\n",
       "      <td>0</td>\n",
       "      <td>0</td>\n",
       "      <td>20150614</td>\n",
       "      <td>20150615</td>\n",
       "      <td>0</td>\n",
       "    </tr>\n",
       "    <tr>\n",
       "      <th>1</th>\n",
       "      <td>zZZyQL3tSAMRrBkh9UnGPfJOweR7RG6HNmitaxytxF4=</td>\n",
       "      <td>41</td>\n",
       "      <td>30</td>\n",
       "      <td>149</td>\n",
       "      <td>149</td>\n",
       "      <td>1</td>\n",
       "      <td>20170228</td>\n",
       "      <td>20170331</td>\n",
       "      <td>0</td>\n",
       "    </tr>\n",
       "    <tr>\n",
       "      <th>2</th>\n",
       "      <td>zZZyQL3tSAMRrBkh9UnGPfJOweR7RG6HNmitaxytxF4=</td>\n",
       "      <td>41</td>\n",
       "      <td>30</td>\n",
       "      <td>149</td>\n",
       "      <td>149</td>\n",
       "      <td>1</td>\n",
       "      <td>20161231</td>\n",
       "      <td>20170131</td>\n",
       "      <td>0</td>\n",
       "    </tr>\n",
       "    <tr>\n",
       "      <th>3</th>\n",
       "      <td>zZzyke0gnsUO8aW+HamXQu89ceD+cN8ZPvwbGq2VDZQ=</td>\n",
       "      <td>35</td>\n",
       "      <td>7</td>\n",
       "      <td>0</td>\n",
       "      <td>0</td>\n",
       "      <td>0</td>\n",
       "      <td>20161028</td>\n",
       "      <td>20161104</td>\n",
       "      <td>0</td>\n",
       "    </tr>\n",
       "    <tr>\n",
       "      <th>4</th>\n",
       "      <td>ZzZy7KsaHCX2bg/V+vpXGnaX3TD5wSMHmCu2ofc9KQk=</td>\n",
       "      <td>41</td>\n",
       "      <td>30</td>\n",
       "      <td>149</td>\n",
       "      <td>149</td>\n",
       "      <td>1</td>\n",
       "      <td>20150731</td>\n",
       "      <td>20150831</td>\n",
       "      <td>0</td>\n",
       "    </tr>\n",
       "    <tr>\n",
       "      <th>5</th>\n",
       "      <td>ZzZUBNTfeYQ9AN4uSgmNNdeq96PyMN/n2RejpvvLb/o=</td>\n",
       "      <td>39</td>\n",
       "      <td>30</td>\n",
       "      <td>149</td>\n",
       "      <td>149</td>\n",
       "      <td>1</td>\n",
       "      <td>20151202</td>\n",
       "      <td>20160107</td>\n",
       "      <td>0</td>\n",
       "    </tr>\n",
       "    <tr>\n",
       "      <th>6</th>\n",
       "      <td>ZzZUBNTfeYQ9AN4uSgmNNdeq96PyMN/n2RejpvvLb/o=</td>\n",
       "      <td>39</td>\n",
       "      <td>30</td>\n",
       "      <td>149</td>\n",
       "      <td>149</td>\n",
       "      <td>1</td>\n",
       "      <td>20151102</td>\n",
       "      <td>20151207</td>\n",
       "      <td>0</td>\n",
       "    </tr>\n",
       "    <tr>\n",
       "      <th>7</th>\n",
       "      <td>ZzZUBNTfeYQ9AN4uSgmNNdeq96PyMN/n2RejpvvLb/o=</td>\n",
       "      <td>39</td>\n",
       "      <td>0</td>\n",
       "      <td>0</td>\n",
       "      <td>149</td>\n",
       "      <td>1</td>\n",
       "      <td>20150430</td>\n",
       "      <td>20150607</td>\n",
       "      <td>0</td>\n",
       "    </tr>\n",
       "    <tr>\n",
       "      <th>8</th>\n",
       "      <td>ZZZRvYZ7Izi/gzjzHrU9M0NWF8C2orFQjEQ4xnd2jMw=</td>\n",
       "      <td>38</td>\n",
       "      <td>30</td>\n",
       "      <td>149</td>\n",
       "      <td>149</td>\n",
       "      <td>0</td>\n",
       "      <td>20170215</td>\n",
       "      <td>20170317</td>\n",
       "      <td>0</td>\n",
       "    </tr>\n",
       "    <tr>\n",
       "      <th>9</th>\n",
       "      <td>ZzZQqFJCdGK1z/56Rrx89cgYBDTZkvS/uH5n+BR+ZqA=</td>\n",
       "      <td>41</td>\n",
       "      <td>30</td>\n",
       "      <td>129</td>\n",
       "      <td>129</td>\n",
       "      <td>1</td>\n",
       "      <td>20161119</td>\n",
       "      <td>20161220</td>\n",
       "      <td>0</td>\n",
       "    </tr>\n",
       "  </tbody>\n",
       "</table>\n",
       "</div>"
      ],
      "text/plain": [
       "                                           msno  payment_method_id  \\\n",
       "0  zZZZfd3Qx+k7ArK539JBMYbvQe2PH1ZBUOwQ0moQLMQ=                 35   \n",
       "1  zZZyQL3tSAMRrBkh9UnGPfJOweR7RG6HNmitaxytxF4=                 41   \n",
       "2  zZZyQL3tSAMRrBkh9UnGPfJOweR7RG6HNmitaxytxF4=                 41   \n",
       "3  zZzyke0gnsUO8aW+HamXQu89ceD+cN8ZPvwbGq2VDZQ=                 35   \n",
       "4  ZzZy7KsaHCX2bg/V+vpXGnaX3TD5wSMHmCu2ofc9KQk=                 41   \n",
       "5  ZzZUBNTfeYQ9AN4uSgmNNdeq96PyMN/n2RejpvvLb/o=                 39   \n",
       "6  ZzZUBNTfeYQ9AN4uSgmNNdeq96PyMN/n2RejpvvLb/o=                 39   \n",
       "7  ZzZUBNTfeYQ9AN4uSgmNNdeq96PyMN/n2RejpvvLb/o=                 39   \n",
       "8  ZZZRvYZ7Izi/gzjzHrU9M0NWF8C2orFQjEQ4xnd2jMw=                 38   \n",
       "9  ZzZQqFJCdGK1z/56Rrx89cgYBDTZkvS/uH5n+BR+ZqA=                 41   \n",
       "\n",
       "   payment_plan_days  plan_list_price  actual_amount_paid  is_auto_renew  \\\n",
       "0                  7                0                   0              0   \n",
       "1                 30              149                 149              1   \n",
       "2                 30              149                 149              1   \n",
       "3                  7                0                   0              0   \n",
       "4                 30              149                 149              1   \n",
       "5                 30              149                 149              1   \n",
       "6                 30              149                 149              1   \n",
       "7                  0                0                 149              1   \n",
       "8                 30              149                 149              0   \n",
       "9                 30              129                 129              1   \n",
       "\n",
       "   transaction_date  membership_expire_date  is_cancel  \n",
       "0          20150614                20150615          0  \n",
       "1          20170228                20170331          0  \n",
       "2          20161231                20170131          0  \n",
       "3          20161028                20161104          0  \n",
       "4          20150731                20150831          0  \n",
       "5          20151202                20160107          0  \n",
       "6          20151102                20151207          0  \n",
       "7          20150430                20150607          0  \n",
       "8          20170215                20170317          0  \n",
       "9          20161119                20161220          0  "
      ]
     },
     "execution_count": 30,
     "metadata": {},
     "output_type": "execute_result"
    }
   ],
   "source": [
    "transactions = pd.read_csv('transactions2.csv')\n",
    "transactions.head(10)"
   ]
  },
  {
   "cell_type": "code",
   "execution_count": 33,
   "metadata": {
    "collapsed": true
   },
   "outputs": [],
   "source": [
    "transactions = transactions.sort_values(['msno'],ascending= False).reset_index()\n",
    "transactions = transactions.drop('index',axis=1)"
   ]
  },
  {
   "cell_type": "code",
   "execution_count": 34,
   "metadata": {},
   "outputs": [
    {
     "data": {
      "text/plain": [
       "Int64Index([42234, 42235], dtype='int64')"
      ]
     },
     "execution_count": 34,
     "metadata": {},
     "output_type": "execute_result"
    }
   ],
   "source": [
    "transactions.index[transactions.msno == 'ySwrLh1f7ifxL9KJjlSNk6fQ8RWebZirK9DHwgCVvGw=']"
   ]
  },
  {
   "cell_type": "code",
   "execution_count": 36,
   "metadata": {},
   "outputs": [
    {
     "data": {
      "text/html": [
       "<div>\n",
       "<style>\n",
       "    .dataframe thead tr:only-child th {\n",
       "        text-align: right;\n",
       "    }\n",
       "\n",
       "    .dataframe thead th {\n",
       "        text-align: left;\n",
       "    }\n",
       "\n",
       "    .dataframe tbody tr th {\n",
       "        vertical-align: top;\n",
       "    }\n",
       "</style>\n",
       "<table border=\"1\" class=\"dataframe\">\n",
       "  <thead>\n",
       "    <tr style=\"text-align: right;\">\n",
       "      <th></th>\n",
       "      <th>msno</th>\n",
       "      <th>payment_method_id</th>\n",
       "      <th>payment_plan_days</th>\n",
       "      <th>plan_list_price</th>\n",
       "      <th>actual_amount_paid</th>\n",
       "      <th>is_auto_renew</th>\n",
       "      <th>transaction_date</th>\n",
       "      <th>membership_expire_date</th>\n",
       "      <th>is_cancel</th>\n",
       "    </tr>\n",
       "  </thead>\n",
       "  <tbody>\n",
       "  </tbody>\n",
       "</table>\n",
       "</div>"
      ],
      "text/plain": [
       "Empty DataFrame\n",
       "Columns: [msno, payment_method_id, payment_plan_days, plan_list_price, actual_amount_paid, is_auto_renew, transaction_date, membership_expire_date, is_cancel]\n",
       "Index: []"
      ]
     },
     "execution_count": 36,
     "metadata": {},
     "output_type": "execute_result"
    }
   ],
   "source": [
    "transactions[transactions.msno == 'zzxi7n5xoTYo9Q3VTygLWvl/rBDcexwaeAry0yK7Q0E=']"
   ]
  },
  {
   "cell_type": "code",
   "execution_count": 37,
   "metadata": {
    "collapsed": true
   },
   "outputs": [],
   "source": [
    "transactions = transactions.iloc[0:42236]"
   ]
  },
  {
   "cell_type": "code",
   "execution_count": 38,
   "metadata": {},
   "outputs": [
    {
     "data": {
      "text/plain": [
       "msno                      ySwrLh1f7ifxL9KJjlSNk6fQ8RWebZirK9DHwgCVvGw=\n",
       "payment_method_id                                                   35\n",
       "payment_plan_days                                                    7\n",
       "plan_list_price                                                      0\n",
       "actual_amount_paid                                                   0\n",
       "is_auto_renew                                                        0\n",
       "transaction_date                                              20160714\n",
       "membership_expire_date                                        20170205\n",
       "is_cancel                                                            0\n",
       "Name: 42235, dtype: object"
      ]
     },
     "execution_count": 38,
     "metadata": {},
     "output_type": "execute_result"
    }
   ],
   "source": [
    "transactions.iloc[42235]"
   ]
  },
  {
   "cell_type": "code",
   "execution_count": 39,
   "metadata": {
    "collapsed": true
   },
   "outputs": [],
   "source": [
    "msno_all = churn_members_all.msno.values"
   ]
  },
  {
   "cell_type": "code",
   "execution_count": 40,
   "metadata": {},
   "outputs": [
    {
     "data": {
      "text/plain": [
       "(3000,)"
      ]
     },
     "execution_count": 40,
     "metadata": {},
     "output_type": "execute_result"
    }
   ],
   "source": [
    "msno_all.shape"
   ]
  },
  {
   "cell_type": "code",
   "execution_count": 41,
   "metadata": {
    "collapsed": true
   },
   "outputs": [],
   "source": [
    "transactions_all = transactions[transactions['msno'].isin(msno_all)].reset_index()"
   ]
  },
  {
   "cell_type": "code",
   "execution_count": 42,
   "metadata": {
    "collapsed": true
   },
   "outputs": [],
   "source": [
    "transactions_all = transactions_all.drop('index',axis=1)"
   ]
  },
  {
   "cell_type": "code",
   "execution_count": 43,
   "metadata": {},
   "outputs": [
    {
     "data": {
      "text/plain": [
       "(3798, 9)"
      ]
     },
     "execution_count": 43,
     "metadata": {},
     "output_type": "execute_result"
    }
   ],
   "source": [
    "transactions_all.shape"
   ]
  },
  {
   "cell_type": "code",
   "execution_count": null,
   "metadata": {
    "collapsed": true
   },
   "outputs": [],
   "source": []
  },
  {
   "cell_type": "code",
   "execution_count": null,
   "metadata": {
    "collapsed": true
   },
   "outputs": [],
   "source": []
  },
  {
   "cell_type": "code",
   "execution_count": 44,
   "metadata": {
    "collapsed": true
   },
   "outputs": [],
   "source": [
    "transactions_all.to_csv('transactions_all.csv', index=False)"
   ]
  },
  {
   "cell_type": "code",
   "execution_count": 45,
   "metadata": {
    "collapsed": true
   },
   "outputs": [],
   "source": [
    "df = pd.read_csv('transactions_all.csv')"
   ]
  },
  {
   "cell_type": "code",
   "execution_count": null,
   "metadata": {
    "collapsed": true
   },
   "outputs": [],
   "source": []
  },
  {
   "cell_type": "markdown",
   "metadata": {},
   "source": [
    "## Вот она"
   ]
  },
  {
   "cell_type": "code",
   "execution_count": 46,
   "metadata": {},
   "outputs": [
    {
     "data": {
      "text/html": [
       "<div>\n",
       "<style>\n",
       "    .dataframe thead tr:only-child th {\n",
       "        text-align: right;\n",
       "    }\n",
       "\n",
       "    .dataframe thead th {\n",
       "        text-align: left;\n",
       "    }\n",
       "\n",
       "    .dataframe tbody tr th {\n",
       "        vertical-align: top;\n",
       "    }\n",
       "</style>\n",
       "<table border=\"1\" class=\"dataframe\">\n",
       "  <thead>\n",
       "    <tr style=\"text-align: right;\">\n",
       "      <th></th>\n",
       "      <th>msno</th>\n",
       "      <th>payment_method_id</th>\n",
       "      <th>payment_plan_days</th>\n",
       "      <th>plan_list_price</th>\n",
       "      <th>actual_amount_paid</th>\n",
       "      <th>is_auto_renew</th>\n",
       "      <th>transaction_date</th>\n",
       "      <th>membership_expire_date</th>\n",
       "      <th>is_cancel</th>\n",
       "    </tr>\n",
       "  </thead>\n",
       "  <tbody>\n",
       "    <tr>\n",
       "      <th>0</th>\n",
       "      <td>zzzN9thH22os1dRS0VHReY/8FTfGHOi86//d+wGGFsQ=</td>\n",
       "      <td>41</td>\n",
       "      <td>30</td>\n",
       "      <td>99</td>\n",
       "      <td>99</td>\n",
       "      <td>1</td>\n",
       "      <td>20161104</td>\n",
       "      <td>20161204</td>\n",
       "      <td>0</td>\n",
       "    </tr>\n",
       "    <tr>\n",
       "      <th>1</th>\n",
       "      <td>zzzN9thH22os1dRS0VHReY/8FTfGHOi86//d+wGGFsQ=</td>\n",
       "      <td>41</td>\n",
       "      <td>30</td>\n",
       "      <td>99</td>\n",
       "      <td>99</td>\n",
       "      <td>1</td>\n",
       "      <td>20161104</td>\n",
       "      <td>20161204</td>\n",
       "      <td>0</td>\n",
       "    </tr>\n",
       "    <tr>\n",
       "      <th>2</th>\n",
       "      <td>zzxZeMFx2fjfKZigMnJa2w0EmloDbm8+8nTf/o/00GY=</td>\n",
       "      <td>41</td>\n",
       "      <td>30</td>\n",
       "      <td>99</td>\n",
       "      <td>99</td>\n",
       "      <td>1</td>\n",
       "      <td>20161226</td>\n",
       "      <td>20170126</td>\n",
       "      <td>0</td>\n",
       "    </tr>\n",
       "    <tr>\n",
       "      <th>3</th>\n",
       "      <td>zzxZeMFx2fjfKZigMnJa2w0EmloDbm8+8nTf/o/00GY=</td>\n",
       "      <td>41</td>\n",
       "      <td>30</td>\n",
       "      <td>99</td>\n",
       "      <td>99</td>\n",
       "      <td>1</td>\n",
       "      <td>20161226</td>\n",
       "      <td>20170126</td>\n",
       "      <td>0</td>\n",
       "    </tr>\n",
       "    <tr>\n",
       "      <th>4</th>\n",
       "      <td>zzxZeMFx2fjfKZigMnJa2w0EmloDbm8+8nTf/o/00GY=</td>\n",
       "      <td>41</td>\n",
       "      <td>30</td>\n",
       "      <td>99</td>\n",
       "      <td>99</td>\n",
       "      <td>1</td>\n",
       "      <td>20160127</td>\n",
       "      <td>20160226</td>\n",
       "      <td>0</td>\n",
       "    </tr>\n",
       "    <tr>\n",
       "      <th>5</th>\n",
       "      <td>zzxZeMFx2fjfKZigMnJa2w0EmloDbm8+8nTf/o/00GY=</td>\n",
       "      <td>41</td>\n",
       "      <td>30</td>\n",
       "      <td>99</td>\n",
       "      <td>99</td>\n",
       "      <td>1</td>\n",
       "      <td>20160127</td>\n",
       "      <td>20160226</td>\n",
       "      <td>0</td>\n",
       "    </tr>\n",
       "    <tr>\n",
       "      <th>6</th>\n",
       "      <td>zzxZeMFx2fjfKZigMnJa2w0EmloDbm8+8nTf/o/00GY=</td>\n",
       "      <td>41</td>\n",
       "      <td>30</td>\n",
       "      <td>149</td>\n",
       "      <td>149</td>\n",
       "      <td>1</td>\n",
       "      <td>20150610</td>\n",
       "      <td>20150710</td>\n",
       "      <td>0</td>\n",
       "    </tr>\n",
       "    <tr>\n",
       "      <th>7</th>\n",
       "      <td>zzxZeMFx2fjfKZigMnJa2w0EmloDbm8+8nTf/o/00GY=</td>\n",
       "      <td>41</td>\n",
       "      <td>30</td>\n",
       "      <td>149</td>\n",
       "      <td>149</td>\n",
       "      <td>1</td>\n",
       "      <td>20150610</td>\n",
       "      <td>20150710</td>\n",
       "      <td>0</td>\n",
       "    </tr>\n",
       "    <tr>\n",
       "      <th>8</th>\n",
       "      <td>zzxPS8+wCuE4HE85EDp4WBHgS5l548vfwXJbQq1HZ9I=</td>\n",
       "      <td>39</td>\n",
       "      <td>30</td>\n",
       "      <td>149</td>\n",
       "      <td>149</td>\n",
       "      <td>1</td>\n",
       "      <td>20161130</td>\n",
       "      <td>20170110</td>\n",
       "      <td>0</td>\n",
       "    </tr>\n",
       "    <tr>\n",
       "      <th>9</th>\n",
       "      <td>zzxPS8+wCuE4HE85EDp4WBHgS5l548vfwXJbQq1HZ9I=</td>\n",
       "      <td>39</td>\n",
       "      <td>0</td>\n",
       "      <td>0</td>\n",
       "      <td>149</td>\n",
       "      <td>1</td>\n",
       "      <td>20150430</td>\n",
       "      <td>20150610</td>\n",
       "      <td>0</td>\n",
       "    </tr>\n",
       "  </tbody>\n",
       "</table>\n",
       "</div>"
      ],
      "text/plain": [
       "                                           msno  payment_method_id  \\\n",
       "0  zzzN9thH22os1dRS0VHReY/8FTfGHOi86//d+wGGFsQ=                 41   \n",
       "1  zzzN9thH22os1dRS0VHReY/8FTfGHOi86//d+wGGFsQ=                 41   \n",
       "2  zzxZeMFx2fjfKZigMnJa2w0EmloDbm8+8nTf/o/00GY=                 41   \n",
       "3  zzxZeMFx2fjfKZigMnJa2w0EmloDbm8+8nTf/o/00GY=                 41   \n",
       "4  zzxZeMFx2fjfKZigMnJa2w0EmloDbm8+8nTf/o/00GY=                 41   \n",
       "5  zzxZeMFx2fjfKZigMnJa2w0EmloDbm8+8nTf/o/00GY=                 41   \n",
       "6  zzxZeMFx2fjfKZigMnJa2w0EmloDbm8+8nTf/o/00GY=                 41   \n",
       "7  zzxZeMFx2fjfKZigMnJa2w0EmloDbm8+8nTf/o/00GY=                 41   \n",
       "8  zzxPS8+wCuE4HE85EDp4WBHgS5l548vfwXJbQq1HZ9I=                 39   \n",
       "9  zzxPS8+wCuE4HE85EDp4WBHgS5l548vfwXJbQq1HZ9I=                 39   \n",
       "\n",
       "   payment_plan_days  plan_list_price  actual_amount_paid  is_auto_renew  \\\n",
       "0                 30               99                  99              1   \n",
       "1                 30               99                  99              1   \n",
       "2                 30               99                  99              1   \n",
       "3                 30               99                  99              1   \n",
       "4                 30               99                  99              1   \n",
       "5                 30               99                  99              1   \n",
       "6                 30              149                 149              1   \n",
       "7                 30              149                 149              1   \n",
       "8                 30              149                 149              1   \n",
       "9                  0                0                 149              1   \n",
       "\n",
       "   transaction_date  membership_expire_date  is_cancel  \n",
       "0          20161104                20161204          0  \n",
       "1          20161104                20161204          0  \n",
       "2          20161226                20170126          0  \n",
       "3          20161226                20170126          0  \n",
       "4          20160127                20160226          0  \n",
       "5          20160127                20160226          0  \n",
       "6          20150610                20150710          0  \n",
       "7          20150610                20150710          0  \n",
       "8          20161130                20170110          0  \n",
       "9          20150430                20150610          0  "
      ]
     },
     "execution_count": 46,
     "metadata": {},
     "output_type": "execute_result"
    }
   ],
   "source": [
    "df.head(10)"
   ]
  },
  {
   "cell_type": "code",
   "execution_count": null,
   "metadata": {
    "collapsed": true
   },
   "outputs": [],
   "source": []
  },
  {
   "cell_type": "markdown",
   "metadata": {},
   "source": [
    "# Таблица Юзер Логс"
   ]
  },
  {
   "cell_type": "code",
   "execution_count": 47,
   "metadata": {},
   "outputs": [
    {
     "data": {
      "text/html": [
       "<div>\n",
       "<style>\n",
       "    .dataframe thead tr:only-child th {\n",
       "        text-align: right;\n",
       "    }\n",
       "\n",
       "    .dataframe thead th {\n",
       "        text-align: left;\n",
       "    }\n",
       "\n",
       "    .dataframe tbody tr th {\n",
       "        vertical-align: top;\n",
       "    }\n",
       "</style>\n",
       "<table border=\"1\" class=\"dataframe\">\n",
       "  <thead>\n",
       "    <tr style=\"text-align: right;\">\n",
       "      <th></th>\n",
       "      <th>msno</th>\n",
       "      <th>date</th>\n",
       "      <th>num_25</th>\n",
       "      <th>num_50</th>\n",
       "      <th>num_75</th>\n",
       "      <th>num_985</th>\n",
       "      <th>num_100</th>\n",
       "      <th>num_unq</th>\n",
       "      <th>total_secs</th>\n",
       "    </tr>\n",
       "  </thead>\n",
       "  <tbody>\n",
       "    <tr>\n",
       "      <th>0</th>\n",
       "      <td>zZZvjmfSMVyV5Ub7KSgdoRsVe7+FFPE89fu7aX8PD9w=</td>\n",
       "      <td>20161130</td>\n",
       "      <td>0</td>\n",
       "      <td>0</td>\n",
       "      <td>0</td>\n",
       "      <td>1</td>\n",
       "      <td>26</td>\n",
       "      <td>18</td>\n",
       "      <td>15771.983</td>\n",
       "    </tr>\n",
       "    <tr>\n",
       "      <th>1</th>\n",
       "      <td>zZZvjmfSMVyV5Ub7KSgdoRsVe7+FFPE89fu7aX8PD9w=</td>\n",
       "      <td>20160513</td>\n",
       "      <td>0</td>\n",
       "      <td>0</td>\n",
       "      <td>0</td>\n",
       "      <td>0</td>\n",
       "      <td>19</td>\n",
       "      <td>19</td>\n",
       "      <td>2919.419</td>\n",
       "    </tr>\n",
       "    <tr>\n",
       "      <th>2</th>\n",
       "      <td>zZZvjmfSMVyV5Ub7KSgdoRsVe7+FFPE89fu7aX8PD9w=</td>\n",
       "      <td>20160303</td>\n",
       "      <td>2</td>\n",
       "      <td>0</td>\n",
       "      <td>0</td>\n",
       "      <td>0</td>\n",
       "      <td>6</td>\n",
       "      <td>7</td>\n",
       "      <td>1578.826</td>\n",
       "    </tr>\n",
       "    <tr>\n",
       "      <th>3</th>\n",
       "      <td>zzztPAN9xjMytpZ0RN2gU9mScDULJnHQZK8eZb4uELU=</td>\n",
       "      <td>20150110</td>\n",
       "      <td>3</td>\n",
       "      <td>1</td>\n",
       "      <td>1</td>\n",
       "      <td>1</td>\n",
       "      <td>0</td>\n",
       "      <td>4</td>\n",
       "      <td>509.706</td>\n",
       "    </tr>\n",
       "    <tr>\n",
       "      <th>4</th>\n",
       "      <td>zZzSpknbJXyB9Wjq8wjHlLKWOqJ4ruMCar5AyRGWpWY=</td>\n",
       "      <td>20151222</td>\n",
       "      <td>2</td>\n",
       "      <td>0</td>\n",
       "      <td>0</td>\n",
       "      <td>1</td>\n",
       "      <td>6</td>\n",
       "      <td>9</td>\n",
       "      <td>1639.956</td>\n",
       "    </tr>\n",
       "    <tr>\n",
       "      <th>5</th>\n",
       "      <td>zzZSGQGyOVcgufZ5Z/xCOzZEzt82qENZbq9YpvjoGao=</td>\n",
       "      <td>20160226</td>\n",
       "      <td>14</td>\n",
       "      <td>4</td>\n",
       "      <td>0</td>\n",
       "      <td>0</td>\n",
       "      <td>7</td>\n",
       "      <td>18</td>\n",
       "      <td>2454.836</td>\n",
       "    </tr>\n",
       "    <tr>\n",
       "      <th>6</th>\n",
       "      <td>zzZSGQGyOVcgufZ5Z/xCOzZEzt82qENZbq9YpvjoGao=</td>\n",
       "      <td>20150507</td>\n",
       "      <td>3</td>\n",
       "      <td>0</td>\n",
       "      <td>1</td>\n",
       "      <td>0</td>\n",
       "      <td>2</td>\n",
       "      <td>6</td>\n",
       "      <td>735.123</td>\n",
       "    </tr>\n",
       "    <tr>\n",
       "      <th>7</th>\n",
       "      <td>Zzz8TieaQy8rWjNL8sywJvVreOi0asURUBzH7fV1Sgw=</td>\n",
       "      <td>20170215</td>\n",
       "      <td>7</td>\n",
       "      <td>0</td>\n",
       "      <td>3</td>\n",
       "      <td>2</td>\n",
       "      <td>14</td>\n",
       "      <td>17</td>\n",
       "      <td>4821.257</td>\n",
       "    </tr>\n",
       "    <tr>\n",
       "      <th>8</th>\n",
       "      <td>Zzz8TieaQy8rWjNL8sywJvVreOi0asURUBzH7fV1Sgw=</td>\n",
       "      <td>20161226</td>\n",
       "      <td>14</td>\n",
       "      <td>6</td>\n",
       "      <td>1</td>\n",
       "      <td>2</td>\n",
       "      <td>4</td>\n",
       "      <td>25</td>\n",
       "      <td>2190.103</td>\n",
       "    </tr>\n",
       "    <tr>\n",
       "      <th>9</th>\n",
       "      <td>Zzz8TieaQy8rWjNL8sywJvVreOi0asURUBzH7fV1Sgw=</td>\n",
       "      <td>20161105</td>\n",
       "      <td>8</td>\n",
       "      <td>2</td>\n",
       "      <td>1</td>\n",
       "      <td>2</td>\n",
       "      <td>86</td>\n",
       "      <td>38</td>\n",
       "      <td>20452.908</td>\n",
       "    </tr>\n",
       "  </tbody>\n",
       "</table>\n",
       "</div>"
      ],
      "text/plain": [
       "                                           msno      date  num_25  num_50  \\\n",
       "0  zZZvjmfSMVyV5Ub7KSgdoRsVe7+FFPE89fu7aX8PD9w=  20161130       0       0   \n",
       "1  zZZvjmfSMVyV5Ub7KSgdoRsVe7+FFPE89fu7aX8PD9w=  20160513       0       0   \n",
       "2  zZZvjmfSMVyV5Ub7KSgdoRsVe7+FFPE89fu7aX8PD9w=  20160303       2       0   \n",
       "3  zzztPAN9xjMytpZ0RN2gU9mScDULJnHQZK8eZb4uELU=  20150110       3       1   \n",
       "4  zZzSpknbJXyB9Wjq8wjHlLKWOqJ4ruMCar5AyRGWpWY=  20151222       2       0   \n",
       "5  zzZSGQGyOVcgufZ5Z/xCOzZEzt82qENZbq9YpvjoGao=  20160226      14       4   \n",
       "6  zzZSGQGyOVcgufZ5Z/xCOzZEzt82qENZbq9YpvjoGao=  20150507       3       0   \n",
       "7  Zzz8TieaQy8rWjNL8sywJvVreOi0asURUBzH7fV1Sgw=  20170215       7       0   \n",
       "8  Zzz8TieaQy8rWjNL8sywJvVreOi0asURUBzH7fV1Sgw=  20161226      14       6   \n",
       "9  Zzz8TieaQy8rWjNL8sywJvVreOi0asURUBzH7fV1Sgw=  20161105       8       2   \n",
       "\n",
       "   num_75  num_985  num_100  num_unq  total_secs  \n",
       "0       0        1       26       18   15771.983  \n",
       "1       0        0       19       19    2919.419  \n",
       "2       0        0        6        7    1578.826  \n",
       "3       1        1        0        4     509.706  \n",
       "4       0        1        6        9    1639.956  \n",
       "5       0        0        7       18    2454.836  \n",
       "6       1        0        2        6     735.123  \n",
       "7       3        2       14       17    4821.257  \n",
       "8       1        2        4       25    2190.103  \n",
       "9       1        2       86       38   20452.908  "
      ]
     },
     "execution_count": 47,
     "metadata": {},
     "output_type": "execute_result"
    }
   ],
   "source": [
    "user_logs = pd.read_csv('user_logs2.csv')\n",
    "user_logs.head(10)"
   ]
  },
  {
   "cell_type": "code",
   "execution_count": 48,
   "metadata": {},
   "outputs": [
    {
     "data": {
      "text/plain": [
       "(42379, 9)"
      ]
     },
     "execution_count": 48,
     "metadata": {},
     "output_type": "execute_result"
    }
   ],
   "source": [
    "user_logs.shape"
   ]
  },
  {
   "cell_type": "code",
   "execution_count": 49,
   "metadata": {},
   "outputs": [],
   "source": [
    "user_logs = user_logs.sort_values(['msno'],ascending= False).reset_index()\n",
    "user_logs = user_logs.drop('index',axis=1)\n"
   ]
  },
  {
   "cell_type": "code",
   "execution_count": 50,
   "metadata": {},
   "outputs": [
    {
     "data": {
      "text/plain": [
       "msno          YQ9M2WhPZUqm7jx38MCiKqvDRSg8D3oWZYPe1JrO7AM=\n",
       "date                                              20160913\n",
       "num_25                                                  26\n",
       "num_50                                                  11\n",
       "num_75                                                   1\n",
       "num_985                                                  3\n",
       "num_100                                                 97\n",
       "num_unq                                                 53\n",
       "total_secs                                         30835.6\n",
       "Name: 42378, dtype: object"
      ]
     },
     "execution_count": 50,
     "metadata": {},
     "output_type": "execute_result"
    }
   ],
   "source": [
    "user_logs.iloc[42378]"
   ]
  },
  {
   "cell_type": "code",
   "execution_count": 51,
   "metadata": {
    "collapsed": true
   },
   "outputs": [],
   "source": [
    "user_logs_all = user_logs[user_logs['msno'].isin(msno_all)].reset_index()\n",
    "\n",
    "user_logs_all = user_logs_all.drop('index',axis=1)"
   ]
  },
  {
   "cell_type": "code",
   "execution_count": 52,
   "metadata": {},
   "outputs": [
    {
     "data": {
      "text/html": [
       "<div>\n",
       "<style>\n",
       "    .dataframe thead tr:only-child th {\n",
       "        text-align: right;\n",
       "    }\n",
       "\n",
       "    .dataframe thead th {\n",
       "        text-align: left;\n",
       "    }\n",
       "\n",
       "    .dataframe tbody tr th {\n",
       "        vertical-align: top;\n",
       "    }\n",
       "</style>\n",
       "<table border=\"1\" class=\"dataframe\">\n",
       "  <thead>\n",
       "    <tr style=\"text-align: right;\">\n",
       "      <th></th>\n",
       "      <th>msno</th>\n",
       "      <th>date</th>\n",
       "      <th>num_25</th>\n",
       "      <th>num_50</th>\n",
       "      <th>num_75</th>\n",
       "      <th>num_985</th>\n",
       "      <th>num_100</th>\n",
       "      <th>num_unq</th>\n",
       "      <th>total_secs</th>\n",
       "    </tr>\n",
       "  </thead>\n",
       "  <tbody>\n",
       "    <tr>\n",
       "      <th>0</th>\n",
       "      <td>zzz4xr5LLzoxUqD6LfKiieCt8Or4dUWFQ0RA5gmkx8I=</td>\n",
       "      <td>20161115</td>\n",
       "      <td>8</td>\n",
       "      <td>4</td>\n",
       "      <td>0</td>\n",
       "      <td>1</td>\n",
       "      <td>11</td>\n",
       "      <td>18</td>\n",
       "      <td>4574.660</td>\n",
       "    </tr>\n",
       "    <tr>\n",
       "      <th>1</th>\n",
       "      <td>zzz4xr5LLzoxUqD6LfKiieCt8Or4dUWFQ0RA5gmkx8I=</td>\n",
       "      <td>20160714</td>\n",
       "      <td>4</td>\n",
       "      <td>1</td>\n",
       "      <td>2</td>\n",
       "      <td>1</td>\n",
       "      <td>8</td>\n",
       "      <td>16</td>\n",
       "      <td>2125.260</td>\n",
       "    </tr>\n",
       "    <tr>\n",
       "      <th>2</th>\n",
       "      <td>zzz4xr5LLzoxUqD6LfKiieCt8Or4dUWFQ0RA5gmkx8I=</td>\n",
       "      <td>20151219</td>\n",
       "      <td>32</td>\n",
       "      <td>2</td>\n",
       "      <td>2</td>\n",
       "      <td>0</td>\n",
       "      <td>7</td>\n",
       "      <td>41</td>\n",
       "      <td>2528.733</td>\n",
       "    </tr>\n",
       "    <tr>\n",
       "      <th>3</th>\n",
       "      <td>zzz4xr5LLzoxUqD6LfKiieCt8Or4dUWFQ0RA5gmkx8I=</td>\n",
       "      <td>20150526</td>\n",
       "      <td>1</td>\n",
       "      <td>2</td>\n",
       "      <td>1</td>\n",
       "      <td>0</td>\n",
       "      <td>4</td>\n",
       "      <td>8</td>\n",
       "      <td>1227.964</td>\n",
       "    </tr>\n",
       "    <tr>\n",
       "      <th>4</th>\n",
       "      <td>zzz1Dc3P9s53HAowRTrm3fNsWju5yeN4YBfNDq7Z99Q=</td>\n",
       "      <td>20150525</td>\n",
       "      <td>1</td>\n",
       "      <td>0</td>\n",
       "      <td>0</td>\n",
       "      <td>0</td>\n",
       "      <td>9</td>\n",
       "      <td>10</td>\n",
       "      <td>2514.730</td>\n",
       "    </tr>\n",
       "    <tr>\n",
       "      <th>5</th>\n",
       "      <td>zzz1Dc3P9s53HAowRTrm3fNsWju5yeN4YBfNDq7Z99Q=</td>\n",
       "      <td>20161114</td>\n",
       "      <td>2</td>\n",
       "      <td>2</td>\n",
       "      <td>0</td>\n",
       "      <td>0</td>\n",
       "      <td>0</td>\n",
       "      <td>4</td>\n",
       "      <td>241.514</td>\n",
       "    </tr>\n",
       "    <tr>\n",
       "      <th>6</th>\n",
       "      <td>zzz1Dc3P9s53HAowRTrm3fNsWju5yeN4YBfNDq7Z99Q=</td>\n",
       "      <td>20150312</td>\n",
       "      <td>1</td>\n",
       "      <td>0</td>\n",
       "      <td>0</td>\n",
       "      <td>1</td>\n",
       "      <td>1</td>\n",
       "      <td>3</td>\n",
       "      <td>518.781</td>\n",
       "    </tr>\n",
       "    <tr>\n",
       "      <th>7</th>\n",
       "      <td>zzz1Dc3P9s53HAowRTrm3fNsWju5yeN4YBfNDq7Z99Q=</td>\n",
       "      <td>20160308</td>\n",
       "      <td>2</td>\n",
       "      <td>0</td>\n",
       "      <td>1</td>\n",
       "      <td>2</td>\n",
       "      <td>19</td>\n",
       "      <td>16</td>\n",
       "      <td>5675.657</td>\n",
       "    </tr>\n",
       "    <tr>\n",
       "      <th>8</th>\n",
       "      <td>zzxZeMFx2fjfKZigMnJa2w0EmloDbm8+8nTf/o/00GY=</td>\n",
       "      <td>20150924</td>\n",
       "      <td>2</td>\n",
       "      <td>1</td>\n",
       "      <td>3</td>\n",
       "      <td>4</td>\n",
       "      <td>80</td>\n",
       "      <td>89</td>\n",
       "      <td>21709.139</td>\n",
       "    </tr>\n",
       "    <tr>\n",
       "      <th>9</th>\n",
       "      <td>zzxZeMFx2fjfKZigMnJa2w0EmloDbm8+8nTf/o/00GY=</td>\n",
       "      <td>20160630</td>\n",
       "      <td>0</td>\n",
       "      <td>0</td>\n",
       "      <td>0</td>\n",
       "      <td>1</td>\n",
       "      <td>67</td>\n",
       "      <td>22</td>\n",
       "      <td>15516.235</td>\n",
       "    </tr>\n",
       "  </tbody>\n",
       "</table>\n",
       "</div>"
      ],
      "text/plain": [
       "                                           msno      date  num_25  num_50  \\\n",
       "0  zzz4xr5LLzoxUqD6LfKiieCt8Or4dUWFQ0RA5gmkx8I=  20161115       8       4   \n",
       "1  zzz4xr5LLzoxUqD6LfKiieCt8Or4dUWFQ0RA5gmkx8I=  20160714       4       1   \n",
       "2  zzz4xr5LLzoxUqD6LfKiieCt8Or4dUWFQ0RA5gmkx8I=  20151219      32       2   \n",
       "3  zzz4xr5LLzoxUqD6LfKiieCt8Or4dUWFQ0RA5gmkx8I=  20150526       1       2   \n",
       "4  zzz1Dc3P9s53HAowRTrm3fNsWju5yeN4YBfNDq7Z99Q=  20150525       1       0   \n",
       "5  zzz1Dc3P9s53HAowRTrm3fNsWju5yeN4YBfNDq7Z99Q=  20161114       2       2   \n",
       "6  zzz1Dc3P9s53HAowRTrm3fNsWju5yeN4YBfNDq7Z99Q=  20150312       1       0   \n",
       "7  zzz1Dc3P9s53HAowRTrm3fNsWju5yeN4YBfNDq7Z99Q=  20160308       2       0   \n",
       "8  zzxZeMFx2fjfKZigMnJa2w0EmloDbm8+8nTf/o/00GY=  20150924       2       1   \n",
       "9  zzxZeMFx2fjfKZigMnJa2w0EmloDbm8+8nTf/o/00GY=  20160630       0       0   \n",
       "\n",
       "   num_75  num_985  num_100  num_unq  total_secs  \n",
       "0       0        1       11       18    4574.660  \n",
       "1       2        1        8       16    2125.260  \n",
       "2       2        0        7       41    2528.733  \n",
       "3       1        0        4        8    1227.964  \n",
       "4       0        0        9       10    2514.730  \n",
       "5       0        0        0        4     241.514  \n",
       "6       0        1        1        3     518.781  \n",
       "7       1        2       19       16    5675.657  \n",
       "8       3        4       80       89   21709.139  \n",
       "9       0        1       67       22   15516.235  "
      ]
     },
     "execution_count": 52,
     "metadata": {},
     "output_type": "execute_result"
    }
   ],
   "source": [
    "user_logs_all.head(10)"
   ]
  },
  {
   "cell_type": "code",
   "execution_count": 53,
   "metadata": {},
   "outputs": [
    {
     "data": {
      "text/html": [
       "<div>\n",
       "<style>\n",
       "    .dataframe thead tr:only-child th {\n",
       "        text-align: right;\n",
       "    }\n",
       "\n",
       "    .dataframe thead th {\n",
       "        text-align: left;\n",
       "    }\n",
       "\n",
       "    .dataframe tbody tr th {\n",
       "        vertical-align: top;\n",
       "    }\n",
       "</style>\n",
       "<table border=\"1\" class=\"dataframe\">\n",
       "  <thead>\n",
       "    <tr style=\"text-align: right;\">\n",
       "      <th></th>\n",
       "      <th>msno</th>\n",
       "      <th>is_churn</th>\n",
       "      <th>city</th>\n",
       "      <th>bd</th>\n",
       "      <th>gender</th>\n",
       "      <th>registered_via</th>\n",
       "      <th>registration_init_time</th>\n",
       "      <th>expiration_date</th>\n",
       "    </tr>\n",
       "  </thead>\n",
       "  <tbody>\n",
       "    <tr>\n",
       "      <th>1501</th>\n",
       "      <td>zzz4xr5LLzoxUqD6LfKiieCt8Or4dUWFQ0RA5gmkx8I=</td>\n",
       "      <td>1</td>\n",
       "      <td>1.0</td>\n",
       "      <td>0.0</td>\n",
       "      <td>NaN</td>\n",
       "      <td>7.0</td>\n",
       "      <td>20120416.0</td>\n",
       "      <td>20170123.0</td>\n",
       "    </tr>\n",
       "  </tbody>\n",
       "</table>\n",
       "</div>"
      ],
      "text/plain": [
       "                                              msno  is_churn  city   bd  \\\n",
       "1501  zzz4xr5LLzoxUqD6LfKiieCt8Or4dUWFQ0RA5gmkx8I=         1   1.0  0.0   \n",
       "\n",
       "     gender  registered_via  registration_init_time  expiration_date  \n",
       "1501    NaN             7.0              20120416.0       20170123.0  "
      ]
     },
     "execution_count": 53,
     "metadata": {},
     "output_type": "execute_result"
    }
   ],
   "source": [
    "churn_members_all[churn_members_all.msno =='zzz4xr5LLzoxUqD6LfKiieCt8Or4dUWFQ0RA5gmkx8I=']"
   ]
  },
  {
   "cell_type": "code",
   "execution_count": 54,
   "metadata": {},
   "outputs": [
    {
     "data": {
      "text/html": [
       "<div>\n",
       "<style>\n",
       "    .dataframe thead tr:only-child th {\n",
       "        text-align: right;\n",
       "    }\n",
       "\n",
       "    .dataframe thead th {\n",
       "        text-align: left;\n",
       "    }\n",
       "\n",
       "    .dataframe tbody tr th {\n",
       "        vertical-align: top;\n",
       "    }\n",
       "</style>\n",
       "<table border=\"1\" class=\"dataframe\">\n",
       "  <thead>\n",
       "    <tr style=\"text-align: right;\">\n",
       "      <th></th>\n",
       "      <th>msno</th>\n",
       "      <th>date</th>\n",
       "      <th>num_25</th>\n",
       "      <th>num_50</th>\n",
       "      <th>num_75</th>\n",
       "      <th>num_985</th>\n",
       "      <th>num_100</th>\n",
       "      <th>num_unq</th>\n",
       "      <th>total_secs</th>\n",
       "    </tr>\n",
       "  </thead>\n",
       "  <tbody>\n",
       "  </tbody>\n",
       "</table>\n",
       "</div>"
      ],
      "text/plain": [
       "Empty DataFrame\n",
       "Columns: [msno, date, num_25, num_50, num_75, num_985, num_100, num_unq, total_secs]\n",
       "Index: []"
      ]
     },
     "execution_count": 54,
     "metadata": {},
     "output_type": "execute_result"
    }
   ],
   "source": [
    "user_logs_all[user_logs_all.msno =='zzxi7n5xoTYo9Q3VTygLWvl/rBDcexwaeAry0yK7Q0E=']"
   ]
  },
  {
   "cell_type": "code",
   "execution_count": 119,
   "metadata": {},
   "outputs": [
    {
     "data": {
      "text/plain": [
       "(1922, 9)"
      ]
     },
     "execution_count": 119,
     "metadata": {},
     "output_type": "execute_result"
    }
   ],
   "source": [
    "user_logs_all.shape"
   ]
  },
  {
   "cell_type": "code",
   "execution_count": 120,
   "metadata": {
    "collapsed": true
   },
   "outputs": [],
   "source": [
    "user_logs_all.to_csv('user_logs_all.csv', index=False)"
   ]
  },
  {
   "cell_type": "code",
   "execution_count": 121,
   "metadata": {},
   "outputs": [
    {
     "data": {
      "text/html": [
       "<div>\n",
       "<style>\n",
       "    .dataframe thead tr:only-child th {\n",
       "        text-align: right;\n",
       "    }\n",
       "\n",
       "    .dataframe thead th {\n",
       "        text-align: left;\n",
       "    }\n",
       "\n",
       "    .dataframe tbody tr th {\n",
       "        vertical-align: top;\n",
       "    }\n",
       "</style>\n",
       "<table border=\"1\" class=\"dataframe\">\n",
       "  <thead>\n",
       "    <tr style=\"text-align: right;\">\n",
       "      <th></th>\n",
       "      <th>msno</th>\n",
       "      <th>date</th>\n",
       "      <th>num_25</th>\n",
       "      <th>num_50</th>\n",
       "      <th>num_75</th>\n",
       "      <th>num_985</th>\n",
       "      <th>num_100</th>\n",
       "      <th>num_unq</th>\n",
       "      <th>total_secs</th>\n",
       "    </tr>\n",
       "  </thead>\n",
       "  <tbody>\n",
       "    <tr>\n",
       "      <th>0</th>\n",
       "      <td>zzz4xr5LLzoxUqD6LfKiieCt8Or4dUWFQ0RA5gmkx8I=</td>\n",
       "      <td>20161115</td>\n",
       "      <td>8</td>\n",
       "      <td>4</td>\n",
       "      <td>0</td>\n",
       "      <td>1</td>\n",
       "      <td>11</td>\n",
       "      <td>18</td>\n",
       "      <td>4574.660</td>\n",
       "    </tr>\n",
       "    <tr>\n",
       "      <th>1</th>\n",
       "      <td>zzz4xr5LLzoxUqD6LfKiieCt8Or4dUWFQ0RA5gmkx8I=</td>\n",
       "      <td>20160714</td>\n",
       "      <td>4</td>\n",
       "      <td>1</td>\n",
       "      <td>2</td>\n",
       "      <td>1</td>\n",
       "      <td>8</td>\n",
       "      <td>16</td>\n",
       "      <td>2125.260</td>\n",
       "    </tr>\n",
       "    <tr>\n",
       "      <th>2</th>\n",
       "      <td>zzz4xr5LLzoxUqD6LfKiieCt8Or4dUWFQ0RA5gmkx8I=</td>\n",
       "      <td>20151219</td>\n",
       "      <td>32</td>\n",
       "      <td>2</td>\n",
       "      <td>2</td>\n",
       "      <td>0</td>\n",
       "      <td>7</td>\n",
       "      <td>41</td>\n",
       "      <td>2528.733</td>\n",
       "    </tr>\n",
       "    <tr>\n",
       "      <th>3</th>\n",
       "      <td>zzz4xr5LLzoxUqD6LfKiieCt8Or4dUWFQ0RA5gmkx8I=</td>\n",
       "      <td>20150526</td>\n",
       "      <td>1</td>\n",
       "      <td>2</td>\n",
       "      <td>1</td>\n",
       "      <td>0</td>\n",
       "      <td>4</td>\n",
       "      <td>8</td>\n",
       "      <td>1227.964</td>\n",
       "    </tr>\n",
       "    <tr>\n",
       "      <th>4</th>\n",
       "      <td>zzz1Dc3P9s53HAowRTrm3fNsWju5yeN4YBfNDq7Z99Q=</td>\n",
       "      <td>20150525</td>\n",
       "      <td>1</td>\n",
       "      <td>0</td>\n",
       "      <td>0</td>\n",
       "      <td>0</td>\n",
       "      <td>9</td>\n",
       "      <td>10</td>\n",
       "      <td>2514.730</td>\n",
       "    </tr>\n",
       "    <tr>\n",
       "      <th>5</th>\n",
       "      <td>zzz1Dc3P9s53HAowRTrm3fNsWju5yeN4YBfNDq7Z99Q=</td>\n",
       "      <td>20161114</td>\n",
       "      <td>2</td>\n",
       "      <td>2</td>\n",
       "      <td>0</td>\n",
       "      <td>0</td>\n",
       "      <td>0</td>\n",
       "      <td>4</td>\n",
       "      <td>241.514</td>\n",
       "    </tr>\n",
       "    <tr>\n",
       "      <th>6</th>\n",
       "      <td>zzz1Dc3P9s53HAowRTrm3fNsWju5yeN4YBfNDq7Z99Q=</td>\n",
       "      <td>20150312</td>\n",
       "      <td>1</td>\n",
       "      <td>0</td>\n",
       "      <td>0</td>\n",
       "      <td>1</td>\n",
       "      <td>1</td>\n",
       "      <td>3</td>\n",
       "      <td>518.781</td>\n",
       "    </tr>\n",
       "    <tr>\n",
       "      <th>7</th>\n",
       "      <td>zzz1Dc3P9s53HAowRTrm3fNsWju5yeN4YBfNDq7Z99Q=</td>\n",
       "      <td>20160308</td>\n",
       "      <td>2</td>\n",
       "      <td>0</td>\n",
       "      <td>1</td>\n",
       "      <td>2</td>\n",
       "      <td>19</td>\n",
       "      <td>16</td>\n",
       "      <td>5675.657</td>\n",
       "    </tr>\n",
       "    <tr>\n",
       "      <th>8</th>\n",
       "      <td>zzxZeMFx2fjfKZigMnJa2w0EmloDbm8+8nTf/o/00GY=</td>\n",
       "      <td>20150924</td>\n",
       "      <td>2</td>\n",
       "      <td>1</td>\n",
       "      <td>3</td>\n",
       "      <td>4</td>\n",
       "      <td>80</td>\n",
       "      <td>89</td>\n",
       "      <td>21709.139</td>\n",
       "    </tr>\n",
       "    <tr>\n",
       "      <th>9</th>\n",
       "      <td>zzxZeMFx2fjfKZigMnJa2w0EmloDbm8+8nTf/o/00GY=</td>\n",
       "      <td>20160630</td>\n",
       "      <td>0</td>\n",
       "      <td>0</td>\n",
       "      <td>0</td>\n",
       "      <td>1</td>\n",
       "      <td>67</td>\n",
       "      <td>22</td>\n",
       "      <td>15516.235</td>\n",
       "    </tr>\n",
       "  </tbody>\n",
       "</table>\n",
       "</div>"
      ],
      "text/plain": [
       "                                           msno      date  num_25  num_50  \\\n",
       "0  zzz4xr5LLzoxUqD6LfKiieCt8Or4dUWFQ0RA5gmkx8I=  20161115       8       4   \n",
       "1  zzz4xr5LLzoxUqD6LfKiieCt8Or4dUWFQ0RA5gmkx8I=  20160714       4       1   \n",
       "2  zzz4xr5LLzoxUqD6LfKiieCt8Or4dUWFQ0RA5gmkx8I=  20151219      32       2   \n",
       "3  zzz4xr5LLzoxUqD6LfKiieCt8Or4dUWFQ0RA5gmkx8I=  20150526       1       2   \n",
       "4  zzz1Dc3P9s53HAowRTrm3fNsWju5yeN4YBfNDq7Z99Q=  20150525       1       0   \n",
       "5  zzz1Dc3P9s53HAowRTrm3fNsWju5yeN4YBfNDq7Z99Q=  20161114       2       2   \n",
       "6  zzz1Dc3P9s53HAowRTrm3fNsWju5yeN4YBfNDq7Z99Q=  20150312       1       0   \n",
       "7  zzz1Dc3P9s53HAowRTrm3fNsWju5yeN4YBfNDq7Z99Q=  20160308       2       0   \n",
       "8  zzxZeMFx2fjfKZigMnJa2w0EmloDbm8+8nTf/o/00GY=  20150924       2       1   \n",
       "9  zzxZeMFx2fjfKZigMnJa2w0EmloDbm8+8nTf/o/00GY=  20160630       0       0   \n",
       "\n",
       "   num_75  num_985  num_100  num_unq  total_secs  \n",
       "0       0        1       11       18    4574.660  \n",
       "1       2        1        8       16    2125.260  \n",
       "2       2        0        7       41    2528.733  \n",
       "3       1        0        4        8    1227.964  \n",
       "4       0        0        9       10    2514.730  \n",
       "5       0        0        0        4     241.514  \n",
       "6       0        1        1        3     518.781  \n",
       "7       1        2       19       16    5675.657  \n",
       "8       3        4       80       89   21709.139  \n",
       "9       0        1       67       22   15516.235  "
      ]
     },
     "execution_count": 121,
     "metadata": {},
     "output_type": "execute_result"
    }
   ],
   "source": [
    "df = pd.read_csv('user_logs_all.csv')\n",
    "df.head(10)"
   ]
  },
  {
   "cell_type": "code",
   "execution_count": null,
   "metadata": {
    "collapsed": true
   },
   "outputs": [],
   "source": []
  }
 ],
 "metadata": {
  "kernelspec": {
   "display_name": "Python 3",
   "language": "python",
   "name": "python3"
  },
  "language_info": {
   "codemirror_mode": {
    "name": "ipython",
    "version": 3
   },
   "file_extension": ".py",
   "mimetype": "text/x-python",
   "name": "python",
   "nbconvert_exporter": "python",
   "pygments_lexer": "ipython3",
   "version": "3.6.1"
  }
 },
 "nbformat": 4,
 "nbformat_minor": 2
}
