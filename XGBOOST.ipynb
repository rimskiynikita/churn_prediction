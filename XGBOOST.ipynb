{
 "cells": [
  {
   "cell_type": "code",
   "execution_count": 1,
   "metadata": {
    "collapsed": true
   },
   "outputs": [],
   "source": [
    "import numpy as np\n",
    "import pandas as pd"
   ]
  },
  {
   "cell_type": "code",
   "execution_count": 2,
   "metadata": {
    "collapsed": true
   },
   "outputs": [],
   "source": [
    "data = pd.read_csv('xgboost_model_train.csv')"
   ]
  },
  {
   "cell_type": "code",
   "execution_count": 3,
   "metadata": {},
   "outputs": [
    {
     "data": {
      "text/html": [
       "<div>\n",
       "<style>\n",
       "    .dataframe thead tr:only-child th {\n",
       "        text-align: right;\n",
       "    }\n",
       "\n",
       "    .dataframe thead th {\n",
       "        text-align: left;\n",
       "    }\n",
       "\n",
       "    .dataframe tbody tr th {\n",
       "        vertical-align: top;\n",
       "    }\n",
       "</style>\n",
       "<table border=\"1\" class=\"dataframe\">\n",
       "  <thead>\n",
       "    <tr style=\"text-align: right;\">\n",
       "      <th></th>\n",
       "      <th>msno</th>\n",
       "      <th>city</th>\n",
       "      <th>bd</th>\n",
       "      <th>gender</th>\n",
       "      <th>registered_via</th>\n",
       "      <th>days</th>\n",
       "      <th>season</th>\n",
       "      <th>num_of_logs</th>\n",
       "      <th>sum_num25</th>\n",
       "      <th>avg_num25</th>\n",
       "      <th>...</th>\n",
       "      <th>least_popular_transaction_days</th>\n",
       "      <th>most_popular_transaction_season</th>\n",
       "      <th>least_popular_transaction_season</th>\n",
       "      <th>most_popular_expire_days</th>\n",
       "      <th>least_popular_expire_days</th>\n",
       "      <th>most_popular_expire_season</th>\n",
       "      <th>least_popular_expire_season</th>\n",
       "      <th>is_auto_renew</th>\n",
       "      <th>payment_id_is_always_auto_renew</th>\n",
       "      <th>is_churn</th>\n",
       "    </tr>\n",
       "  </thead>\n",
       "  <tbody>\n",
       "    <tr>\n",
       "      <th>0</th>\n",
       "      <td>7Bx3zw0JFFwCXjkWgqhMxnQQLzy7Idmc+J1qXU8GhAY=</td>\n",
       "      <td>13</td>\n",
       "      <td>25.0</td>\n",
       "      <td>1.0</td>\n",
       "      <td>9</td>\n",
       "      <td>3</td>\n",
       "      <td>4</td>\n",
       "      <td>30</td>\n",
       "      <td>100</td>\n",
       "      <td>3.333333</td>\n",
       "      <td>...</td>\n",
       "      <td>3</td>\n",
       "      <td>2</td>\n",
       "      <td>2</td>\n",
       "      <td>3</td>\n",
       "      <td>3</td>\n",
       "      <td>2</td>\n",
       "      <td>2</td>\n",
       "      <td>1</td>\n",
       "      <td>40</td>\n",
       "      <td>1</td>\n",
       "    </tr>\n",
       "    <tr>\n",
       "      <th>1</th>\n",
       "      <td>OFhJwMVNuJKYC6MNLmCulVSJatkQ1ZexipKpyujQa4c=</td>\n",
       "      <td>5</td>\n",
       "      <td>NaN</td>\n",
       "      <td>1.0</td>\n",
       "      <td>9</td>\n",
       "      <td>3</td>\n",
       "      <td>4</td>\n",
       "      <td>21</td>\n",
       "      <td>136</td>\n",
       "      <td>6.476190</td>\n",
       "      <td>...</td>\n",
       "      <td>1</td>\n",
       "      <td>2</td>\n",
       "      <td>2</td>\n",
       "      <td>1</td>\n",
       "      <td>1</td>\n",
       "      <td>2</td>\n",
       "      <td>2</td>\n",
       "      <td>1</td>\n",
       "      <td>38</td>\n",
       "      <td>0</td>\n",
       "    </tr>\n",
       "    <tr>\n",
       "      <th>2</th>\n",
       "      <td>OFjgd4O5aCzXBFosKhGhqB8bKEgtV/9RQSN28yPtGHk=</td>\n",
       "      <td>1</td>\n",
       "      <td>NaN</td>\n",
       "      <td>NaN</td>\n",
       "      <td>7</td>\n",
       "      <td>2</td>\n",
       "      <td>1</td>\n",
       "      <td>18</td>\n",
       "      <td>34</td>\n",
       "      <td>1.888889</td>\n",
       "      <td>...</td>\n",
       "      <td>2</td>\n",
       "      <td>2</td>\n",
       "      <td>2</td>\n",
       "      <td>2</td>\n",
       "      <td>2</td>\n",
       "      <td>3</td>\n",
       "      <td>3</td>\n",
       "      <td>0</td>\n",
       "      <td>34</td>\n",
       "      <td>0</td>\n",
       "    </tr>\n",
       "    <tr>\n",
       "      <th>3</th>\n",
       "      <td>G7Zl2XAspwOaYJLlKK3FLmgypn3qYeGFKC/9WbczS+0=</td>\n",
       "      <td>4</td>\n",
       "      <td>43.0</td>\n",
       "      <td>1.0</td>\n",
       "      <td>7</td>\n",
       "      <td>3</td>\n",
       "      <td>2</td>\n",
       "      <td>5</td>\n",
       "      <td>18</td>\n",
       "      <td>3.600000</td>\n",
       "      <td>...</td>\n",
       "      <td>3</td>\n",
       "      <td>2</td>\n",
       "      <td>2</td>\n",
       "      <td>1</td>\n",
       "      <td>1</td>\n",
       "      <td>4</td>\n",
       "      <td>4</td>\n",
       "      <td>0</td>\n",
       "      <td>24</td>\n",
       "      <td>1</td>\n",
       "    </tr>\n",
       "    <tr>\n",
       "      <th>4</th>\n",
       "      <td>7v4BtQAEWazr9JYq5iqbNtWp0SNTNgKTBNZ0z+9CGEM=</td>\n",
       "      <td>15</td>\n",
       "      <td>21.0</td>\n",
       "      <td>1.0</td>\n",
       "      <td>3</td>\n",
       "      <td>3</td>\n",
       "      <td>2</td>\n",
       "      <td>25</td>\n",
       "      <td>388</td>\n",
       "      <td>15.520000</td>\n",
       "      <td>...</td>\n",
       "      <td>1</td>\n",
       "      <td>2</td>\n",
       "      <td>2</td>\n",
       "      <td>2</td>\n",
       "      <td>2</td>\n",
       "      <td>3</td>\n",
       "      <td>3</td>\n",
       "      <td>0</td>\n",
       "      <td>17</td>\n",
       "      <td>1</td>\n",
       "    </tr>\n",
       "  </tbody>\n",
       "</table>\n",
       "<p>5 rows × 59 columns</p>\n",
       "</div>"
      ],
      "text/plain": [
       "                                           msno  city    bd  gender  \\\n",
       "0  7Bx3zw0JFFwCXjkWgqhMxnQQLzy7Idmc+J1qXU8GhAY=    13  25.0     1.0   \n",
       "1  OFhJwMVNuJKYC6MNLmCulVSJatkQ1ZexipKpyujQa4c=     5   NaN     1.0   \n",
       "2  OFjgd4O5aCzXBFosKhGhqB8bKEgtV/9RQSN28yPtGHk=     1   NaN     NaN   \n",
       "3  G7Zl2XAspwOaYJLlKK3FLmgypn3qYeGFKC/9WbczS+0=     4  43.0     1.0   \n",
       "4  7v4BtQAEWazr9JYq5iqbNtWp0SNTNgKTBNZ0z+9CGEM=    15  21.0     1.0   \n",
       "\n",
       "   registered_via  days  season  num_of_logs  sum_num25  avg_num25    ...     \\\n",
       "0               9     3       4           30        100   3.333333    ...      \n",
       "1               9     3       4           21        136   6.476190    ...      \n",
       "2               7     2       1           18         34   1.888889    ...      \n",
       "3               7     3       2            5         18   3.600000    ...      \n",
       "4               3     3       2           25        388  15.520000    ...      \n",
       "\n",
       "   least_popular_transaction_days  most_popular_transaction_season  \\\n",
       "0                               3                                2   \n",
       "1                               1                                2   \n",
       "2                               2                                2   \n",
       "3                               3                                2   \n",
       "4                               1                                2   \n",
       "\n",
       "   least_popular_transaction_season  most_popular_expire_days  \\\n",
       "0                                 2                         3   \n",
       "1                                 2                         1   \n",
       "2                                 2                         2   \n",
       "3                                 2                         1   \n",
       "4                                 2                         2   \n",
       "\n",
       "   least_popular_expire_days  most_popular_expire_season  \\\n",
       "0                          3                           2   \n",
       "1                          1                           2   \n",
       "2                          2                           3   \n",
       "3                          1                           4   \n",
       "4                          2                           3   \n",
       "\n",
       "   least_popular_expire_season  is_auto_renew  \\\n",
       "0                            2              1   \n",
       "1                            2              1   \n",
       "2                            3              0   \n",
       "3                            4              0   \n",
       "4                            3              0   \n",
       "\n",
       "   payment_id_is_always_auto_renew  is_churn  \n",
       "0                               40         1  \n",
       "1                               38         0  \n",
       "2                               34         0  \n",
       "3                               24         1  \n",
       "4                               17         1  \n",
       "\n",
       "[5 rows x 59 columns]"
      ]
     },
     "execution_count": 3,
     "metadata": {},
     "output_type": "execute_result"
    }
   ],
   "source": [
    "data.head()"
   ]
  },
  {
   "cell_type": "code",
   "execution_count": 4,
   "metadata": {},
   "outputs": [
    {
     "data": {
      "text/plain": [
       "msno                                 object\n",
       "city                                  int64\n",
       "bd                                  float64\n",
       "gender                              float64\n",
       "registered_via                        int64\n",
       "days                                  int64\n",
       "season                                int64\n",
       "num_of_logs                           int64\n",
       "sum_num25                             int64\n",
       "avg_num25                           float64\n",
       "sum_num50                             int64\n",
       "avg_num50                           float64\n",
       "sum_num75                             int64\n",
       "avg_num75                           float64\n",
       "sum_num985                            int64\n",
       "avg_num985                          float64\n",
       "sum_num100                            int64\n",
       "avg_num100                          float64\n",
       "sum_num_unq                           int64\n",
       "avg_num_unq                         float64\n",
       "sum_total_secs                      float64\n",
       "avg_total_secs                      float64\n",
       "sum_total_songs                       int64\n",
       "avg_total_songs                     float64\n",
       "perc_of_accidentally_songs          float64\n",
       "perc_of_favourite_songs             float64\n",
       "avg_songs_per_month                 float64\n",
       "avg_days_diff                       float64\n",
       "max_days_diff                       float64\n",
       "min_days_diff                       float64\n",
       "most_popular_days                     int64\n",
       "least_popular_days                    int64\n",
       "most_popular_season                   int64\n",
       "least_popular_season                  int64\n",
       "num_of_transactions                   int64\n",
       "most_popular_payment_id               int64\n",
       "extra_payment_plans_total             int64\n",
       "extra_payment_plans_count             int64\n",
       "avg_plan_list_price                 float64\n",
       "avg_actual_amount_paid              float64\n",
       "is_cancel_total                       int64\n",
       "left_payment_days_total               int64\n",
       "avg_transaction_days_diff           float64\n",
       "max_transaction_days_diff           float64\n",
       "min_transaction_days_diff           float64\n",
       "avg_expire_days_diff                float64\n",
       "max_expire_days_diff                float64\n",
       "min_expire_days_diff                float64\n",
       "most_popular_transaction_days         int64\n",
       "least_popular_transaction_days        int64\n",
       "most_popular_transaction_season       int64\n",
       "least_popular_transaction_season      int64\n",
       "most_popular_expire_days              int64\n",
       "least_popular_expire_days             int64\n",
       "most_popular_expire_season            int64\n",
       "least_popular_expire_season           int64\n",
       "is_auto_renew                         int64\n",
       "payment_id_is_always_auto_renew       int64\n",
       "is_churn                              int64\n",
       "dtype: object"
      ]
     },
     "execution_count": 4,
     "metadata": {},
     "output_type": "execute_result"
    }
   ],
   "source": [
    "data.dtypes"
   ]
  },
  {
   "cell_type": "code",
   "execution_count": 5,
   "metadata": {
    "collapsed": true
   },
   "outputs": [],
   "source": [
    "data.drop('msno', axis=1, inplace=True)\n",
    "X = data.drop('is_churn', axis=1)"
   ]
  },
  {
   "cell_type": "code",
   "execution_count": 6,
   "metadata": {
    "collapsed": true
   },
   "outputs": [],
   "source": [
    "y = data.is_churn"
   ]
  },
  {
   "cell_type": "code",
   "execution_count": 7,
   "metadata": {
    "collapsed": true
   },
   "outputs": [],
   "source": [
    "from sklearn.model_selection import train_test_split\n",
    "\n",
    "X_train, X_val, y_train, y_val = train_test_split(X, y, test_size=0.1, random_state=42)"
   ]
  },
  {
   "cell_type": "markdown",
   "metadata": {},
   "source": [
    "### Searching for best max depth and min child weights using non-default and non-customizable params:\n",
    "- objective\n",
    "- colsample_bytree\n",
    "- n_estimators\n",
    "- seed\n",
    "\n",
    "#### Learning rate and subsample lower"
   ]
  },
  {
   "cell_type": "code",
   "execution_count": 8,
   "metadata": {},
   "outputs": [
    {
     "name": "stderr",
     "output_type": "stream",
     "text": [
      "/Users/nikitarimskij/anaconda/lib/python3.6/site-packages/sklearn/cross_validation.py:41: DeprecationWarning: This module was deprecated in version 0.18 in favor of the model_selection module into which all the refactored classes and functions are moved. Also note that the interface of the new CV iterators are different from that of this module. This module will be removed in 0.20.\n",
      "  \"This module will be removed in 0.20.\", DeprecationWarning)\n",
      "/Users/nikitarimskij/anaconda/lib/python3.6/site-packages/sklearn/grid_search.py:42: DeprecationWarning: This module was deprecated in version 0.18 in favor of the model_selection module into which all the refactored classes and functions are moved. This module will be removed in 0.20.\n",
      "  DeprecationWarning)\n"
     ]
    },
    {
     "data": {
      "text/plain": [
       "GridSearchCV(cv=5, error_score='raise',\n",
       "       estimator=XGBClassifier(base_score=0.5, colsample_bylevel=1, colsample_bytree=0.8,\n",
       "       gamma=0, learning_rate=0.1, max_delta_step=0, max_depth=3,\n",
       "       min_child_weight=1, missing=None, n_estimators=1000, nthread=-1,\n",
       "       objective='binary:logistic', reg_alpha=0, reg_lambda=1,\n",
       "       scale_pos_weight=1, seed=0, silent=True, subsample=0.8),\n",
       "       fit_params={}, iid=True, n_jobs=-1,\n",
       "       param_grid={'max_depth': [3, 5, 7], 'min_child_weight': [1, 3, 5]},\n",
       "       pre_dispatch='2*n_jobs', refit=True, scoring='f1', verbose=0)"
      ]
     },
     "execution_count": 8,
     "metadata": {},
     "output_type": "execute_result"
    }
   ],
   "source": [
    "import xgboost as xgb\n",
    "from sklearn.grid_search import GridSearchCV\n",
    "\n",
    "cv_params1 = {'max_depth': [3,5,7], 'min_child_weight': [1,3,5]}\n",
    "\n",
    "xgb_clf1 = xgb.XGBClassifier(\n",
    "        objective = 'binary:logistic',\n",
    "        learning_rate = 0.1,\n",
    "        subsample = 0.8,\n",
    "        colsample_bytree = 0.8,\n",
    "        n_estimators = 1000\n",
    "    )\n",
    "\n",
    "clf1 = GridSearchCV(xgb_clf1, cv_params1, \n",
    "                    scoring = 'f1', cv = 5, n_jobs = -1) \n",
    "clf1.fit(X, y)"
   ]
  },
  {
   "cell_type": "code",
   "execution_count": 9,
   "metadata": {},
   "outputs": [
    {
     "data": {
      "text/plain": [
       "[mean: 0.63034, std: 0.00500, params: {'max_depth': 3, 'min_child_weight': 1},\n",
       " mean: 0.62500, std: 0.00837, params: {'max_depth': 3, 'min_child_weight': 3},\n",
       " mean: 0.62536, std: 0.01245, params: {'max_depth': 3, 'min_child_weight': 5},\n",
       " mean: 0.61731, std: 0.00753, params: {'max_depth': 5, 'min_child_weight': 1},\n",
       " mean: 0.62460, std: 0.00638, params: {'max_depth': 5, 'min_child_weight': 3},\n",
       " mean: 0.62277, std: 0.00988, params: {'max_depth': 5, 'min_child_weight': 5},\n",
       " mean: 0.62688, std: 0.00917, params: {'max_depth': 7, 'min_child_weight': 1},\n",
       " mean: 0.62147, std: 0.00943, params: {'max_depth': 7, 'min_child_weight': 3},\n",
       " mean: 0.61883, std: 0.01619, params: {'max_depth': 7, 'min_child_weight': 5}]"
      ]
     },
     "execution_count": 9,
     "metadata": {},
     "output_type": "execute_result"
    }
   ],
   "source": [
    "clf1.grid_scores_"
   ]
  },
  {
   "cell_type": "markdown",
   "metadata": {},
   "source": [
    "### Accepting best params and searching for best rate and subsamples"
   ]
  },
  {
   "cell_type": "code",
   "execution_count": 9,
   "metadata": {},
   "outputs": [
    {
     "data": {
      "text/plain": [
       "GridSearchCV(cv=5, error_score='raise',\n",
       "       estimator=XGBClassifier(base_score=0.5, colsample_bylevel=1, colsample_bytree=0.8,\n",
       "       gamma=0, learning_rate=0.1, max_delta_step=0, max_depth=3,\n",
       "       min_child_weight=1, missing=None, n_estimators=1000, nthread=-1,\n",
       "       objective='binary:logistic', reg_alpha=0, reg_lambda=1,\n",
       "       scale_pos_weight=1, seed=0, silent=True, subsample=1),\n",
       "       fit_params={}, iid=True, n_jobs=-1,\n",
       "       param_grid={'learning_rate': [0.1, 0.01], 'subsample': [0.7, 0.8, 0.9]},\n",
       "       pre_dispatch='2*n_jobs', refit=True, scoring='f1', verbose=0)"
      ]
     },
     "execution_count": 9,
     "metadata": {},
     "output_type": "execute_result"
    }
   ],
   "source": [
    "cv_params2 = {'learning_rate': [0.1, 0.01], 'subsample': [0.7,0.8,0.9]}\n",
    "\n",
    "xgb_clf2 = xgb.XGBClassifier(\n",
    "        objective = 'binary:logistic',\n",
    "        learning_rate = 0.1,\n",
    "        colsample_bytree = 0.8,\n",
    "        n_estimators = 1000,\n",
    "        min_child_weight = 1,\n",
    "        max_depth = 3\n",
    "    )\n",
    "\n",
    "clf2 = GridSearchCV(xgb_clf2, cv_params2, \n",
    "                    scoring = 'f1', cv = 5, n_jobs = -1) \n",
    "clf2.fit(X, y)"
   ]
  },
  {
   "cell_type": "code",
   "execution_count": 10,
   "metadata": {},
   "outputs": [
    {
     "data": {
      "text/plain": [
       "[mean: 0.63117, std: 0.00781, params: {'learning_rate': 0.1, 'subsample': 0.7},\n",
       " mean: 0.63034, std: 0.00500, params: {'learning_rate': 0.1, 'subsample': 0.8},\n",
       " mean: 0.62612, std: 0.00972, params: {'learning_rate': 0.1, 'subsample': 0.9},\n",
       " mean: 0.68081, std: 0.01175, params: {'learning_rate': 0.01, 'subsample': 0.7},\n",
       " mean: 0.68316, std: 0.01299, params: {'learning_rate': 0.01, 'subsample': 0.8},\n",
       " mean: 0.68297, std: 0.01498, params: {'learning_rate': 0.01, 'subsample': 0.9}]"
      ]
     },
     "execution_count": 10,
     "metadata": {},
     "output_type": "execute_result"
    }
   ],
   "source": [
    "clf2.grid_scores_"
   ]
  },
  {
   "cell_type": "code",
   "execution_count": 12,
   "metadata": {
    "collapsed": true
   },
   "outputs": [],
   "source": [
    "xgdmat = xgb.DMatrix(X, y)"
   ]
  },
  {
   "cell_type": "code",
   "execution_count": 33,
   "metadata": {},
   "outputs": [],
   "source": [
    "our_params = {'learning_rate': 0.01, 'n_estimators': 1000, 'subsample': 0.8, 'colsample_bytree': 1, \n",
    "             'objective': 'binary:logistic', 'max_depth': 3, 'min_child_weight': 1} \n",
    "\n",
    "cv_xgb = xgb.cv(params = our_params, dtrain = xgdmat, num_boost_round = 3000, nfold = 5,\n",
    "                metrics = ['error'],\n",
    "                early_stopping_rounds = 100) "
   ]
  },
  {
   "cell_type": "code",
   "execution_count": 34,
   "metadata": {},
   "outputs": [
    {
     "data": {
      "text/html": [
       "<div>\n",
       "<style>\n",
       "    .dataframe thead tr:only-child th {\n",
       "        text-align: right;\n",
       "    }\n",
       "\n",
       "    .dataframe thead th {\n",
       "        text-align: left;\n",
       "    }\n",
       "\n",
       "    .dataframe tbody tr th {\n",
       "        vertical-align: top;\n",
       "    }\n",
       "</style>\n",
       "<table border=\"1\" class=\"dataframe\">\n",
       "  <thead>\n",
       "    <tr style=\"text-align: right;\">\n",
       "      <th></th>\n",
       "      <th>test-error-mean</th>\n",
       "      <th>test-error-std</th>\n",
       "      <th>train-error-mean</th>\n",
       "      <th>train-error-std</th>\n",
       "    </tr>\n",
       "  </thead>\n",
       "  <tbody>\n",
       "    <tr>\n",
       "      <th>37</th>\n",
       "      <td>0.338667</td>\n",
       "      <td>0.011614</td>\n",
       "      <td>0.332625</td>\n",
       "      <td>0.003576</td>\n",
       "    </tr>\n",
       "    <tr>\n",
       "      <th>38</th>\n",
       "      <td>0.337833</td>\n",
       "      <td>0.010835</td>\n",
       "      <td>0.332042</td>\n",
       "      <td>0.003978</td>\n",
       "    </tr>\n",
       "    <tr>\n",
       "      <th>39</th>\n",
       "      <td>0.338833</td>\n",
       "      <td>0.010962</td>\n",
       "      <td>0.332167</td>\n",
       "      <td>0.004024</td>\n",
       "    </tr>\n",
       "    <tr>\n",
       "      <th>40</th>\n",
       "      <td>0.338500</td>\n",
       "      <td>0.011455</td>\n",
       "      <td>0.332167</td>\n",
       "      <td>0.003956</td>\n",
       "    </tr>\n",
       "    <tr>\n",
       "      <th>41</th>\n",
       "      <td>0.337333</td>\n",
       "      <td>0.010664</td>\n",
       "      <td>0.332417</td>\n",
       "      <td>0.003772</td>\n",
       "    </tr>\n",
       "  </tbody>\n",
       "</table>\n",
       "</div>"
      ],
      "text/plain": [
       "    test-error-mean  test-error-std  train-error-mean  train-error-std\n",
       "37         0.338667        0.011614          0.332625         0.003576\n",
       "38         0.337833        0.010835          0.332042         0.003978\n",
       "39         0.338833        0.010962          0.332167         0.004024\n",
       "40         0.338500        0.011455          0.332167         0.003956\n",
       "41         0.337333        0.010664          0.332417         0.003772"
      ]
     },
     "execution_count": 34,
     "metadata": {},
     "output_type": "execute_result"
    }
   ],
   "source": [
    "cv_xgb.tail(5)"
   ]
  },
  {
   "cell_type": "code",
   "execution_count": 35,
   "metadata": {
    "collapsed": true
   },
   "outputs": [],
   "source": [
    "final_gb = xgb.train(our_params, xgdmat, num_boost_round = 48)"
   ]
  },
  {
   "cell_type": "code",
   "execution_count": 36,
   "metadata": {},
   "outputs": [
    {
     "data": {
      "image/png": "[encoded data removed]",
      "text/plain": [
       "<matplotlib.figure.Figure at 0x10fe7f3c8>"
      ]
     },
     "metadata": {},
     "output_type": "display_data"
    }
   ],
   "source": [
    "import matplotlib.pyplot as plt\n",
    "\n",
    "xgb.plot_importance(final_gb)\n",
    "plt.show()"
   ]
  },
  {
   "cell_type": "code",
   "execution_count": 37,
   "metadata": {},
   "outputs": [
    {
     "data": {
      "text/plain": [
       "{'avg_days_diff': 6,\n",
       " 'avg_num100': 13,\n",
       " 'avg_num25': 2,\n",
       " 'avg_num50': 3,\n",
       " 'avg_num75': 1,\n",
       " 'avg_num985': 4,\n",
       " 'avg_total_secs': 1,\n",
       " 'avg_total_songs': 14,\n",
       " 'bd': 95,\n",
       " 'city': 8,\n",
       " 'extra_payment_plans_total': 6,\n",
       " 'gender': 7,\n",
       " 'max_transaction_days_diff': 2,\n",
       " 'min_expire_days_diff': 22,\n",
       " 'num_of_logs': 3,\n",
       " 'perc_of_accidentally_songs': 3,\n",
       " 'perc_of_favourite_songs': 4,\n",
       " 'registered_via': 111,\n",
       " 'sum_num100': 4,\n",
       " 'sum_num25': 6,\n",
       " 'sum_num75': 5,\n",
       " 'sum_num_unq': 3,\n",
       " 'sum_total_secs': 4,\n",
       " 'sum_total_songs': 9}"
      ]
     },
     "execution_count": 37,
     "metadata": {},
     "output_type": "execute_result"
    }
   ],
   "source": [
    "importances = final_gb.get_fscore()\n",
    "importances"
   ]
  },
  {
   "cell_type": "code",
   "execution_count": 38,
   "metadata": {},
   "outputs": [],
   "source": [
    "testdmat = xgb.DMatrix(X_val)"
   ]
  },
  {
   "cell_type": "code",
   "execution_count": 39,
   "metadata": {},
   "outputs": [],
   "source": [
    "y_pred = final_gb.predict(testdmat)\n",
    "y_pred[y_pred > 0.5] = 1\n",
    "y_pred[y_pred <= 0.5] = 0"
   ]
  },
  {
   "cell_type": "code",
   "execution_count": 40,
   "metadata": {},
   "outputs": [
    {
     "data": {
      "text/plain": [
       "0.69589816124469595"
      ]
     },
     "execution_count": 40,
     "metadata": {},
     "output_type": "execute_result"
    }
   ],
   "source": [
    "from sklearn.metrics import f1_score\n",
    "f1_score(y_val, y_pred)"
   ]
  },
  {
   "cell_type": "markdown",
   "metadata": {},
   "source": [
    "Параметры:\n",
    "- learning_rate\n",
    "- n_estimators \n",
    "- subsample - сколько рандомных данных брать из выборки, похоже на дроп аут в нейросетях\n",
    "- colsample_bytree - аналогично верхнему, но для каждого ответвления\n",
    "- objective - спецификация задачи\n",
    "- max_depth\n",
    "- min_child_weight - минимальная сумма весов в листе, если меньше, то дерево не пойдет глубже"
   ]
  },
  {
   "cell_type": "code",
   "execution_count": null,
   "metadata": {
    "collapsed": true
   },
   "outputs": [],
   "source": []
  }
 ],
 "metadata": {
  "kernelspec": {
   "display_name": "Python 3",
   "language": "python",
   "name": "python3"
  },
  "language_info": {
   "codemirror_mode": {
    "name": "ipython",
    "version": 3
   },
   "file_extension": ".py",
   "mimetype": "text/x-python",
   "name": "python",
   "nbconvert_exporter": "python",
   "pygments_lexer": "ipython3",
   "version": "3.6.2"
  }
 },
 "nbformat": 4,
 "nbformat_minor": 2
}
