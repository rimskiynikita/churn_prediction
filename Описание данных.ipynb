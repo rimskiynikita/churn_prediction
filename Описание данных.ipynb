{
 "cells": [
  {
   "cell_type": "code",
   "execution_count": 1,
   "metadata": {
    "collapsed": true
   },
   "outputs": [],
   "source": [
    "import pandas as pnd\n",
    "import numpy as np\n",
    "import matplotlib.pyplot as plt"
   ]
  },
  {
   "cell_type": "markdown",
   "metadata": {},
   "source": [
    "Никита Римский\n",
    "<p>members_trees6000.csv\n",
    "<p>logs_trees6000.csv\n",
    "<p>transactions_trees6000.csv\n",
    "<p>members_linear6000.csv\n",
    "<p>logs_linear6000.csv\n",
    "<p>transactions_linear6000.csv\n",
    "<p>members_boost6000.csv\n",
    "\n",
    "\n",
    "Никита Римский, [09.12.17 13:54]\n",
    "<p>xgboost_model6000.csv\n",
    "<p>linear_model6000.csv\n",
    "<p>trees_model6000.csv\n",
    "\n",
    "\n",
    "Никита Римский\n",
    "<p>logs_final6000.csv\n",
    "<p>transactions_final6000.csv\n",
    "<p>members_final6000.csv"
   ]
  },
  {
   "cell_type": "code",
   "execution_count": 2,
   "metadata": {
    "collapsed": false
   },
   "outputs": [],
   "source": [
    "d_logs_2=pnd.read_csv('logs_trees6000.csv')\n",
    "d_logs=pnd.read_csv('logs_final6000.csv')\n",
    "d_trans_2=pnd.read_csv('transactions_trees6000.csv')\n",
    "d_trans=pnd.read_csv('transactions_final6000.csv')\n",
    "d_mem=pnd.read_csv('members_final6000.csv')#,parse_dates=['registration_init_time'])\n",
    "d_mem_2=pnd.read_csv('members_trees6000.csv')"
   ]
  },
  {
   "cell_type": "code",
   "execution_count": null,
   "metadata": {
    "collapsed": true
   },
   "outputs": [],
   "source": []
  },
  {
   "cell_type": "code",
   "execution_count": 3,
   "metadata": {
    "collapsed": false
   },
   "outputs": [],
   "source": [
    "def get_plot_for_qual(d, col, text, x_name, y_name, bins='auto'):\n",
    "    plt.figure(figsize=(20, 10))\n",
    "    x=d.describe()[[col]].T.max().values[-1]\n",
    "    d[col].hist(color='red', bins=bins)\n",
    "    plt.title(text)\n",
    "    plt.xticks(np.arange(1,x+1))\n",
    "    plt.xlabel(x_name)\n",
    "    plt.ylabel(y_name)\n",
    "    plt.show()\n",
    "\n",
    "def get_median(d, col):\n",
    "    \n",
    "    a=d[[col]].median()\n",
    "    return a\n",
    "    \n",
    "    \n",
    "def get_plot_for_usual(d, col, text, x_name, y_name, bins='auto'):\n",
    "    plt.figure(figsize=(20, 10))\n",
    "    #x=d.describe()[[col]].T.max().values[-1]\n",
    "    d[col].hist(color='red', bins=bins)\n",
    "    plt.title(text)\n",
    "    plt.xlabel(x_name)\n",
    "    plt.ylabel(y_name)\n",
    "    #plt.axis([40, 160, 0, 0.03])\n",
    "    #plt.xticks(np.arange(1,x+1))\n",
    "    plt.show()\n",
    "    \n",
    "def get_plot_for_usual_2(d, col, text, x_name, y_name, bins='auto'):\n",
    "    plt.figure(figsize=(20, 10))\n",
    "    #x=d.describe()[[col]].T.max().values[-1]\n",
    "    d[col].hist(color='red', bins=bins)\n",
    "    plt.title(text)\n",
    "    plt.xlabel(x_name)\n",
    "    plt.ylabel(y_name)\n",
    "    #plt.axis([40, 160, 0, 0.03])\n",
    "    #plt.xticks(np.arange(1,x+1))\n",
    "    #plt.show()\n",
    "    \n",
    "def get_description_for_qual(d, col):\n",
    "    a=d.describe()[[col]].T\n",
    "    return a    \n",
    "    \n",
    "def get_description_for_qual(d, col):\n",
    "    a=d.describe()[[col]].T\n",
    "    return a\n",
    "    \n",
    "def get_amount_of_null(d, col):\n",
    "    b=sum(d[col].isnull())\n",
    "    return b\n",
    "    \n",
    "def get_amount_of_obj(d, col, text):\n",
    "    a=len(d[d[col]==text])\n",
    "    return a\n",
    "\n",
    "def get_pieplot(pieces, labels, colors):\n",
    "    explode=tuple([0.1]*len(pieces))\n",
    "    plt.pie(pieces, labels=labels, colors=col, startangle=90, explode=explode, shadow=0.1, autopct='%1.1f%%')\n",
    "    plt.show()\n",
    "    \n",
    "    \n",
    "def get_plot_for_date(d, col, text, x_name, y_name):\n",
    "    \n",
    "    plt.figure(figsize=(20, 10))\n",
    "            \n",
    "    plt.title(text)\n",
    "    plt.hist(d[col], color='r')\n",
    "    plt.grid()\n",
    "    plt.xlabel(x_name)\n",
    "    plt.ylabel(y_name)\n",
    "    plt.show()"
   ]
  },
  {
   "cell_type": "markdown",
   "metadata": {},
   "source": [
    "# Таблица is_curn"
   ]
  },
  {
   "cell_type": "code",
   "execution_count": 4,
   "metadata": {
    "collapsed": false
   },
   "outputs": [
    {
     "data": {
      "image/png": "[encoded data removed]",
      "text/plain": [
       "<matplotlib.figure.Figure at 0x25b91d01e80>"
      ]
     },
     "metadata": {},
     "output_type": "display_data"
    }
   ],
   "source": [
    "pieces=[3000,3000]\n",
    "labels=[\"Churn\", \"Not churn\"]\n",
    "col=['g', 'b']\n",
    "get_pieplot(pieces, labels, col)"
   ]
  },
  {
   "cell_type": "code",
   "execution_count": null,
   "metadata": {
    "collapsed": true
   },
   "outputs": [],
   "source": []
  },
  {
   "cell_type": "markdown",
   "metadata": {},
   "source": [
    "# Таблица Members"
   ]
  },
  {
   "cell_type": "code",
   "execution_count": 9,
   "metadata": {
    "collapsed": false
   },
   "outputs": [
    {
     "data": {
      "text/html": [
       "<div>\n",
       "<table border=\"1\" class=\"dataframe\">\n",
       "  <thead>\n",
       "    <tr style=\"text-align: right;\">\n",
       "      <th></th>\n",
       "      <th>msno</th>\n",
       "      <th>city</th>\n",
       "      <th>bd</th>\n",
       "      <th>gender</th>\n",
       "      <th>registered_via</th>\n",
       "      <th>registration_init_time</th>\n",
       "    </tr>\n",
       "  </thead>\n",
       "  <tbody>\n",
       "    <tr>\n",
       "      <th>0</th>\n",
       "      <td>7Bx3zw0JFFwCXjkWgqhMxnQQLzy7Idmc+J1qXU8GhAY=</td>\n",
       "      <td>13</td>\n",
       "      <td>25</td>\n",
       "      <td>female</td>\n",
       "      <td>9</td>\n",
       "      <td>20141130</td>\n",
       "    </tr>\n",
       "    <tr>\n",
       "      <th>1</th>\n",
       "      <td>OFhJwMVNuJKYC6MNLmCulVSJatkQ1ZexipKpyujQa4c=</td>\n",
       "      <td>5</td>\n",
       "      <td>0</td>\n",
       "      <td>female</td>\n",
       "      <td>9</td>\n",
       "      <td>20141130</td>\n",
       "    </tr>\n",
       "    <tr>\n",
       "      <th>2</th>\n",
       "      <td>OFjgd4O5aCzXBFosKhGhqB8bKEgtV/9RQSN28yPtGHk=</td>\n",
       "      <td>1</td>\n",
       "      <td>0</td>\n",
       "      <td>NaN</td>\n",
       "      <td>7</td>\n",
       "      <td>20130116</td>\n",
       "    </tr>\n",
       "    <tr>\n",
       "      <th>3</th>\n",
       "      <td>G7Zl2XAspwOaYJLlKK3FLmgypn3qYeGFKC/9WbczS+0=</td>\n",
       "      <td>4</td>\n",
       "      <td>43</td>\n",
       "      <td>female</td>\n",
       "      <td>7</td>\n",
       "      <td>20110321</td>\n",
       "    </tr>\n",
       "    <tr>\n",
       "      <th>4</th>\n",
       "      <td>7v4BtQAEWazr9JYq5iqbNtWp0SNTNgKTBNZ0z+9CGEM=</td>\n",
       "      <td>15</td>\n",
       "      <td>21</td>\n",
       "      <td>female</td>\n",
       "      <td>3</td>\n",
       "      <td>20160321</td>\n",
       "    </tr>\n",
       "    <tr>\n",
       "      <th>5</th>\n",
       "      <td>u+WZZ2Krx0UKt84Ybh/cm2bvGTJ4/UIZ5XmNxNSOLQk=</td>\n",
       "      <td>4</td>\n",
       "      <td>28</td>\n",
       "      <td>female</td>\n",
       "      <td>9</td>\n",
       "      <td>20150216</td>\n",
       "    </tr>\n",
       "    <tr>\n",
       "      <th>6</th>\n",
       "      <td>caGU+95LX9FI/Om209xn0LMKvOf9PuDgvK8paFCDyOk=</td>\n",
       "      <td>5</td>\n",
       "      <td>27</td>\n",
       "      <td>NaN</td>\n",
       "      <td>9</td>\n",
       "      <td>20150317</td>\n",
       "    </tr>\n",
       "    <tr>\n",
       "      <th>7</th>\n",
       "      <td>+HrxOQaFgX6NWdFPYukNqr5Ud749/a/Z/txn+c+MJEI=</td>\n",
       "      <td>15</td>\n",
       "      <td>0</td>\n",
       "      <td>NaN</td>\n",
       "      <td>9</td>\n",
       "      <td>20131214</td>\n",
       "    </tr>\n",
       "    <tr>\n",
       "      <th>8</th>\n",
       "      <td>CxKIZcJY75vsiUlfeO9/J1Ld8fdAi3Y3JEK+ig7sXGQ=</td>\n",
       "      <td>1</td>\n",
       "      <td>0</td>\n",
       "      <td>NaN</td>\n",
       "      <td>4</td>\n",
       "      <td>20151121</td>\n",
       "    </tr>\n",
       "    <tr>\n",
       "      <th>9</th>\n",
       "      <td>CAFHFJ5R3K32rQHKxwRamDwGZTQNOHik+P3+1ttV7kQ=</td>\n",
       "      <td>1</td>\n",
       "      <td>0</td>\n",
       "      <td>NaN</td>\n",
       "      <td>7</td>\n",
       "      <td>20130627</td>\n",
       "    </tr>\n",
       "    <tr>\n",
       "      <th>10</th>\n",
       "      <td>xqAZORwWLxUpynzHFoEcCAn7fyOS6e2M7bsDfwijW4g=</td>\n",
       "      <td>13</td>\n",
       "      <td>32</td>\n",
       "      <td>male</td>\n",
       "      <td>7</td>\n",
       "      <td>20101030</td>\n",
       "    </tr>\n",
       "    <tr>\n",
       "      <th>11</th>\n",
       "      <td>D2xql4Q2zJZu8mS+gjf1pecv47jIexrvUXaj0vY/bIw=</td>\n",
       "      <td>5</td>\n",
       "      <td>43</td>\n",
       "      <td>female</td>\n",
       "      <td>9</td>\n",
       "      <td>20091012</td>\n",
       "    </tr>\n",
       "    <tr>\n",
       "      <th>12</th>\n",
       "      <td>w2O0vchmncaBEQLoC5Pn7qRoSPiJ6X2x5O+woVFDhnY=</td>\n",
       "      <td>13</td>\n",
       "      <td>0</td>\n",
       "      <td>NaN</td>\n",
       "      <td>9</td>\n",
       "      <td>20140605</td>\n",
       "    </tr>\n",
       "    <tr>\n",
       "      <th>13</th>\n",
       "      <td>U5tbvceawNGN1XKTnVUWIWzXx5VTi1wtd8wTPQNecBw=</td>\n",
       "      <td>1</td>\n",
       "      <td>0</td>\n",
       "      <td>NaN</td>\n",
       "      <td>7</td>\n",
       "      <td>20170211</td>\n",
       "    </tr>\n",
       "    <tr>\n",
       "      <th>14</th>\n",
       "      <td>9xbBiLUqUp5O6f265+QFjJC5KsQgEp2fGFpMml5I/AU=</td>\n",
       "      <td>3</td>\n",
       "      <td>37</td>\n",
       "      <td>female</td>\n",
       "      <td>7</td>\n",
       "      <td>20150912</td>\n",
       "    </tr>\n",
       "    <tr>\n",
       "      <th>15</th>\n",
       "      <td>QGaFIiqfUJMwLX81Tux1ea1uibNBB+HTiUCVOCnGmkQ=</td>\n",
       "      <td>1</td>\n",
       "      <td>0</td>\n",
       "      <td>NaN</td>\n",
       "      <td>7</td>\n",
       "      <td>20150923</td>\n",
       "    </tr>\n",
       "    <tr>\n",
       "      <th>16</th>\n",
       "      <td>7xNkNoVMi3Sm40SjyZ8IA3OHP6/+KJUEIBY7Zfeul18=</td>\n",
       "      <td>13</td>\n",
       "      <td>31</td>\n",
       "      <td>male</td>\n",
       "      <td>9</td>\n",
       "      <td>20150924</td>\n",
       "    </tr>\n",
       "    <tr>\n",
       "      <th>17</th>\n",
       "      <td>XH34I/IhCGbN9KimZLXsopCZn3iSUXd3S9iBafxdHZg=</td>\n",
       "      <td>1</td>\n",
       "      <td>0</td>\n",
       "      <td>NaN</td>\n",
       "      <td>4</td>\n",
       "      <td>20170103</td>\n",
       "    </tr>\n",
       "    <tr>\n",
       "      <th>18</th>\n",
       "      <td>EflzwWuPdSe46cZSHxL5Ha+A214hKTICMDw5Aqf540E=</td>\n",
       "      <td>14</td>\n",
       "      <td>32</td>\n",
       "      <td>male</td>\n",
       "      <td>3</td>\n",
       "      <td>20170205</td>\n",
       "    </tr>\n",
       "    <tr>\n",
       "      <th>19</th>\n",
       "      <td>yX5+R12PKUNcnk/TJEZlOTJ7VEsEk3AfK771BdD7FAM=</td>\n",
       "      <td>1</td>\n",
       "      <td>0</td>\n",
       "      <td>NaN</td>\n",
       "      <td>7</td>\n",
       "      <td>20150904</td>\n",
       "    </tr>\n",
       "    <tr>\n",
       "      <th>20</th>\n",
       "      <td>HN5BbCoYUmKZ7BfzevD/z1oXp78xwayH1JQAbrWhwRU=</td>\n",
       "      <td>15</td>\n",
       "      <td>17</td>\n",
       "      <td>male</td>\n",
       "      <td>4</td>\n",
       "      <td>20160625</td>\n",
       "    </tr>\n",
       "    <tr>\n",
       "      <th>21</th>\n",
       "      <td>wThsaVNwbYxSNUUD+VJx1mhrhsoErX5rMOneTleapvk=</td>\n",
       "      <td>6</td>\n",
       "      <td>37</td>\n",
       "      <td>male</td>\n",
       "      <td>9</td>\n",
       "      <td>20060514</td>\n",
       "    </tr>\n",
       "    <tr>\n",
       "      <th>22</th>\n",
       "      <td>mPVi+96lSxYRiXJKQokv4hqwuEIVjDx4C4vUqFifdLY=</td>\n",
       "      <td>15</td>\n",
       "      <td>49</td>\n",
       "      <td>male</td>\n",
       "      <td>9</td>\n",
       "      <td>20070425</td>\n",
       "    </tr>\n",
       "    <tr>\n",
       "      <th>23</th>\n",
       "      <td>6vY+Iuos8H/NJBxjhINTmDy6+KFU++3YK10GZrugm1E=</td>\n",
       "      <td>15</td>\n",
       "      <td>32</td>\n",
       "      <td>male</td>\n",
       "      <td>9</td>\n",
       "      <td>20070630</td>\n",
       "    </tr>\n",
       "    <tr>\n",
       "      <th>24</th>\n",
       "      <td>eM/qgPDjVqsXWbfW79p7Ze/vjoozXWvLgUeRtzRU8wA=</td>\n",
       "      <td>13</td>\n",
       "      <td>27</td>\n",
       "      <td>male</td>\n",
       "      <td>9</td>\n",
       "      <td>20070717</td>\n",
       "    </tr>\n",
       "    <tr>\n",
       "      <th>25</th>\n",
       "      <td>D1gRmAG0UFD5+biZrG4ThQqNLJ1E6tboqoBzCryn7Zk=</td>\n",
       "      <td>13</td>\n",
       "      <td>45</td>\n",
       "      <td>female</td>\n",
       "      <td>7</td>\n",
       "      <td>20170104</td>\n",
       "    </tr>\n",
       "    <tr>\n",
       "      <th>26</th>\n",
       "      <td>nvrqEDhqcszqXla8vcntFAnvCbERCJ8d3KOU+NOCAS8=</td>\n",
       "      <td>1</td>\n",
       "      <td>0</td>\n",
       "      <td>NaN</td>\n",
       "      <td>7</td>\n",
       "      <td>20170116</td>\n",
       "    </tr>\n",
       "    <tr>\n",
       "      <th>27</th>\n",
       "      <td>JakF2MGUoJa9QKpmXWNHA1R7XuzvA//M9Y3qckugI7s=</td>\n",
       "      <td>1</td>\n",
       "      <td>0</td>\n",
       "      <td>NaN</td>\n",
       "      <td>9</td>\n",
       "      <td>20120212</td>\n",
       "    </tr>\n",
       "    <tr>\n",
       "      <th>28</th>\n",
       "      <td>5BaY1+tOeK58TzFb08sW3geo0rJKumLcApnLa07iSG4=</td>\n",
       "      <td>1</td>\n",
       "      <td>0</td>\n",
       "      <td>NaN</td>\n",
       "      <td>7</td>\n",
       "      <td>20170110</td>\n",
       "    </tr>\n",
       "    <tr>\n",
       "      <th>29</th>\n",
       "      <td>+PkJB+K0J6zfg71BPlmUHuG6LJlMMa2Z8RIyr72RT1U=</td>\n",
       "      <td>4</td>\n",
       "      <td>0</td>\n",
       "      <td>NaN</td>\n",
       "      <td>4</td>\n",
       "      <td>20161106</td>\n",
       "    </tr>\n",
       "    <tr>\n",
       "      <th>...</th>\n",
       "      <td>...</td>\n",
       "      <td>...</td>\n",
       "      <td>...</td>\n",
       "      <td>...</td>\n",
       "      <td>...</td>\n",
       "      <td>...</td>\n",
       "    </tr>\n",
       "    <tr>\n",
       "      <th>5970</th>\n",
       "      <td>Lzjd20djqUgi9e34rcamykn6o1N/zEo0bRR0hLR7q/c=</td>\n",
       "      <td>1</td>\n",
       "      <td>0</td>\n",
       "      <td>NaN</td>\n",
       "      <td>7</td>\n",
       "      <td>20120214</td>\n",
       "    </tr>\n",
       "    <tr>\n",
       "      <th>5971</th>\n",
       "      <td>5kt95CfYuZPPMjUX8hRQ223fVjIu3DYS4CH3L3z6ePw=</td>\n",
       "      <td>1</td>\n",
       "      <td>0</td>\n",
       "      <td>NaN</td>\n",
       "      <td>7</td>\n",
       "      <td>20131018</td>\n",
       "    </tr>\n",
       "    <tr>\n",
       "      <th>5972</th>\n",
       "      <td>FuoRVJrwoGS6RftXzcDOWii0BlbhpmQfQNEaUo9ehE4=</td>\n",
       "      <td>1</td>\n",
       "      <td>0</td>\n",
       "      <td>NaN</td>\n",
       "      <td>7</td>\n",
       "      <td>20110928</td>\n",
       "    </tr>\n",
       "    <tr>\n",
       "      <th>5973</th>\n",
       "      <td>oCk86sDYK90jEbzj22PWfSV8LhebA/IALwXjhVqB+jQ=</td>\n",
       "      <td>1</td>\n",
       "      <td>0</td>\n",
       "      <td>NaN</td>\n",
       "      <td>7</td>\n",
       "      <td>20131124</td>\n",
       "    </tr>\n",
       "    <tr>\n",
       "      <th>5974</th>\n",
       "      <td>cMGRrxP/FzFNVb4gHZKhIEZXW6Q0/gqGWZhRxJJl3N4=</td>\n",
       "      <td>1</td>\n",
       "      <td>24</td>\n",
       "      <td>female</td>\n",
       "      <td>3</td>\n",
       "      <td>20150828</td>\n",
       "    </tr>\n",
       "    <tr>\n",
       "      <th>5975</th>\n",
       "      <td>4v4JDKlf2d0c0ARHRN8HAIb1vabnGeKhu3rHlZEbu90=</td>\n",
       "      <td>1</td>\n",
       "      <td>0</td>\n",
       "      <td>NaN</td>\n",
       "      <td>7</td>\n",
       "      <td>20150829</td>\n",
       "    </tr>\n",
       "    <tr>\n",
       "      <th>5976</th>\n",
       "      <td>Gi51QQ3gskd7+tn70Bq36wSUjs+Uddi+ua7hgndabmI=</td>\n",
       "      <td>1</td>\n",
       "      <td>0</td>\n",
       "      <td>NaN</td>\n",
       "      <td>7</td>\n",
       "      <td>20160104</td>\n",
       "    </tr>\n",
       "    <tr>\n",
       "      <th>5977</th>\n",
       "      <td>HQVcYYzhz0QPwcN2TpLKyLp4IfLU1fVDIGW0GViBQrA=</td>\n",
       "      <td>22</td>\n",
       "      <td>29</td>\n",
       "      <td>female</td>\n",
       "      <td>3</td>\n",
       "      <td>20130529</td>\n",
       "    </tr>\n",
       "    <tr>\n",
       "      <th>5978</th>\n",
       "      <td>0+YGO1GlBxzYPzAmm55GAyssHCTq+XFbZUzwPn964gk=</td>\n",
       "      <td>13</td>\n",
       "      <td>21</td>\n",
       "      <td>female</td>\n",
       "      <td>9</td>\n",
       "      <td>20140916</td>\n",
       "    </tr>\n",
       "    <tr>\n",
       "      <th>5979</th>\n",
       "      <td>ELTXxuQMqxasEo82rV23HqMge7iwmGHiUujiwDna58g=</td>\n",
       "      <td>1</td>\n",
       "      <td>0</td>\n",
       "      <td>NaN</td>\n",
       "      <td>7</td>\n",
       "      <td>20170222</td>\n",
       "    </tr>\n",
       "    <tr>\n",
       "      <th>5980</th>\n",
       "      <td>xEIf1LfVXjFdNuDJ5+6cLTgH7vGaLsZeZ1UwWKfF0Wo=</td>\n",
       "      <td>13</td>\n",
       "      <td>26</td>\n",
       "      <td>female</td>\n",
       "      <td>3</td>\n",
       "      <td>20130901</td>\n",
       "    </tr>\n",
       "    <tr>\n",
       "      <th>5981</th>\n",
       "      <td>Bc8eghyvm2CoiP298GjYk8Fb4dJdxSIV3MRN2PUiumU=</td>\n",
       "      <td>1</td>\n",
       "      <td>0</td>\n",
       "      <td>NaN</td>\n",
       "      <td>7</td>\n",
       "      <td>20160203</td>\n",
       "    </tr>\n",
       "    <tr>\n",
       "      <th>5982</th>\n",
       "      <td>SINiE/1RBNo+7N4NAtA8bXhKobxG8nMMNWH9iMvfNUA=</td>\n",
       "      <td>15</td>\n",
       "      <td>34</td>\n",
       "      <td>female</td>\n",
       "      <td>9</td>\n",
       "      <td>20080806</td>\n",
       "    </tr>\n",
       "    <tr>\n",
       "      <th>5983</th>\n",
       "      <td>Xl+mG2vLCvoU3F+bC/mKUZNV0pZtJra3zcXexR+0tic=</td>\n",
       "      <td>1</td>\n",
       "      <td>0</td>\n",
       "      <td>NaN</td>\n",
       "      <td>7</td>\n",
       "      <td>20151113</td>\n",
       "    </tr>\n",
       "    <tr>\n",
       "      <th>5984</th>\n",
       "      <td>VxuMFEtg0hDrWB7VYShwVDfxoU/T9KR77D7EsJ9iGEA=</td>\n",
       "      <td>1</td>\n",
       "      <td>0</td>\n",
       "      <td>NaN</td>\n",
       "      <td>7</td>\n",
       "      <td>20120122</td>\n",
       "    </tr>\n",
       "    <tr>\n",
       "      <th>5985</th>\n",
       "      <td>bVVBDcL3yfpYdEhd3fRUCFplUkp3sxQSl0WbO85x6bk=</td>\n",
       "      <td>1</td>\n",
       "      <td>0</td>\n",
       "      <td>NaN</td>\n",
       "      <td>7</td>\n",
       "      <td>20120725</td>\n",
       "    </tr>\n",
       "    <tr>\n",
       "      <th>5986</th>\n",
       "      <td>BwwuhpBDZbK94A5nj8GqH6dJLq89nMZCLty4U4SxHTY=</td>\n",
       "      <td>1</td>\n",
       "      <td>0</td>\n",
       "      <td>NaN</td>\n",
       "      <td>9</td>\n",
       "      <td>20150423</td>\n",
       "    </tr>\n",
       "    <tr>\n",
       "      <th>5987</th>\n",
       "      <td>ucTJ98Ss3U5syRMDhIutnO9qJqvTKoXGh3xEpaE3pCk=</td>\n",
       "      <td>13</td>\n",
       "      <td>31</td>\n",
       "      <td>male</td>\n",
       "      <td>3</td>\n",
       "      <td>20130224</td>\n",
       "    </tr>\n",
       "    <tr>\n",
       "      <th>5988</th>\n",
       "      <td>YeWUZ0+vbcm27AwVDi4K1x3sqGtcgBTFlVvhoCJ94BY=</td>\n",
       "      <td>14</td>\n",
       "      <td>21</td>\n",
       "      <td>male</td>\n",
       "      <td>3</td>\n",
       "      <td>20150921</td>\n",
       "    </tr>\n",
       "    <tr>\n",
       "      <th>5989</th>\n",
       "      <td>nucZPnaK4YHZPuorUmZK+HGkM1fA4FuLI5uRd/5haxE=</td>\n",
       "      <td>1</td>\n",
       "      <td>0</td>\n",
       "      <td>NaN</td>\n",
       "      <td>7</td>\n",
       "      <td>20160102</td>\n",
       "    </tr>\n",
       "    <tr>\n",
       "      <th>5990</th>\n",
       "      <td>QJxY+Jo5AieTNVggitvMAz91+JuIKY41XIb3lfeWVq4=</td>\n",
       "      <td>15</td>\n",
       "      <td>21</td>\n",
       "      <td>female</td>\n",
       "      <td>3</td>\n",
       "      <td>20140928</td>\n",
       "    </tr>\n",
       "    <tr>\n",
       "      <th>5991</th>\n",
       "      <td>N3At8RVq9rNE/vOZQ69exizFhO3zjSARACjr+8CLT8g=</td>\n",
       "      <td>1</td>\n",
       "      <td>0</td>\n",
       "      <td>NaN</td>\n",
       "      <td>9</td>\n",
       "      <td>20150829</td>\n",
       "    </tr>\n",
       "    <tr>\n",
       "      <th>5992</th>\n",
       "      <td>tFf0jvmfInZ1HQtdh6GPK5wVIRJ5TiwU2akSg+jV5do=</td>\n",
       "      <td>15</td>\n",
       "      <td>20</td>\n",
       "      <td>female</td>\n",
       "      <td>9</td>\n",
       "      <td>20150319</td>\n",
       "    </tr>\n",
       "    <tr>\n",
       "      <th>5993</th>\n",
       "      <td>tUxGLJ1zpoD4PSRburR6S87mHnnhu4P03/V7IFiJaoE=</td>\n",
       "      <td>1</td>\n",
       "      <td>0</td>\n",
       "      <td>NaN</td>\n",
       "      <td>7</td>\n",
       "      <td>20131214</td>\n",
       "    </tr>\n",
       "    <tr>\n",
       "      <th>5994</th>\n",
       "      <td>fsSNAPUtGOTQcNiQwjIAOSrOf0odMv/dq9g2hcTQrBg=</td>\n",
       "      <td>22</td>\n",
       "      <td>25</td>\n",
       "      <td>female</td>\n",
       "      <td>9</td>\n",
       "      <td>20140111</td>\n",
       "    </tr>\n",
       "    <tr>\n",
       "      <th>5995</th>\n",
       "      <td>AoVkXLhPPcwRsuxqM3HEEONFoFVWgwurq+33yJFEAzo=</td>\n",
       "      <td>1</td>\n",
       "      <td>0</td>\n",
       "      <td>NaN</td>\n",
       "      <td>7</td>\n",
       "      <td>20140123</td>\n",
       "    </tr>\n",
       "    <tr>\n",
       "      <th>5996</th>\n",
       "      <td>lQRZs5VBMuPHO5NAU7CSbAVfYl852PDBfXCJPq9N8bM=</td>\n",
       "      <td>1</td>\n",
       "      <td>0</td>\n",
       "      <td>NaN</td>\n",
       "      <td>7</td>\n",
       "      <td>20160123</td>\n",
       "    </tr>\n",
       "    <tr>\n",
       "      <th>5997</th>\n",
       "      <td>HaIBo5AH4f7fAxno7BkQ9ED77Go9OvxXL1eu5Xjz5wk=</td>\n",
       "      <td>4</td>\n",
       "      <td>16</td>\n",
       "      <td>female</td>\n",
       "      <td>9</td>\n",
       "      <td>20141125</td>\n",
       "    </tr>\n",
       "    <tr>\n",
       "      <th>5998</th>\n",
       "      <td>AOF4kmVxLl1bEIcvR7Q8S7WGrJthkKzqrzP5n3I11tM=</td>\n",
       "      <td>22</td>\n",
       "      <td>21</td>\n",
       "      <td>NaN</td>\n",
       "      <td>9</td>\n",
       "      <td>20141219</td>\n",
       "    </tr>\n",
       "    <tr>\n",
       "      <th>5999</th>\n",
       "      <td>eBKLRKO9X/THUePosFTLmo22uVR883VOlxV4dpYFQcU=</td>\n",
       "      <td>4</td>\n",
       "      <td>0</td>\n",
       "      <td>male</td>\n",
       "      <td>3</td>\n",
       "      <td>20140813</td>\n",
       "    </tr>\n",
       "  </tbody>\n",
       "</table>\n",
       "<p>6000 rows × 6 columns</p>\n",
       "</div>"
      ],
      "text/plain": [
       "                                              msno  city  bd  gender  \\\n",
       "0     7Bx3zw0JFFwCXjkWgqhMxnQQLzy7Idmc+J1qXU8GhAY=    13  25  female   \n",
       "1     OFhJwMVNuJKYC6MNLmCulVSJatkQ1ZexipKpyujQa4c=     5   0  female   \n",
       "2     OFjgd4O5aCzXBFosKhGhqB8bKEgtV/9RQSN28yPtGHk=     1   0     NaN   \n",
       "3     G7Zl2XAspwOaYJLlKK3FLmgypn3qYeGFKC/9WbczS+0=     4  43  female   \n",
       "4     7v4BtQAEWazr9JYq5iqbNtWp0SNTNgKTBNZ0z+9CGEM=    15  21  female   \n",
       "5     u+WZZ2Krx0UKt84Ybh/cm2bvGTJ4/UIZ5XmNxNSOLQk=     4  28  female   \n",
       "6     caGU+95LX9FI/Om209xn0LMKvOf9PuDgvK8paFCDyOk=     5  27     NaN   \n",
       "7     +HrxOQaFgX6NWdFPYukNqr5Ud749/a/Z/txn+c+MJEI=    15   0     NaN   \n",
       "8     CxKIZcJY75vsiUlfeO9/J1Ld8fdAi3Y3JEK+ig7sXGQ=     1   0     NaN   \n",
       "9     CAFHFJ5R3K32rQHKxwRamDwGZTQNOHik+P3+1ttV7kQ=     1   0     NaN   \n",
       "10    xqAZORwWLxUpynzHFoEcCAn7fyOS6e2M7bsDfwijW4g=    13  32    male   \n",
       "11    D2xql4Q2zJZu8mS+gjf1pecv47jIexrvUXaj0vY/bIw=     5  43  female   \n",
       "12    w2O0vchmncaBEQLoC5Pn7qRoSPiJ6X2x5O+woVFDhnY=    13   0     NaN   \n",
       "13    U5tbvceawNGN1XKTnVUWIWzXx5VTi1wtd8wTPQNecBw=     1   0     NaN   \n",
       "14    9xbBiLUqUp5O6f265+QFjJC5KsQgEp2fGFpMml5I/AU=     3  37  female   \n",
       "15    QGaFIiqfUJMwLX81Tux1ea1uibNBB+HTiUCVOCnGmkQ=     1   0     NaN   \n",
       "16    7xNkNoVMi3Sm40SjyZ8IA3OHP6/+KJUEIBY7Zfeul18=    13  31    male   \n",
       "17    XH34I/IhCGbN9KimZLXsopCZn3iSUXd3S9iBafxdHZg=     1   0     NaN   \n",
       "18    EflzwWuPdSe46cZSHxL5Ha+A214hKTICMDw5Aqf540E=    14  32    male   \n",
       "19    yX5+R12PKUNcnk/TJEZlOTJ7VEsEk3AfK771BdD7FAM=     1   0     NaN   \n",
       "20    HN5BbCoYUmKZ7BfzevD/z1oXp78xwayH1JQAbrWhwRU=    15  17    male   \n",
       "21    wThsaVNwbYxSNUUD+VJx1mhrhsoErX5rMOneTleapvk=     6  37    male   \n",
       "22    mPVi+96lSxYRiXJKQokv4hqwuEIVjDx4C4vUqFifdLY=    15  49    male   \n",
       "23    6vY+Iuos8H/NJBxjhINTmDy6+KFU++3YK10GZrugm1E=    15  32    male   \n",
       "24    eM/qgPDjVqsXWbfW79p7Ze/vjoozXWvLgUeRtzRU8wA=    13  27    male   \n",
       "25    D1gRmAG0UFD5+biZrG4ThQqNLJ1E6tboqoBzCryn7Zk=    13  45  female   \n",
       "26    nvrqEDhqcszqXla8vcntFAnvCbERCJ8d3KOU+NOCAS8=     1   0     NaN   \n",
       "27    JakF2MGUoJa9QKpmXWNHA1R7XuzvA//M9Y3qckugI7s=     1   0     NaN   \n",
       "28    5BaY1+tOeK58TzFb08sW3geo0rJKumLcApnLa07iSG4=     1   0     NaN   \n",
       "29    +PkJB+K0J6zfg71BPlmUHuG6LJlMMa2Z8RIyr72RT1U=     4   0     NaN   \n",
       "...                                            ...   ...  ..     ...   \n",
       "5970  Lzjd20djqUgi9e34rcamykn6o1N/zEo0bRR0hLR7q/c=     1   0     NaN   \n",
       "5971  5kt95CfYuZPPMjUX8hRQ223fVjIu3DYS4CH3L3z6ePw=     1   0     NaN   \n",
       "5972  FuoRVJrwoGS6RftXzcDOWii0BlbhpmQfQNEaUo9ehE4=     1   0     NaN   \n",
       "5973  oCk86sDYK90jEbzj22PWfSV8LhebA/IALwXjhVqB+jQ=     1   0     NaN   \n",
       "5974  cMGRrxP/FzFNVb4gHZKhIEZXW6Q0/gqGWZhRxJJl3N4=     1  24  female   \n",
       "5975  4v4JDKlf2d0c0ARHRN8HAIb1vabnGeKhu3rHlZEbu90=     1   0     NaN   \n",
       "5976  Gi51QQ3gskd7+tn70Bq36wSUjs+Uddi+ua7hgndabmI=     1   0     NaN   \n",
       "5977  HQVcYYzhz0QPwcN2TpLKyLp4IfLU1fVDIGW0GViBQrA=    22  29  female   \n",
       "5978  0+YGO1GlBxzYPzAmm55GAyssHCTq+XFbZUzwPn964gk=    13  21  female   \n",
       "5979  ELTXxuQMqxasEo82rV23HqMge7iwmGHiUujiwDna58g=     1   0     NaN   \n",
       "5980  xEIf1LfVXjFdNuDJ5+6cLTgH7vGaLsZeZ1UwWKfF0Wo=    13  26  female   \n",
       "5981  Bc8eghyvm2CoiP298GjYk8Fb4dJdxSIV3MRN2PUiumU=     1   0     NaN   \n",
       "5982  SINiE/1RBNo+7N4NAtA8bXhKobxG8nMMNWH9iMvfNUA=    15  34  female   \n",
       "5983  Xl+mG2vLCvoU3F+bC/mKUZNV0pZtJra3zcXexR+0tic=     1   0     NaN   \n",
       "5984  VxuMFEtg0hDrWB7VYShwVDfxoU/T9KR77D7EsJ9iGEA=     1   0     NaN   \n",
       "5985  bVVBDcL3yfpYdEhd3fRUCFplUkp3sxQSl0WbO85x6bk=     1   0     NaN   \n",
       "5986  BwwuhpBDZbK94A5nj8GqH6dJLq89nMZCLty4U4SxHTY=     1   0     NaN   \n",
       "5987  ucTJ98Ss3U5syRMDhIutnO9qJqvTKoXGh3xEpaE3pCk=    13  31    male   \n",
       "5988  YeWUZ0+vbcm27AwVDi4K1x3sqGtcgBTFlVvhoCJ94BY=    14  21    male   \n",
       "5989  nucZPnaK4YHZPuorUmZK+HGkM1fA4FuLI5uRd/5haxE=     1   0     NaN   \n",
       "5990  QJxY+Jo5AieTNVggitvMAz91+JuIKY41XIb3lfeWVq4=    15  21  female   \n",
       "5991  N3At8RVq9rNE/vOZQ69exizFhO3zjSARACjr+8CLT8g=     1   0     NaN   \n",
       "5992  tFf0jvmfInZ1HQtdh6GPK5wVIRJ5TiwU2akSg+jV5do=    15  20  female   \n",
       "5993  tUxGLJ1zpoD4PSRburR6S87mHnnhu4P03/V7IFiJaoE=     1   0     NaN   \n",
       "5994  fsSNAPUtGOTQcNiQwjIAOSrOf0odMv/dq9g2hcTQrBg=    22  25  female   \n",
       "5995  AoVkXLhPPcwRsuxqM3HEEONFoFVWgwurq+33yJFEAzo=     1   0     NaN   \n",
       "5996  lQRZs5VBMuPHO5NAU7CSbAVfYl852PDBfXCJPq9N8bM=     1   0     NaN   \n",
       "5997  HaIBo5AH4f7fAxno7BkQ9ED77Go9OvxXL1eu5Xjz5wk=     4  16  female   \n",
       "5998  AOF4kmVxLl1bEIcvR7Q8S7WGrJthkKzqrzP5n3I11tM=    22  21     NaN   \n",
       "5999  eBKLRKO9X/THUePosFTLmo22uVR883VOlxV4dpYFQcU=     4   0    male   \n",
       "\n",
       "      registered_via  registration_init_time  \n",
       "0                  9                20141130  \n",
       "1                  9                20141130  \n",
       "2                  7                20130116  \n",
       "3                  7                20110321  \n",
       "4                  3                20160321  \n",
       "5                  9                20150216  \n",
       "6                  9                20150317  \n",
       "7                  9                20131214  \n",
       "8                  4                20151121  \n",
       "9                  7                20130627  \n",
       "10                 7                20101030  \n",
       "11                 9                20091012  \n",
       "12                 9                20140605  \n",
       "13                 7                20170211  \n",
       "14                 7                20150912  \n",
       "15                 7                20150923  \n",
       "16                 9                20150924  \n",
       "17                 4                20170103  \n",
       "18                 3                20170205  \n",
       "19                 7                20150904  \n",
       "20                 4                20160625  \n",
       "21                 9                20060514  \n",
       "22                 9                20070425  \n",
       "23                 9                20070630  \n",
       "24                 9                20070717  \n",
       "25                 7                20170104  \n",
       "26                 7                20170116  \n",
       "27                 9                20120212  \n",
       "28                 7                20170110  \n",
       "29                 4                20161106  \n",
       "...              ...                     ...  \n",
       "5970               7                20120214  \n",
       "5971               7                20131018  \n",
       "5972               7                20110928  \n",
       "5973               7                20131124  \n",
       "5974               3                20150828  \n",
       "5975               7                20150829  \n",
       "5976               7                20160104  \n",
       "5977               3                20130529  \n",
       "5978               9                20140916  \n",
       "5979               7                20170222  \n",
       "5980               3                20130901  \n",
       "5981               7                20160203  \n",
       "5982               9                20080806  \n",
       "5983               7                20151113  \n",
       "5984               7                20120122  \n",
       "5985               7                20120725  \n",
       "5986               9                20150423  \n",
       "5987               3                20130224  \n",
       "5988               3                20150921  \n",
       "5989               7                20160102  \n",
       "5990               3                20140928  \n",
       "5991               9                20150829  \n",
       "5992               9                20150319  \n",
       "5993               7                20131214  \n",
       "5994               9                20140111  \n",
       "5995               7                20140123  \n",
       "5996               7                20160123  \n",
       "5997               9                20141125  \n",
       "5998               9                20141219  \n",
       "5999               3                20140813  \n",
       "\n",
       "[6000 rows x 6 columns]"
      ]
     },
     "execution_count": 9,
     "metadata": {},
     "output_type": "execute_result"
    }
   ],
   "source": [
    "d_mem"
   ]
  },
  {
   "cell_type": "code",
   "execution_count": 53,
   "metadata": {
    "collapsed": false
   },
   "outputs": [
    {
     "data": {
      "text/plain": [
       "Index(['msno', 'city', 'bd', 'gender', 'registered_via', 'days', 'season'], dtype='object')"
      ]
     },
     "execution_count": 53,
     "metadata": {},
     "output_type": "execute_result"
    }
   ],
   "source": [
    "d_mem_2.columns"
   ]
  },
  {
   "cell_type": "code",
   "execution_count": 10,
   "metadata": {
    "collapsed": false
   },
   "outputs": [
    {
     "data": {
      "text/plain": [
       "2787"
      ]
     },
     "execution_count": 10,
     "metadata": {},
     "output_type": "execute_result"
    }
   ],
   "source": [
    "get_amount_of_null(d_mem, 'gender')\n",
    "\n",
    "#get_pieplot()"
   ]
  },
  {
   "cell_type": "code",
   "execution_count": 11,
   "metadata": {
    "collapsed": false
   },
   "outputs": [
    {
     "data": {
      "image/png": "[encoded data removed]",
      "text/plain": [
       "<matplotlib.figure.Figure at 0x28a5fa9a9b0>"
      ]
     },
     "metadata": {},
     "output_type": "display_data"
    }
   ],
   "source": [
    "pieces=[get_amount_of_obj(d_mem, 'gender', text='female'),get_amount_of_obj(d_mem, 'gender', text='male'),get_amount_of_null(d_mem, 'gender')]\n",
    "col=['r', 'b', 'g']\n",
    "labels=['Female', 'Male', 'Not given']\n",
    "get_pieplot(pieces, labels, col)"
   ]
  },
  {
   "cell_type": "code",
   "execution_count": 12,
   "metadata": {
    "collapsed": false
   },
   "outputs": [
    {
     "data": {
      "text/plain": [
       "0"
      ]
     },
     "execution_count": 12,
     "metadata": {},
     "output_type": "execute_result"
    }
   ],
   "source": [
    "get_amount_of_null(d_mem, 'bd')"
   ]
  },
  {
   "cell_type": "code",
   "execution_count": 13,
   "metadata": {
    "collapsed": false
   },
   "outputs": [
    {
     "data": {
      "text/html": [
       "<div>\n",
       "<table border=\"1\" class=\"dataframe\">\n",
       "  <thead>\n",
       "    <tr style=\"text-align: right;\">\n",
       "      <th></th>\n",
       "      <th>count</th>\n",
       "      <th>mean</th>\n",
       "      <th>std</th>\n",
       "      <th>min</th>\n",
       "      <th>25%</th>\n",
       "      <th>50%</th>\n",
       "      <th>75%</th>\n",
       "      <th>max</th>\n",
       "    </tr>\n",
       "  </thead>\n",
       "  <tbody>\n",
       "    <tr>\n",
       "      <th>bd</th>\n",
       "      <td>6000.0</td>\n",
       "      <td>16.053667</td>\n",
       "      <td>24.019706</td>\n",
       "      <td>0.0</td>\n",
       "      <td>0.0</td>\n",
       "      <td>19.0</td>\n",
       "      <td>28.0</td>\n",
       "      <td>1032.0</td>\n",
       "    </tr>\n",
       "  </tbody>\n",
       "</table>\n",
       "</div>"
      ],
      "text/plain": [
       "     count       mean        std  min  25%   50%   75%     max\n",
       "bd  6000.0  16.053667  24.019706  0.0  0.0  19.0  28.0  1032.0"
      ]
     },
     "execution_count": 13,
     "metadata": {},
     "output_type": "execute_result"
    }
   ],
   "source": [
    "get_description_for_qual(d_mem, 'bd')"
   ]
  },
  {
   "cell_type": "code",
   "execution_count": 14,
   "metadata": {
    "collapsed": false
   },
   "outputs": [
    {
     "name": "stderr",
     "output_type": "stream",
     "text": [
      "C:\\Users\\PC\\Anaconda3\\lib\\site-packages\\ipykernel\\__main__.py:1: UserWarning: Boolean Series key will be reindexed to match DataFrame index.\n",
      "  if __name__ == '__main__':\n"
     ]
    },
    {
     "data": {
      "text/html": [
       "<div>\n",
       "<table border=\"1\" class=\"dataframe\">\n",
       "  <thead>\n",
       "    <tr style=\"text-align: right;\">\n",
       "      <th></th>\n",
       "      <th>count</th>\n",
       "      <th>mean</th>\n",
       "      <th>std</th>\n",
       "      <th>min</th>\n",
       "      <th>25%</th>\n",
       "      <th>50%</th>\n",
       "      <th>75%</th>\n",
       "      <th>max</th>\n",
       "    </tr>\n",
       "  </thead>\n",
       "  <tbody>\n",
       "    <tr>\n",
       "      <th>bd</th>\n",
       "      <td>3288.0</td>\n",
       "      <td>28.530414</td>\n",
       "      <td>8.694927</td>\n",
       "      <td>14.0</td>\n",
       "      <td>22.0</td>\n",
       "      <td>27.0</td>\n",
       "      <td>33.0</td>\n",
       "      <td>70.0</td>\n",
       "    </tr>\n",
       "  </tbody>\n",
       "</table>\n",
       "</div>"
      ],
      "text/plain": [
       "     count       mean       std   min   25%   50%   75%   max\n",
       "bd  3288.0  28.530414  8.694927  14.0  22.0  27.0  33.0  70.0"
      ]
     },
     "execution_count": 14,
     "metadata": {},
     "output_type": "execute_result"
    }
   ],
   "source": [
    "get_description_for_qual(d_mem[d_mem.bd>6][d_mem.bd<100], 'bd')"
   ]
  },
  {
   "cell_type": "code",
   "execution_count": 15,
   "metadata": {
    "collapsed": false
   },
   "outputs": [
    {
     "name": "stderr",
     "output_type": "stream",
     "text": [
      "C:\\Users\\PC\\Anaconda3\\lib\\site-packages\\ipykernel\\__main__.py:1: UserWarning: Boolean Series key will be reindexed to match DataFrame index.\n",
      "  if __name__ == '__main__':\n"
     ]
    },
    {
     "data": {
      "image/png": "[encoded data removed]",
      "text/plain": [
       "<matplotlib.figure.Figure at 0x28a60049438>"
      ]
     },
     "metadata": {},
     "output_type": "display_data"
    }
   ],
   "source": [
    "get_plot_for_usual(d_mem[d_mem.bd>6][d_mem.bd<100], 'bd', \"Распределение возраста\", 'Возраст', 'Частота')"
   ]
  },
  {
   "cell_type": "code",
   "execution_count": 16,
   "metadata": {
    "collapsed": false
   },
   "outputs": [
    {
     "data": {
      "image/png": "[encoded data removed]",
      "text/plain": [
       "<matplotlib.figure.Figure at 0x28a6012dfd0>"
      ]
     },
     "metadata": {},
     "output_type": "display_data"
    }
   ],
   "source": [
    "plt.boxplot(d_mem.bd)\n",
    "plt.title(\"Ящик с усами для возраста\")\n",
    "plt.ylabel('Возраст')\n",
    "plt.show()"
   ]
  },
  {
   "cell_type": "code",
   "execution_count": 17,
   "metadata": {
    "collapsed": false
   },
   "outputs": [
    {
     "data": {
      "text/plain": [
       "0"
      ]
     },
     "execution_count": 17,
     "metadata": {},
     "output_type": "execute_result"
    }
   ],
   "source": [
    "get_amount_of_null(d=d_mem, col='city')"
   ]
  },
  {
   "cell_type": "code",
   "execution_count": 18,
   "metadata": {
    "collapsed": false
   },
   "outputs": [
    {
     "data": {
      "text/html": [
       "<div>\n",
       "<table border=\"1\" class=\"dataframe\">\n",
       "  <thead>\n",
       "    <tr style=\"text-align: right;\">\n",
       "      <th></th>\n",
       "      <th>count</th>\n",
       "      <th>mean</th>\n",
       "      <th>std</th>\n",
       "      <th>min</th>\n",
       "      <th>25%</th>\n",
       "      <th>50%</th>\n",
       "      <th>75%</th>\n",
       "      <th>max</th>\n",
       "    </tr>\n",
       "  </thead>\n",
       "  <tbody>\n",
       "    <tr>\n",
       "      <th>city</th>\n",
       "      <td>6000.0</td>\n",
       "      <td>6.933833</td>\n",
       "      <td>6.677416</td>\n",
       "      <td>1.0</td>\n",
       "      <td>1.0</td>\n",
       "      <td>5.0</td>\n",
       "      <td>13.0</td>\n",
       "      <td>22.0</td>\n",
       "    </tr>\n",
       "  </tbody>\n",
       "</table>\n",
       "</div>"
      ],
      "text/plain": [
       "       count      mean       std  min  25%  50%   75%   max\n",
       "city  6000.0  6.933833  6.677416  1.0  1.0  5.0  13.0  22.0"
      ]
     },
     "execution_count": 18,
     "metadata": {},
     "output_type": "execute_result"
    }
   ],
   "source": [
    "d_mem.describe()[['city']].T"
   ]
  },
  {
   "cell_type": "code",
   "execution_count": 21,
   "metadata": {
    "collapsed": false
   },
   "outputs": [
    {
     "data": {
      "image/png": "[encoded data removed]",
      "text/plain": [
       "<matplotlib.figure.Figure at 0x28a601ed3c8>"
      ]
     },
     "metadata": {},
     "output_type": "display_data"
    }
   ],
   "source": [
    "get_plot_for_qual(d_mem, 'city', 'Распределение пользователей по городам', 'Город', 'Частота', 21)"
   ]
  },
  {
   "cell_type": "code",
   "execution_count": null,
   "metadata": {
    "collapsed": true
   },
   "outputs": [],
   "source": []
  },
  {
   "cell_type": "code",
   "execution_count": null,
   "metadata": {
    "collapsed": true
   },
   "outputs": [],
   "source": [
    "get"
   ]
  },
  {
   "cell_type": "code",
   "execution_count": 17,
   "metadata": {
    "collapsed": false
   },
   "outputs": [],
   "source": [
    "#plt.bar(range(0,6000) , d_mem['city'])\n",
    "#plt.show()"
   ]
  },
  {
   "cell_type": "code",
   "execution_count": 258,
   "metadata": {
    "collapsed": false
   },
   "outputs": [
    {
     "data": {
      "text/plain": [
       "0"
      ]
     },
     "execution_count": 258,
     "metadata": {},
     "output_type": "execute_result"
    }
   ],
   "source": [
    "get_amount_of_null(d_mem, 'registered_via')"
   ]
  },
  {
   "cell_type": "code",
   "execution_count": 262,
   "metadata": {
    "collapsed": false
   },
   "outputs": [
    {
     "data": {
      "image/png": "[encoded data removed]",
      "text/plain": [
       "<matplotlib.figure.Figure at 0x25e69d7dac8>"
      ]
     },
     "metadata": {},
     "output_type": "display_data"
    }
   ],
   "source": [
    "get_plot_for_qual(d_mem, 'registered_via', 'Распределение способов регистрации', 'Способ регистрации', 'Частота')"
   ]
  },
  {
   "cell_type": "code",
   "execution_count": 26,
   "metadata": {
    "collapsed": false
   },
   "outputs": [
    {
     "data": {
      "image/png": "[encoded data removed]",
      "text/plain": [
       "<matplotlib.figure.Figure at 0x1ed09718390>"
      ]
     },
     "metadata": {},
     "output_type": "display_data"
    }
   ],
   "source": [
    "get_plot_for_date(d_mem, 'registration_init_time' ,'Распределение по датам регистрации', 'Дата', 'Частота')"
   ]
  },
  {
   "cell_type": "code",
   "execution_count": 39,
   "metadata": {
    "collapsed": false
   },
   "outputs": [
    {
     "data": {
      "text/html": [
       "<div>\n",
       "<table border=\"1\" class=\"dataframe\">\n",
       "  <thead>\n",
       "    <tr style=\"text-align: right;\">\n",
       "      <th></th>\n",
       "      <th>count</th>\n",
       "      <th>mean</th>\n",
       "      <th>std</th>\n",
       "      <th>min</th>\n",
       "      <th>25%</th>\n",
       "      <th>50%</th>\n",
       "      <th>75%</th>\n",
       "      <th>max</th>\n",
       "    </tr>\n",
       "  </thead>\n",
       "  <tbody>\n",
       "    <tr>\n",
       "      <th>registration_init_time</th>\n",
       "      <td>6000.0</td>\n",
       "      <td>2.013220e+07</td>\n",
       "      <td>31210.010004</td>\n",
       "      <td>20040327.0</td>\n",
       "      <td>20120406.0</td>\n",
       "      <td>20140606.0</td>\n",
       "      <td>20160116.0</td>\n",
       "      <td>20170326.0</td>\n",
       "    </tr>\n",
       "  </tbody>\n",
       "</table>\n",
       "</div>"
      ],
      "text/plain": [
       "                         count          mean           std         min  \\\n",
       "registration_init_time  6000.0  2.013220e+07  31210.010004  20040327.0   \n",
       "\n",
       "                               25%         50%         75%         max  \n",
       "registration_init_time  20120406.0  20140606.0  20160116.0  20170326.0  "
      ]
     },
     "execution_count": 39,
     "metadata": {},
     "output_type": "execute_result"
    }
   ],
   "source": [
    "get_description_for_qual(d_mem, col='registration_init_time')"
   ]
  },
  {
   "cell_type": "code",
   "execution_count": null,
   "metadata": {
    "collapsed": true
   },
   "outputs": [],
   "source": []
  },
  {
   "cell_type": "markdown",
   "metadata": {},
   "source": [
    "# Таблица user_logs"
   ]
  },
  {
   "cell_type": "code",
   "execution_count": 51,
   "metadata": {
    "collapsed": false
   },
   "outputs": [
    {
     "data": {
      "text/html": [
       "<div>\n",
       "<table border=\"1\" class=\"dataframe\">\n",
       "  <thead>\n",
       "    <tr style=\"text-align: right;\">\n",
       "      <th></th>\n",
       "      <th>msno</th>\n",
       "      <th>date</th>\n",
       "      <th>num_25</th>\n",
       "      <th>num_50</th>\n",
       "      <th>num_75</th>\n",
       "      <th>num_985</th>\n",
       "      <th>num_100</th>\n",
       "      <th>num_unq</th>\n",
       "      <th>total_secs</th>\n",
       "    </tr>\n",
       "  </thead>\n",
       "  <tbody>\n",
       "    <tr>\n",
       "      <th>0</th>\n",
       "      <td>k6eJ3xRzpnAkLsdWp4fFsiN7loavl/agmfrUdvFCJQI=</td>\n",
       "      <td>20170310</td>\n",
       "      <td>22</td>\n",
       "      <td>11</td>\n",
       "      <td>7</td>\n",
       "      <td>1</td>\n",
       "      <td>0</td>\n",
       "      <td>36</td>\n",
       "      <td>2344.100</td>\n",
       "    </tr>\n",
       "    <tr>\n",
       "      <th>1</th>\n",
       "      <td>mDKq91Oh/6Xf9M8diUwkngAmESHOodRWfPYICPb5pCk=</td>\n",
       "      <td>20170303</td>\n",
       "      <td>11</td>\n",
       "      <td>4</td>\n",
       "      <td>2</td>\n",
       "      <td>3</td>\n",
       "      <td>13</td>\n",
       "      <td>23</td>\n",
       "      <td>4355.847</td>\n",
       "    </tr>\n",
       "    <tr>\n",
       "      <th>2</th>\n",
       "      <td>gXdMWngaV19y8Q58XauCO7K9eImYEuAj1omfKWo16j0=</td>\n",
       "      <td>20170326</td>\n",
       "      <td>32</td>\n",
       "      <td>6</td>\n",
       "      <td>5</td>\n",
       "      <td>4</td>\n",
       "      <td>93</td>\n",
       "      <td>89</td>\n",
       "      <td>26062.316</td>\n",
       "    </tr>\n",
       "    <tr>\n",
       "      <th>3</th>\n",
       "      <td>HvF3jxKYlcwLsm8gyaHSFak+GG0rezgvHeZQl4Us4Ig=</td>\n",
       "      <td>20170325</td>\n",
       "      <td>34</td>\n",
       "      <td>7</td>\n",
       "      <td>2</td>\n",
       "      <td>3</td>\n",
       "      <td>66</td>\n",
       "      <td>89</td>\n",
       "      <td>14213.393</td>\n",
       "    </tr>\n",
       "    <tr>\n",
       "      <th>4</th>\n",
       "      <td>SWeWAl/aiYcfcc6QMsKD2A31LRFPG9kFOBKfgwSHHv8=</td>\n",
       "      <td>20170310</td>\n",
       "      <td>10</td>\n",
       "      <td>3</td>\n",
       "      <td>3</td>\n",
       "      <td>1</td>\n",
       "      <td>24</td>\n",
       "      <td>31</td>\n",
       "      <td>6905.749</td>\n",
       "    </tr>\n",
       "    <tr>\n",
       "      <th>5</th>\n",
       "      <td>KA5dMRsM07XXxKpfhxTlwV1yfBr6YTYTeG1/HoHT2oE=</td>\n",
       "      <td>20170329</td>\n",
       "      <td>13</td>\n",
       "      <td>40</td>\n",
       "      <td>7</td>\n",
       "      <td>3</td>\n",
       "      <td>52</td>\n",
       "      <td>85</td>\n",
       "      <td>18043.027</td>\n",
       "    </tr>\n",
       "    <tr>\n",
       "      <th>6</th>\n",
       "      <td>KBuWswtb9xWJyaGGG+jwsrpxQAyDZs2Nl+fCinDD2rk=</td>\n",
       "      <td>20170311</td>\n",
       "      <td>1</td>\n",
       "      <td>0</td>\n",
       "      <td>0</td>\n",
       "      <td>1</td>\n",
       "      <td>97</td>\n",
       "      <td>98</td>\n",
       "      <td>24093.472</td>\n",
       "    </tr>\n",
       "    <tr>\n",
       "      <th>7</th>\n",
       "      <td>ag0vLQx9oskpyF5PkeiPaBhzAgQFf5T91+rc1uk58Ck=</td>\n",
       "      <td>20170313</td>\n",
       "      <td>57</td>\n",
       "      <td>4</td>\n",
       "      <td>3</td>\n",
       "      <td>2</td>\n",
       "      <td>40</td>\n",
       "      <td>87</td>\n",
       "      <td>11473.705</td>\n",
       "    </tr>\n",
       "    <tr>\n",
       "      <th>8</th>\n",
       "      <td>YI0ryhHWui9Mv97DSK2sdjvQCJRJfoOhDjAid+qwz5k=</td>\n",
       "      <td>20170308</td>\n",
       "      <td>0</td>\n",
       "      <td>0</td>\n",
       "      <td>0</td>\n",
       "      <td>0</td>\n",
       "      <td>3</td>\n",
       "      <td>3</td>\n",
       "      <td>536.658</td>\n",
       "    </tr>\n",
       "    <tr>\n",
       "      <th>9</th>\n",
       "      <td>ptxRpqP2bzeecsLU94NMbMUz0g5T20iAjJ5hwlk+3ik=</td>\n",
       "      <td>20170329</td>\n",
       "      <td>30</td>\n",
       "      <td>7</td>\n",
       "      <td>0</td>\n",
       "      <td>6</td>\n",
       "      <td>42</td>\n",
       "      <td>73</td>\n",
       "      <td>11801.038</td>\n",
       "    </tr>\n",
       "    <tr>\n",
       "      <th>10</th>\n",
       "      <td>EHIq5HXqb5bzjp3w0oayFvlfrY6ybA5foakvcVKpTZ8=</td>\n",
       "      <td>20170306</td>\n",
       "      <td>3</td>\n",
       "      <td>1</td>\n",
       "      <td>1</td>\n",
       "      <td>2</td>\n",
       "      <td>24</td>\n",
       "      <td>18</td>\n",
       "      <td>5413.470</td>\n",
       "    </tr>\n",
       "    <tr>\n",
       "      <th>11</th>\n",
       "      <td>3ICfhBAzTOHbKy4+uXa94lT1Jk2Hn/AvIBKvykuUYZU=</td>\n",
       "      <td>20170314</td>\n",
       "      <td>19</td>\n",
       "      <td>1</td>\n",
       "      <td>1</td>\n",
       "      <td>0</td>\n",
       "      <td>32</td>\n",
       "      <td>48</td>\n",
       "      <td>7374.163</td>\n",
       "    </tr>\n",
       "    <tr>\n",
       "      <th>12</th>\n",
       "      <td>xFZwDmIqFBDck2AXdIKBCRXtpqKUgMpK74zOP+evsxg=</td>\n",
       "      <td>20170313</td>\n",
       "      <td>4</td>\n",
       "      <td>1</td>\n",
       "      <td>0</td>\n",
       "      <td>0</td>\n",
       "      <td>58</td>\n",
       "      <td>54</td>\n",
       "      <td>15043.559</td>\n",
       "    </tr>\n",
       "    <tr>\n",
       "      <th>13</th>\n",
       "      <td>vZNBMDk/lFHY1GJj1iYFksoOrTzlWLn9D3JtDHTOsoQ=</td>\n",
       "      <td>20170321</td>\n",
       "      <td>5</td>\n",
       "      <td>3</td>\n",
       "      <td>1</td>\n",
       "      <td>1</td>\n",
       "      <td>106</td>\n",
       "      <td>106</td>\n",
       "      <td>29431.546</td>\n",
       "    </tr>\n",
       "    <tr>\n",
       "      <th>14</th>\n",
       "      <td>wHfD7e0+WowNr6NSYMpkiTkgPsDQbfC6dNSGsN+JLa4=</td>\n",
       "      <td>20170329</td>\n",
       "      <td>6</td>\n",
       "      <td>3</td>\n",
       "      <td>1</td>\n",
       "      <td>0</td>\n",
       "      <td>14</td>\n",
       "      <td>21</td>\n",
       "      <td>3603.840</td>\n",
       "    </tr>\n",
       "    <tr>\n",
       "      <th>15</th>\n",
       "      <td>WIfqWIyAi/EhoJb/JRwWC0+gdrVbIhpXIdaF/K89hAo=</td>\n",
       "      <td>20170303</td>\n",
       "      <td>10</td>\n",
       "      <td>7</td>\n",
       "      <td>1</td>\n",
       "      <td>0</td>\n",
       "      <td>75</td>\n",
       "      <td>76</td>\n",
       "      <td>18063.624</td>\n",
       "    </tr>\n",
       "    <tr>\n",
       "      <th>16</th>\n",
       "      <td>SSrPD7LI0r+RnLibecKT6KgJVPqxA8UGdR4u2ivhnXM=</td>\n",
       "      <td>20170330</td>\n",
       "      <td>3</td>\n",
       "      <td>3</td>\n",
       "      <td>0</td>\n",
       "      <td>0</td>\n",
       "      <td>13</td>\n",
       "      <td>19</td>\n",
       "      <td>3519.025</td>\n",
       "    </tr>\n",
       "    <tr>\n",
       "      <th>17</th>\n",
       "      <td>abxbp5U3i0VXapkS0j0pNCWdwXILyW1XVfSw57RrhlA=</td>\n",
       "      <td>20170327</td>\n",
       "      <td>1</td>\n",
       "      <td>1</td>\n",
       "      <td>0</td>\n",
       "      <td>0</td>\n",
       "      <td>44</td>\n",
       "      <td>31</td>\n",
       "      <td>10753.714</td>\n",
       "    </tr>\n",
       "    <tr>\n",
       "      <th>18</th>\n",
       "      <td>UKpM7rxRVe20aWG9Szxipnn28K12Qmd1Q4N88xQR+kw=</td>\n",
       "      <td>20170325</td>\n",
       "      <td>1</td>\n",
       "      <td>4</td>\n",
       "      <td>2</td>\n",
       "      <td>1</td>\n",
       "      <td>10</td>\n",
       "      <td>14</td>\n",
       "      <td>3656.084</td>\n",
       "    </tr>\n",
       "    <tr>\n",
       "      <th>19</th>\n",
       "      <td>SlkO+CgygX3L+g+xA8XbvApCyd+CJcNPXNY5HKrdPoM=</td>\n",
       "      <td>20170302</td>\n",
       "      <td>3</td>\n",
       "      <td>2</td>\n",
       "      <td>0</td>\n",
       "      <td>0</td>\n",
       "      <td>65</td>\n",
       "      <td>67</td>\n",
       "      <td>13403.745</td>\n",
       "    </tr>\n",
       "    <tr>\n",
       "      <th>20</th>\n",
       "      <td>xJ9f/MApwt5CkuCSYJxYIJOQCR8SOzVf3Yk+2BBMuMc=</td>\n",
       "      <td>20170329</td>\n",
       "      <td>0</td>\n",
       "      <td>0</td>\n",
       "      <td>0</td>\n",
       "      <td>0</td>\n",
       "      <td>5</td>\n",
       "      <td>4</td>\n",
       "      <td>1197.022</td>\n",
       "    </tr>\n",
       "    <tr>\n",
       "      <th>21</th>\n",
       "      <td>jRAUSPr0wR7hDFVbNX5eIU7s/qtjCwUAEZKIzGK/HtM=</td>\n",
       "      <td>20170301</td>\n",
       "      <td>8</td>\n",
       "      <td>3</td>\n",
       "      <td>3</td>\n",
       "      <td>3</td>\n",
       "      <td>27</td>\n",
       "      <td>34</td>\n",
       "      <td>7521.944</td>\n",
       "    </tr>\n",
       "    <tr>\n",
       "      <th>22</th>\n",
       "      <td>6kocJYE9Er4dm6WE1PxUVG16+QOmNwj6CFQI9KU5cMw=</td>\n",
       "      <td>20170313</td>\n",
       "      <td>17</td>\n",
       "      <td>1</td>\n",
       "      <td>2</td>\n",
       "      <td>3</td>\n",
       "      <td>38</td>\n",
       "      <td>52</td>\n",
       "      <td>9771.650</td>\n",
       "    </tr>\n",
       "    <tr>\n",
       "      <th>23</th>\n",
       "      <td>72iCrZ7nFycJoty6/C/EPmzUX1GoYRvDtnp48AM02VE=</td>\n",
       "      <td>20170309</td>\n",
       "      <td>23</td>\n",
       "      <td>4</td>\n",
       "      <td>3</td>\n",
       "      <td>2</td>\n",
       "      <td>23</td>\n",
       "      <td>53</td>\n",
       "      <td>6305.798</td>\n",
       "    </tr>\n",
       "    <tr>\n",
       "      <th>24</th>\n",
       "      <td>8bhVENo7NVrDLGhbGAT4wwRRJEzmU/rCcK5Yik4EmMI=</td>\n",
       "      <td>20170308</td>\n",
       "      <td>12</td>\n",
       "      <td>1</td>\n",
       "      <td>0</td>\n",
       "      <td>0</td>\n",
       "      <td>30</td>\n",
       "      <td>41</td>\n",
       "      <td>7694.547</td>\n",
       "    </tr>\n",
       "    <tr>\n",
       "      <th>25</th>\n",
       "      <td>vD6jRLtHV+8SNzkr68RCcJLPmze4EvUXnlc6LdfSQpo=</td>\n",
       "      <td>20170306</td>\n",
       "      <td>0</td>\n",
       "      <td>0</td>\n",
       "      <td>0</td>\n",
       "      <td>0</td>\n",
       "      <td>4</td>\n",
       "      <td>4</td>\n",
       "      <td>1019.516</td>\n",
       "    </tr>\n",
       "    <tr>\n",
       "      <th>26</th>\n",
       "      <td>/5ZptMuyelc0OJliLluXqwIcfPdO/KgpYBFGNFsqL3A=</td>\n",
       "      <td>20170324</td>\n",
       "      <td>12</td>\n",
       "      <td>2</td>\n",
       "      <td>1</td>\n",
       "      <td>1</td>\n",
       "      <td>35</td>\n",
       "      <td>46</td>\n",
       "      <td>9588.835</td>\n",
       "    </tr>\n",
       "    <tr>\n",
       "      <th>27</th>\n",
       "      <td>aUDF0qSVgBO291OAYTox/fUL8DKWtFjKayIdRZIPR3g=</td>\n",
       "      <td>20170314</td>\n",
       "      <td>18</td>\n",
       "      <td>2</td>\n",
       "      <td>0</td>\n",
       "      <td>1</td>\n",
       "      <td>17</td>\n",
       "      <td>37</td>\n",
       "      <td>3920.245</td>\n",
       "    </tr>\n",
       "    <tr>\n",
       "      <th>28</th>\n",
       "      <td>1UcX79/xS0g7KJZ+D5QzSIbnb5IAEf7Z2xnXWEoqSmo=</td>\n",
       "      <td>20170303</td>\n",
       "      <td>11</td>\n",
       "      <td>2</td>\n",
       "      <td>0</td>\n",
       "      <td>0</td>\n",
       "      <td>10</td>\n",
       "      <td>16</td>\n",
       "      <td>2994.242</td>\n",
       "    </tr>\n",
       "    <tr>\n",
       "      <th>29</th>\n",
       "      <td>NNkZvuuj+AuEvVhkLGFlYq6+f9kzto7jMGDHBqS08Bw=</td>\n",
       "      <td>20170325</td>\n",
       "      <td>0</td>\n",
       "      <td>1</td>\n",
       "      <td>0</td>\n",
       "      <td>0</td>\n",
       "      <td>2</td>\n",
       "      <td>2</td>\n",
       "      <td>510.143</td>\n",
       "    </tr>\n",
       "    <tr>\n",
       "      <th>...</th>\n",
       "      <td>...</td>\n",
       "      <td>...</td>\n",
       "      <td>...</td>\n",
       "      <td>...</td>\n",
       "      <td>...</td>\n",
       "      <td>...</td>\n",
       "      <td>...</td>\n",
       "      <td>...</td>\n",
       "      <td>...</td>\n",
       "    </tr>\n",
       "    <tr>\n",
       "      <th>110158</th>\n",
       "      <td>JiHZj/toRQxc04yVL4H4dEUoBJquFtPGdpj+LsxK3Sc=</td>\n",
       "      <td>20170329</td>\n",
       "      <td>1</td>\n",
       "      <td>1</td>\n",
       "      <td>1</td>\n",
       "      <td>0</td>\n",
       "      <td>7</td>\n",
       "      <td>10</td>\n",
       "      <td>1684.701</td>\n",
       "    </tr>\n",
       "    <tr>\n",
       "      <th>110159</th>\n",
       "      <td>x/8smIyn77Q/nDez4PK/2iQmC5ht4lgOWazshVPQ0Us=</td>\n",
       "      <td>20170312</td>\n",
       "      <td>2</td>\n",
       "      <td>1</td>\n",
       "      <td>0</td>\n",
       "      <td>0</td>\n",
       "      <td>5</td>\n",
       "      <td>6</td>\n",
       "      <td>1346.452</td>\n",
       "    </tr>\n",
       "    <tr>\n",
       "      <th>110160</th>\n",
       "      <td>/5/xlD9X19rV9Gvg26Keklv5eAclBYhU4+pGqrILNrY=</td>\n",
       "      <td>20170303</td>\n",
       "      <td>1</td>\n",
       "      <td>1</td>\n",
       "      <td>0</td>\n",
       "      <td>0</td>\n",
       "      <td>21</td>\n",
       "      <td>23</td>\n",
       "      <td>5521.505</td>\n",
       "    </tr>\n",
       "    <tr>\n",
       "      <th>110161</th>\n",
       "      <td>f9C5NiuetxjbHHCve4HFI3brNfce132LE3iSswXufgA=</td>\n",
       "      <td>20170321</td>\n",
       "      <td>0</td>\n",
       "      <td>1</td>\n",
       "      <td>1</td>\n",
       "      <td>2</td>\n",
       "      <td>6</td>\n",
       "      <td>9</td>\n",
       "      <td>2590.892</td>\n",
       "    </tr>\n",
       "    <tr>\n",
       "      <th>110162</th>\n",
       "      <td>mG8fwWN3qvKg2VSM4vTvZpq958f49d5FBZFz8HFTtPw=</td>\n",
       "      <td>20170317</td>\n",
       "      <td>0</td>\n",
       "      <td>0</td>\n",
       "      <td>0</td>\n",
       "      <td>0</td>\n",
       "      <td>12</td>\n",
       "      <td>12</td>\n",
       "      <td>3022.158</td>\n",
       "    </tr>\n",
       "    <tr>\n",
       "      <th>110163</th>\n",
       "      <td>9uBNCtgDbTq6bhKe4eoJYAZtGfESgabAwROIe/niH/I=</td>\n",
       "      <td>20170316</td>\n",
       "      <td>2</td>\n",
       "      <td>1</td>\n",
       "      <td>0</td>\n",
       "      <td>0</td>\n",
       "      <td>6</td>\n",
       "      <td>9</td>\n",
       "      <td>1403.906</td>\n",
       "    </tr>\n",
       "    <tr>\n",
       "      <th>110164</th>\n",
       "      <td>DHbRHfr4VI/nvM2lGiFuQ5FtZc7WVrUSgXJf+Y/WvQM=</td>\n",
       "      <td>20170302</td>\n",
       "      <td>0</td>\n",
       "      <td>0</td>\n",
       "      <td>0</td>\n",
       "      <td>0</td>\n",
       "      <td>33</td>\n",
       "      <td>32</td>\n",
       "      <td>8751.067</td>\n",
       "    </tr>\n",
       "    <tr>\n",
       "      <th>110165</th>\n",
       "      <td>K/NxmOMyDgnpMC69RF5KknInqY+oHfFE9H8XqRl8SQc=</td>\n",
       "      <td>20170322</td>\n",
       "      <td>2</td>\n",
       "      <td>0</td>\n",
       "      <td>0</td>\n",
       "      <td>0</td>\n",
       "      <td>8</td>\n",
       "      <td>10</td>\n",
       "      <td>1824.737</td>\n",
       "    </tr>\n",
       "    <tr>\n",
       "      <th>110166</th>\n",
       "      <td>sRF2UMfcliKIIVJTly21g2hf873y76XwdDnaa8ioaC0=</td>\n",
       "      <td>20170328</td>\n",
       "      <td>1</td>\n",
       "      <td>0</td>\n",
       "      <td>0</td>\n",
       "      <td>1</td>\n",
       "      <td>5</td>\n",
       "      <td>6</td>\n",
       "      <td>1459.667</td>\n",
       "    </tr>\n",
       "    <tr>\n",
       "      <th>110167</th>\n",
       "      <td>+EUO/vvHdCP9JQOT/z3FQJC1ZGPrFCdJ267TIeiVsLc=</td>\n",
       "      <td>20170306</td>\n",
       "      <td>3</td>\n",
       "      <td>0</td>\n",
       "      <td>1</td>\n",
       "      <td>1</td>\n",
       "      <td>24</td>\n",
       "      <td>22</td>\n",
       "      <td>5727.398</td>\n",
       "    </tr>\n",
       "    <tr>\n",
       "      <th>110168</th>\n",
       "      <td>93U4RFd0b596hC6e6wBiZfBuaRK2oa5FhPX23IAdp3I=</td>\n",
       "      <td>20170323</td>\n",
       "      <td>1</td>\n",
       "      <td>1</td>\n",
       "      <td>1</td>\n",
       "      <td>1</td>\n",
       "      <td>1</td>\n",
       "      <td>5</td>\n",
       "      <td>618.552</td>\n",
       "    </tr>\n",
       "    <tr>\n",
       "      <th>110169</th>\n",
       "      <td>up2u07JiJimYPelzUPbWdRDRhI9Zvg2EJJHk7oMBt6E=</td>\n",
       "      <td>20170318</td>\n",
       "      <td>1</td>\n",
       "      <td>0</td>\n",
       "      <td>0</td>\n",
       "      <td>1</td>\n",
       "      <td>7</td>\n",
       "      <td>9</td>\n",
       "      <td>1893.644</td>\n",
       "    </tr>\n",
       "    <tr>\n",
       "      <th>110170</th>\n",
       "      <td>o2+OyML0ruJPAaW59A3JThpg6UuY/6mjO5bD3WCu3co=</td>\n",
       "      <td>20170331</td>\n",
       "      <td>1</td>\n",
       "      <td>0</td>\n",
       "      <td>0</td>\n",
       "      <td>0</td>\n",
       "      <td>17</td>\n",
       "      <td>17</td>\n",
       "      <td>4334.596</td>\n",
       "    </tr>\n",
       "    <tr>\n",
       "      <th>110171</th>\n",
       "      <td>FK98RR2Gyo+zKcSnnpW//r5qDXrbFsLg37GptcVH+os=</td>\n",
       "      <td>20170304</td>\n",
       "      <td>5</td>\n",
       "      <td>0</td>\n",
       "      <td>0</td>\n",
       "      <td>2</td>\n",
       "      <td>8</td>\n",
       "      <td>9</td>\n",
       "      <td>2182.970</td>\n",
       "    </tr>\n",
       "    <tr>\n",
       "      <th>110172</th>\n",
       "      <td>Q/XbnNFlVLdBb1P18jq/3InfrgfRZrhRj7RLZxtkRXM=</td>\n",
       "      <td>20170302</td>\n",
       "      <td>0</td>\n",
       "      <td>0</td>\n",
       "      <td>0</td>\n",
       "      <td>0</td>\n",
       "      <td>4</td>\n",
       "      <td>4</td>\n",
       "      <td>991.768</td>\n",
       "    </tr>\n",
       "    <tr>\n",
       "      <th>110173</th>\n",
       "      <td>uxixcpPXTHUaX3CVLSQmhmQzHB+2yaOWpvE3jwz7t+Y=</td>\n",
       "      <td>20170305</td>\n",
       "      <td>0</td>\n",
       "      <td>1</td>\n",
       "      <td>0</td>\n",
       "      <td>0</td>\n",
       "      <td>20</td>\n",
       "      <td>20</td>\n",
       "      <td>4611.338</td>\n",
       "    </tr>\n",
       "    <tr>\n",
       "      <th>110174</th>\n",
       "      <td>2ycGQ9wHE+XDichWfsxHlYiGgAfT07q21z3KRxya11o=</td>\n",
       "      <td>20170314</td>\n",
       "      <td>1</td>\n",
       "      <td>1</td>\n",
       "      <td>1</td>\n",
       "      <td>0</td>\n",
       "      <td>9</td>\n",
       "      <td>9</td>\n",
       "      <td>2143.330</td>\n",
       "    </tr>\n",
       "    <tr>\n",
       "      <th>110175</th>\n",
       "      <td>5XGS1P6an1nh1fdInqxfgg3MXy92B9dq+GQXbBMnXUQ=</td>\n",
       "      <td>20170321</td>\n",
       "      <td>4</td>\n",
       "      <td>1</td>\n",
       "      <td>0</td>\n",
       "      <td>0</td>\n",
       "      <td>15</td>\n",
       "      <td>20</td>\n",
       "      <td>3835.536</td>\n",
       "    </tr>\n",
       "    <tr>\n",
       "      <th>110176</th>\n",
       "      <td>o27wQ65TV4ehfE011sybz99M/41ou8z/YA/P2oFWMQA=</td>\n",
       "      <td>20170309</td>\n",
       "      <td>0</td>\n",
       "      <td>0</td>\n",
       "      <td>0</td>\n",
       "      <td>0</td>\n",
       "      <td>12</td>\n",
       "      <td>9</td>\n",
       "      <td>2386.068</td>\n",
       "    </tr>\n",
       "    <tr>\n",
       "      <th>110177</th>\n",
       "      <td>ZL5gGHZFISgfrgu3AdnWqrrsf+BcLegA+6yP3O/P0fU=</td>\n",
       "      <td>20170323</td>\n",
       "      <td>3</td>\n",
       "      <td>3</td>\n",
       "      <td>1</td>\n",
       "      <td>0</td>\n",
       "      <td>0</td>\n",
       "      <td>7</td>\n",
       "      <td>550.400</td>\n",
       "    </tr>\n",
       "    <tr>\n",
       "      <th>110178</th>\n",
       "      <td>Bh9uw4ofBKg5DhjShXVvrKwMM9DWFzOR/Lr3mYf59sU=</td>\n",
       "      <td>20170316</td>\n",
       "      <td>0</td>\n",
       "      <td>0</td>\n",
       "      <td>0</td>\n",
       "      <td>0</td>\n",
       "      <td>3</td>\n",
       "      <td>3</td>\n",
       "      <td>812.116</td>\n",
       "    </tr>\n",
       "    <tr>\n",
       "      <th>110179</th>\n",
       "      <td>hQL5U9ybwfBLdlEc1QTlXlf+Ui41If/kcMXWNEnMzkU=</td>\n",
       "      <td>20170328</td>\n",
       "      <td>2</td>\n",
       "      <td>1</td>\n",
       "      <td>1</td>\n",
       "      <td>0</td>\n",
       "      <td>14</td>\n",
       "      <td>14</td>\n",
       "      <td>4308.637</td>\n",
       "    </tr>\n",
       "    <tr>\n",
       "      <th>110180</th>\n",
       "      <td>Oe9iZwE2fJJH5RcU+zvPkZAnQUcyU8dUGPN5Rw/BxQ4=</td>\n",
       "      <td>20170318</td>\n",
       "      <td>0</td>\n",
       "      <td>0</td>\n",
       "      <td>0</td>\n",
       "      <td>0</td>\n",
       "      <td>9</td>\n",
       "      <td>7</td>\n",
       "      <td>2422.627</td>\n",
       "    </tr>\n",
       "    <tr>\n",
       "      <th>110181</th>\n",
       "      <td>ICvI0T36YHQrm+talTKrk+eoguaUu/1ITO3nSRdevKI=</td>\n",
       "      <td>20170304</td>\n",
       "      <td>0</td>\n",
       "      <td>0</td>\n",
       "      <td>0</td>\n",
       "      <td>0</td>\n",
       "      <td>7</td>\n",
       "      <td>7</td>\n",
       "      <td>1667.834</td>\n",
       "    </tr>\n",
       "    <tr>\n",
       "      <th>110182</th>\n",
       "      <td>ETuwJIjaATDw5GDAT9+mkEKhE/4OiLKyB23fFeBvdZ4=</td>\n",
       "      <td>20170328</td>\n",
       "      <td>0</td>\n",
       "      <td>0</td>\n",
       "      <td>0</td>\n",
       "      <td>0</td>\n",
       "      <td>10</td>\n",
       "      <td>10</td>\n",
       "      <td>2666.000</td>\n",
       "    </tr>\n",
       "    <tr>\n",
       "      <th>110183</th>\n",
       "      <td>3o7YiKa+JKhRlcDts4A59VHft9xNGoFQCVXT3eAv0Bw=</td>\n",
       "      <td>20170314</td>\n",
       "      <td>4</td>\n",
       "      <td>0</td>\n",
       "      <td>0</td>\n",
       "      <td>1</td>\n",
       "      <td>1</td>\n",
       "      <td>3</td>\n",
       "      <td>516.266</td>\n",
       "    </tr>\n",
       "    <tr>\n",
       "      <th>110184</th>\n",
       "      <td>wq7UqPO44tkAKBUUaJtbRkZLfj3E5AVctpGKRjTIT2k=</td>\n",
       "      <td>20170318</td>\n",
       "      <td>0</td>\n",
       "      <td>0</td>\n",
       "      <td>1</td>\n",
       "      <td>0</td>\n",
       "      <td>1</td>\n",
       "      <td>2</td>\n",
       "      <td>450.830</td>\n",
       "    </tr>\n",
       "    <tr>\n",
       "      <th>110185</th>\n",
       "      <td>ntueatCenqDiY9I1eFcJekcuAoDlOjKsdlSKsiSEakI=</td>\n",
       "      <td>20170321</td>\n",
       "      <td>0</td>\n",
       "      <td>0</td>\n",
       "      <td>0</td>\n",
       "      <td>0</td>\n",
       "      <td>1</td>\n",
       "      <td>1</td>\n",
       "      <td>161.000</td>\n",
       "    </tr>\n",
       "    <tr>\n",
       "      <th>110186</th>\n",
       "      <td>ax08254PRUOjX6JLVFzGLV5vK8BnosqEz3hjtNSXN7M=</td>\n",
       "      <td>20170327</td>\n",
       "      <td>0</td>\n",
       "      <td>0</td>\n",
       "      <td>0</td>\n",
       "      <td>0</td>\n",
       "      <td>2</td>\n",
       "      <td>2</td>\n",
       "      <td>499.000</td>\n",
       "    </tr>\n",
       "    <tr>\n",
       "      <th>110187</th>\n",
       "      <td>Rrc2iotfTzcA4fvmvOLJF7j+6Ee7qyAZwWvf4t7nWMw=</td>\n",
       "      <td>20170307</td>\n",
       "      <td>0</td>\n",
       "      <td>1</td>\n",
       "      <td>0</td>\n",
       "      <td>0</td>\n",
       "      <td>5</td>\n",
       "      <td>2</td>\n",
       "      <td>999.260</td>\n",
       "    </tr>\n",
       "  </tbody>\n",
       "</table>\n",
       "<p>110188 rows × 9 columns</p>\n",
       "</div>"
      ],
      "text/plain": [
       "                                                msno      date  num_25  \\\n",
       "0       k6eJ3xRzpnAkLsdWp4fFsiN7loavl/agmfrUdvFCJQI=  20170310      22   \n",
       "1       mDKq91Oh/6Xf9M8diUwkngAmESHOodRWfPYICPb5pCk=  20170303      11   \n",
       "2       gXdMWngaV19y8Q58XauCO7K9eImYEuAj1omfKWo16j0=  20170326      32   \n",
       "3       HvF3jxKYlcwLsm8gyaHSFak+GG0rezgvHeZQl4Us4Ig=  20170325      34   \n",
       "4       SWeWAl/aiYcfcc6QMsKD2A31LRFPG9kFOBKfgwSHHv8=  20170310      10   \n",
       "5       KA5dMRsM07XXxKpfhxTlwV1yfBr6YTYTeG1/HoHT2oE=  20170329      13   \n",
       "6       KBuWswtb9xWJyaGGG+jwsrpxQAyDZs2Nl+fCinDD2rk=  20170311       1   \n",
       "7       ag0vLQx9oskpyF5PkeiPaBhzAgQFf5T91+rc1uk58Ck=  20170313      57   \n",
       "8       YI0ryhHWui9Mv97DSK2sdjvQCJRJfoOhDjAid+qwz5k=  20170308       0   \n",
       "9       ptxRpqP2bzeecsLU94NMbMUz0g5T20iAjJ5hwlk+3ik=  20170329      30   \n",
       "10      EHIq5HXqb5bzjp3w0oayFvlfrY6ybA5foakvcVKpTZ8=  20170306       3   \n",
       "11      3ICfhBAzTOHbKy4+uXa94lT1Jk2Hn/AvIBKvykuUYZU=  20170314      19   \n",
       "12      xFZwDmIqFBDck2AXdIKBCRXtpqKUgMpK74zOP+evsxg=  20170313       4   \n",
       "13      vZNBMDk/lFHY1GJj1iYFksoOrTzlWLn9D3JtDHTOsoQ=  20170321       5   \n",
       "14      wHfD7e0+WowNr6NSYMpkiTkgPsDQbfC6dNSGsN+JLa4=  20170329       6   \n",
       "15      WIfqWIyAi/EhoJb/JRwWC0+gdrVbIhpXIdaF/K89hAo=  20170303      10   \n",
       "16      SSrPD7LI0r+RnLibecKT6KgJVPqxA8UGdR4u2ivhnXM=  20170330       3   \n",
       "17      abxbp5U3i0VXapkS0j0pNCWdwXILyW1XVfSw57RrhlA=  20170327       1   \n",
       "18      UKpM7rxRVe20aWG9Szxipnn28K12Qmd1Q4N88xQR+kw=  20170325       1   \n",
       "19      SlkO+CgygX3L+g+xA8XbvApCyd+CJcNPXNY5HKrdPoM=  20170302       3   \n",
       "20      xJ9f/MApwt5CkuCSYJxYIJOQCR8SOzVf3Yk+2BBMuMc=  20170329       0   \n",
       "21      jRAUSPr0wR7hDFVbNX5eIU7s/qtjCwUAEZKIzGK/HtM=  20170301       8   \n",
       "22      6kocJYE9Er4dm6WE1PxUVG16+QOmNwj6CFQI9KU5cMw=  20170313      17   \n",
       "23      72iCrZ7nFycJoty6/C/EPmzUX1GoYRvDtnp48AM02VE=  20170309      23   \n",
       "24      8bhVENo7NVrDLGhbGAT4wwRRJEzmU/rCcK5Yik4EmMI=  20170308      12   \n",
       "25      vD6jRLtHV+8SNzkr68RCcJLPmze4EvUXnlc6LdfSQpo=  20170306       0   \n",
       "26      /5ZptMuyelc0OJliLluXqwIcfPdO/KgpYBFGNFsqL3A=  20170324      12   \n",
       "27      aUDF0qSVgBO291OAYTox/fUL8DKWtFjKayIdRZIPR3g=  20170314      18   \n",
       "28      1UcX79/xS0g7KJZ+D5QzSIbnb5IAEf7Z2xnXWEoqSmo=  20170303      11   \n",
       "29      NNkZvuuj+AuEvVhkLGFlYq6+f9kzto7jMGDHBqS08Bw=  20170325       0   \n",
       "...                                              ...       ...     ...   \n",
       "110158  JiHZj/toRQxc04yVL4H4dEUoBJquFtPGdpj+LsxK3Sc=  20170329       1   \n",
       "110159  x/8smIyn77Q/nDez4PK/2iQmC5ht4lgOWazshVPQ0Us=  20170312       2   \n",
       "110160  /5/xlD9X19rV9Gvg26Keklv5eAclBYhU4+pGqrILNrY=  20170303       1   \n",
       "110161  f9C5NiuetxjbHHCve4HFI3brNfce132LE3iSswXufgA=  20170321       0   \n",
       "110162  mG8fwWN3qvKg2VSM4vTvZpq958f49d5FBZFz8HFTtPw=  20170317       0   \n",
       "110163  9uBNCtgDbTq6bhKe4eoJYAZtGfESgabAwROIe/niH/I=  20170316       2   \n",
       "110164  DHbRHfr4VI/nvM2lGiFuQ5FtZc7WVrUSgXJf+Y/WvQM=  20170302       0   \n",
       "110165  K/NxmOMyDgnpMC69RF5KknInqY+oHfFE9H8XqRl8SQc=  20170322       2   \n",
       "110166  sRF2UMfcliKIIVJTly21g2hf873y76XwdDnaa8ioaC0=  20170328       1   \n",
       "110167  +EUO/vvHdCP9JQOT/z3FQJC1ZGPrFCdJ267TIeiVsLc=  20170306       3   \n",
       "110168  93U4RFd0b596hC6e6wBiZfBuaRK2oa5FhPX23IAdp3I=  20170323       1   \n",
       "110169  up2u07JiJimYPelzUPbWdRDRhI9Zvg2EJJHk7oMBt6E=  20170318       1   \n",
       "110170  o2+OyML0ruJPAaW59A3JThpg6UuY/6mjO5bD3WCu3co=  20170331       1   \n",
       "110171  FK98RR2Gyo+zKcSnnpW//r5qDXrbFsLg37GptcVH+os=  20170304       5   \n",
       "110172  Q/XbnNFlVLdBb1P18jq/3InfrgfRZrhRj7RLZxtkRXM=  20170302       0   \n",
       "110173  uxixcpPXTHUaX3CVLSQmhmQzHB+2yaOWpvE3jwz7t+Y=  20170305       0   \n",
       "110174  2ycGQ9wHE+XDichWfsxHlYiGgAfT07q21z3KRxya11o=  20170314       1   \n",
       "110175  5XGS1P6an1nh1fdInqxfgg3MXy92B9dq+GQXbBMnXUQ=  20170321       4   \n",
       "110176  o27wQ65TV4ehfE011sybz99M/41ou8z/YA/P2oFWMQA=  20170309       0   \n",
       "110177  ZL5gGHZFISgfrgu3AdnWqrrsf+BcLegA+6yP3O/P0fU=  20170323       3   \n",
       "110178  Bh9uw4ofBKg5DhjShXVvrKwMM9DWFzOR/Lr3mYf59sU=  20170316       0   \n",
       "110179  hQL5U9ybwfBLdlEc1QTlXlf+Ui41If/kcMXWNEnMzkU=  20170328       2   \n",
       "110180  Oe9iZwE2fJJH5RcU+zvPkZAnQUcyU8dUGPN5Rw/BxQ4=  20170318       0   \n",
       "110181  ICvI0T36YHQrm+talTKrk+eoguaUu/1ITO3nSRdevKI=  20170304       0   \n",
       "110182  ETuwJIjaATDw5GDAT9+mkEKhE/4OiLKyB23fFeBvdZ4=  20170328       0   \n",
       "110183  3o7YiKa+JKhRlcDts4A59VHft9xNGoFQCVXT3eAv0Bw=  20170314       4   \n",
       "110184  wq7UqPO44tkAKBUUaJtbRkZLfj3E5AVctpGKRjTIT2k=  20170318       0   \n",
       "110185  ntueatCenqDiY9I1eFcJekcuAoDlOjKsdlSKsiSEakI=  20170321       0   \n",
       "110186  ax08254PRUOjX6JLVFzGLV5vK8BnosqEz3hjtNSXN7M=  20170327       0   \n",
       "110187  Rrc2iotfTzcA4fvmvOLJF7j+6Ee7qyAZwWvf4t7nWMw=  20170307       0   \n",
       "\n",
       "        num_50  num_75  num_985  num_100  num_unq  total_secs  \n",
       "0           11       7        1        0       36    2344.100  \n",
       "1            4       2        3       13       23    4355.847  \n",
       "2            6       5        4       93       89   26062.316  \n",
       "3            7       2        3       66       89   14213.393  \n",
       "4            3       3        1       24       31    6905.749  \n",
       "5           40       7        3       52       85   18043.027  \n",
       "6            0       0        1       97       98   24093.472  \n",
       "7            4       3        2       40       87   11473.705  \n",
       "8            0       0        0        3        3     536.658  \n",
       "9            7       0        6       42       73   11801.038  \n",
       "10           1       1        2       24       18    5413.470  \n",
       "11           1       1        0       32       48    7374.163  \n",
       "12           1       0        0       58       54   15043.559  \n",
       "13           3       1        1      106      106   29431.546  \n",
       "14           3       1        0       14       21    3603.840  \n",
       "15           7       1        0       75       76   18063.624  \n",
       "16           3       0        0       13       19    3519.025  \n",
       "17           1       0        0       44       31   10753.714  \n",
       "18           4       2        1       10       14    3656.084  \n",
       "19           2       0        0       65       67   13403.745  \n",
       "20           0       0        0        5        4    1197.022  \n",
       "21           3       3        3       27       34    7521.944  \n",
       "22           1       2        3       38       52    9771.650  \n",
       "23           4       3        2       23       53    6305.798  \n",
       "24           1       0        0       30       41    7694.547  \n",
       "25           0       0        0        4        4    1019.516  \n",
       "26           2       1        1       35       46    9588.835  \n",
       "27           2       0        1       17       37    3920.245  \n",
       "28           2       0        0       10       16    2994.242  \n",
       "29           1       0        0        2        2     510.143  \n",
       "...        ...     ...      ...      ...      ...         ...  \n",
       "110158       1       1        0        7       10    1684.701  \n",
       "110159       1       0        0        5        6    1346.452  \n",
       "110160       1       0        0       21       23    5521.505  \n",
       "110161       1       1        2        6        9    2590.892  \n",
       "110162       0       0        0       12       12    3022.158  \n",
       "110163       1       0        0        6        9    1403.906  \n",
       "110164       0       0        0       33       32    8751.067  \n",
       "110165       0       0        0        8       10    1824.737  \n",
       "110166       0       0        1        5        6    1459.667  \n",
       "110167       0       1        1       24       22    5727.398  \n",
       "110168       1       1        1        1        5     618.552  \n",
       "110169       0       0        1        7        9    1893.644  \n",
       "110170       0       0        0       17       17    4334.596  \n",
       "110171       0       0        2        8        9    2182.970  \n",
       "110172       0       0        0        4        4     991.768  \n",
       "110173       1       0        0       20       20    4611.338  \n",
       "110174       1       1        0        9        9    2143.330  \n",
       "110175       1       0        0       15       20    3835.536  \n",
       "110176       0       0        0       12        9    2386.068  \n",
       "110177       3       1        0        0        7     550.400  \n",
       "110178       0       0        0        3        3     812.116  \n",
       "110179       1       1        0       14       14    4308.637  \n",
       "110180       0       0        0        9        7    2422.627  \n",
       "110181       0       0        0        7        7    1667.834  \n",
       "110182       0       0        0       10       10    2666.000  \n",
       "110183       0       0        1        1        3     516.266  \n",
       "110184       0       1        0        1        2     450.830  \n",
       "110185       0       0        0        1        1     161.000  \n",
       "110186       0       0        0        2        2     499.000  \n",
       "110187       1       0        0        5        2     999.260  \n",
       "\n",
       "[110188 rows x 9 columns]"
      ]
     },
     "execution_count": 51,
     "metadata": {},
     "output_type": "execute_result"
    }
   ],
   "source": [
    "d_logs"
   ]
  },
  {
   "cell_type": "code",
   "execution_count": 24,
   "metadata": {
    "collapsed": false
   },
   "outputs": [
    {
     "data": {
      "text/plain": [
       "Index(['num_of_logs', 'sum_num25', 'avg_num25', 'sum_num50', 'avg_num50',\n",
       "       'sum_num75', 'avg_num75', 'sum_num985', 'avg_num985', 'sum_num100',\n",
       "       'avg_num100', 'sum_num_unq', 'avg_num_unq', 'sum_total_secs',\n",
       "       'avg_total_secs', 'sum_total_songs', 'avg_total_songs',\n",
       "       'perc_of_accidentally_songs', 'perc_of_favourite_songs',\n",
       "       'avg_songs_per_month', 'avg_days_diff', 'max_days_diff',\n",
       "       'min_days_diff', 'most_popular_days', 'least_popular_days',\n",
       "       'most_popular_season', 'least_popular_season', 'msno'],\n",
       "      dtype='object')"
      ]
     },
     "execution_count": 24,
     "metadata": {},
     "output_type": "execute_result"
    }
   ],
   "source": [
    "d_logs_2.columns"
   ]
  },
  {
   "cell_type": "code",
   "execution_count": 27,
   "metadata": {
    "collapsed": false
   },
   "outputs": [
    {
     "data": {
      "text/html": [
       "<div>\n",
       "<table border=\"1\" class=\"dataframe\">\n",
       "  <thead>\n",
       "    <tr style=\"text-align: right;\">\n",
       "      <th></th>\n",
       "      <th>count</th>\n",
       "      <th>mean</th>\n",
       "      <th>std</th>\n",
       "      <th>min</th>\n",
       "      <th>25%</th>\n",
       "      <th>50%</th>\n",
       "      <th>75%</th>\n",
       "      <th>max</th>\n",
       "    </tr>\n",
       "  </thead>\n",
       "  <tbody>\n",
       "    <tr>\n",
       "      <th>num_of_logs</th>\n",
       "      <td>6000.0</td>\n",
       "      <td>18.364667</td>\n",
       "      <td>9.695189</td>\n",
       "      <td>1.0</td>\n",
       "      <td>10.0</td>\n",
       "      <td>20.0</td>\n",
       "      <td>27.0</td>\n",
       "      <td>31.0</td>\n",
       "    </tr>\n",
       "  </tbody>\n",
       "</table>\n",
       "</div>"
      ],
      "text/plain": [
       "              count       mean       std  min   25%   50%   75%   max\n",
       "num_of_logs  6000.0  18.364667  9.695189  1.0  10.0  20.0  27.0  31.0"
      ]
     },
     "execution_count": 27,
     "metadata": {},
     "output_type": "execute_result"
    }
   ],
   "source": [
    "get_description_for_qual(d_logs_2, 'num_of_logs')"
   ]
  },
  {
   "cell_type": "code",
   "execution_count": 29,
   "metadata": {
    "collapsed": false
   },
   "outputs": [
    {
     "data": {
      "image/png": "[encoded data removed]",
      "text/plain": [
       "<matplotlib.figure.Figure at 0x28a60c5cd30>"
      ]
     },
     "metadata": {},
     "output_type": "display_data"
    }
   ],
   "source": [
    "get_plot_for_usual(d_logs_2, 'num_of_logs', 'КОличество вхождений на сайт', 'Количество', 'Частота', 30)"
   ]
  },
  {
   "cell_type": "code",
   "execution_count": 49,
   "metadata": {
    "collapsed": false
   },
   "outputs": [
    {
     "data": {
      "image/png": "[encoded data removed]",
      "text/plain": [
       "<matplotlib.figure.Figure at 0x28a612d0cc0>"
      ]
     },
     "metadata": {},
     "output_type": "display_data"
    },
    {
     "data": {
      "image/png": "[encoded data removed]",
      "text/plain": [
       "<matplotlib.figure.Figure at 0x28a611950f0>"
      ]
     },
     "metadata": {},
     "output_type": "display_data"
    },
    {
     "data": {
      "image/png": "[encoded data removed]",
      "text/plain": [
       "<matplotlib.figure.Figure at 0x28a66a48b70>"
      ]
     },
     "metadata": {},
     "output_type": "display_data"
    },
    {
     "data": {
      "image/png": "[encoded data removed]",
      "text/plain": [
       "<matplotlib.figure.Figure at 0x28a60dd3ac8>"
      ]
     },
     "metadata": {},
     "output_type": "display_data"
    },
    {
     "data": {
      "image/png": "[encoded data removed]",
      "text/plain": [
       "<matplotlib.figure.Figure at 0x28a63311400>"
      ]
     },
     "metadata": {},
     "output_type": "display_data"
    },
    {
     "data": {
      "image/png": "[encoded data removed]",
      "text/plain": [
       "<matplotlib.figure.Figure at 0x28a65e627f0>"
      ]
     },
     "metadata": {},
     "output_type": "display_data"
    }
   ],
   "source": [
    "plt.figure(figsize=(20, 10))\n",
    "\n",
    "plt.subplot(1, 4, 1)\n",
    "get_plot_for_usual(d_logs_2, 'sum_num25', '<25', 'Количество песен', 'Частота')\n",
    "\n",
    "plt.subplot(1, 4, 3)\n",
    "get_plot_for_usual_2(d_logs_2, 'sum_num50', '25<x<50', 'Количество песен', 'Частота')\n",
    "\n",
    "plt.subplot(1, 4, 3)\n",
    "get_plot_for_usual_2(d_logs_2, 'sum_num75', '50<x<75', 'Количество песен', 'Частота')\n",
    "\n",
    "plt.subplot(1, 4, 4)\n",
    "get_plot_for_usual_2(d_logs_2, 'sum_num985', '75<x<98.5', 'Количество песен', 'Частота')\n",
    "\n",
    "plt.show()"
   ]
  },
  {
   "cell_type": "markdown",
   "metadata": {},
   "source": [
    "# sum_num25"
   ]
  },
  {
   "cell_type": "code",
   "execution_count": 41,
   "metadata": {
    "collapsed": false
   },
   "outputs": [
    {
     "data": {
      "text/html": [
       "<div>\n",
       "<table border=\"1\" class=\"dataframe\">\n",
       "  <thead>\n",
       "    <tr style=\"text-align: right;\">\n",
       "      <th></th>\n",
       "      <th>count</th>\n",
       "      <th>mean</th>\n",
       "      <th>std</th>\n",
       "      <th>min</th>\n",
       "      <th>25%</th>\n",
       "      <th>50%</th>\n",
       "      <th>75%</th>\n",
       "      <th>max</th>\n",
       "    </tr>\n",
       "  </thead>\n",
       "  <tbody>\n",
       "    <tr>\n",
       "      <th>sum_num25</th>\n",
       "      <td>6000.0</td>\n",
       "      <td>120.8395</td>\n",
       "      <td>195.369044</td>\n",
       "      <td>0.0</td>\n",
       "      <td>20.0</td>\n",
       "      <td>60.0</td>\n",
       "      <td>149.0</td>\n",
       "      <td>4128.0</td>\n",
       "    </tr>\n",
       "  </tbody>\n",
       "</table>\n",
       "</div>"
      ],
      "text/plain": [
       "            count      mean         std  min   25%   50%    75%     max\n",
       "sum_num25  6000.0  120.8395  195.369044  0.0  20.0  60.0  149.0  4128.0"
      ]
     },
     "execution_count": 41,
     "metadata": {},
     "output_type": "execute_result"
    }
   ],
   "source": [
    "get_description_for_qual(d_logs_2, 'sum_num25')"
   ]
  },
  {
   "cell_type": "code",
   "execution_count": 7,
   "metadata": {
    "collapsed": false
   },
   "outputs": [
    {
     "data": {
      "image/png": "[encoded data removed]",
      "text/plain": [
       "<matplotlib.figure.Figure at 0x25b925ffcf8>"
      ]
     },
     "metadata": {},
     "output_type": "display_data"
    }
   ],
   "source": [
    "get_plot_for_usual(d_logs_2, 'sum_num25', text='Распределение  ', x_name='Песни', y_name='Частота')\n"
   ]
  },
  {
   "cell_type": "code",
   "execution_count": 42,
   "metadata": {
    "collapsed": false
   },
   "outputs": [
    {
     "data": {
      "text/html": [
       "<div>\n",
       "<table border=\"1\" class=\"dataframe\">\n",
       "  <thead>\n",
       "    <tr style=\"text-align: right;\">\n",
       "      <th></th>\n",
       "      <th>count</th>\n",
       "      <th>mean</th>\n",
       "      <th>std</th>\n",
       "      <th>min</th>\n",
       "      <th>25%</th>\n",
       "      <th>50%</th>\n",
       "      <th>75%</th>\n",
       "      <th>max</th>\n",
       "    </tr>\n",
       "  </thead>\n",
       "  <tbody>\n",
       "    <tr>\n",
       "      <th>sum_num50</th>\n",
       "      <td>6000.0</td>\n",
       "      <td>28.821667</td>\n",
       "      <td>42.60959</td>\n",
       "      <td>0.0</td>\n",
       "      <td>5.0</td>\n",
       "      <td>16.0</td>\n",
       "      <td>37.0</td>\n",
       "      <td>1135.0</td>\n",
       "    </tr>\n",
       "  </tbody>\n",
       "</table>\n",
       "</div>"
      ],
      "text/plain": [
       "            count       mean       std  min  25%   50%   75%     max\n",
       "sum_num50  6000.0  28.821667  42.60959  0.0  5.0  16.0  37.0  1135.0"
      ]
     },
     "execution_count": 42,
     "metadata": {},
     "output_type": "execute_result"
    }
   ],
   "source": [
    "get_description_for_qual(d_logs_2, 'sum_num50')"
   ]
  },
  {
   "cell_type": "code",
   "execution_count": 8,
   "metadata": {
    "collapsed": false
   },
   "outputs": [
    {
     "data": {
      "image/png": "[encoded data removed]",
      "text/plain": [
       "<matplotlib.figure.Figure at 0x25b9233ff98>"
      ]
     },
     "metadata": {},
     "output_type": "display_data"
    }
   ],
   "source": [
    "get_plot_for_usual(d_logs_2, 'sum_num50', text='Распределение  ', x_name='Песни', y_name='Частота')\n"
   ]
  },
  {
   "cell_type": "code",
   "execution_count": 43,
   "metadata": {
    "collapsed": false
   },
   "outputs": [
    {
     "data": {
      "text/html": [
       "<div>\n",
       "<table border=\"1\" class=\"dataframe\">\n",
       "  <thead>\n",
       "    <tr style=\"text-align: right;\">\n",
       "      <th></th>\n",
       "      <th>count</th>\n",
       "      <th>mean</th>\n",
       "      <th>std</th>\n",
       "      <th>min</th>\n",
       "      <th>25%</th>\n",
       "      <th>50%</th>\n",
       "      <th>75%</th>\n",
       "      <th>max</th>\n",
       "    </tr>\n",
       "  </thead>\n",
       "  <tbody>\n",
       "    <tr>\n",
       "      <th>sum_num75</th>\n",
       "      <td>6000.0</td>\n",
       "      <td>17.791833</td>\n",
       "      <td>23.252296</td>\n",
       "      <td>0.0</td>\n",
       "      <td>4.0</td>\n",
       "      <td>11.0</td>\n",
       "      <td>23.0</td>\n",
       "      <td>411.0</td>\n",
       "    </tr>\n",
       "  </tbody>\n",
       "</table>\n",
       "</div>"
      ],
      "text/plain": [
       "            count       mean        std  min  25%   50%   75%    max\n",
       "sum_num75  6000.0  17.791833  23.252296  0.0  4.0  11.0  23.0  411.0"
      ]
     },
     "execution_count": 43,
     "metadata": {},
     "output_type": "execute_result"
    }
   ],
   "source": [
    "get_description_for_qual(d_logs_2, 'sum_num75')"
   ]
  },
  {
   "cell_type": "code",
   "execution_count": 9,
   "metadata": {
    "collapsed": false
   },
   "outputs": [
    {
     "data": {
      "image/png": "[encoded data removed]",
      "text/plain": [
       "<matplotlib.figure.Figure at 0x25b928b0080>"
      ]
     },
     "metadata": {},
     "output_type": "display_data"
    }
   ],
   "source": [
    "get_plot_for_usual(d_logs_2, 'sum_num75', text='Распределение  ', x_name='Песни', y_name='Частота')\n"
   ]
  },
  {
   "cell_type": "code",
   "execution_count": 44,
   "metadata": {
    "collapsed": false
   },
   "outputs": [
    {
     "data": {
      "text/html": [
       "<div>\n",
       "<table border=\"1\" class=\"dataframe\">\n",
       "  <thead>\n",
       "    <tr style=\"text-align: right;\">\n",
       "      <th></th>\n",
       "      <th>count</th>\n",
       "      <th>mean</th>\n",
       "      <th>std</th>\n",
       "      <th>min</th>\n",
       "      <th>25%</th>\n",
       "      <th>50%</th>\n",
       "      <th>75%</th>\n",
       "      <th>max</th>\n",
       "    </tr>\n",
       "  </thead>\n",
       "  <tbody>\n",
       "    <tr>\n",
       "      <th>sum_num985</th>\n",
       "      <td>6000.0</td>\n",
       "      <td>20.3605</td>\n",
       "      <td>64.14619</td>\n",
       "      <td>0.0</td>\n",
       "      <td>4.0</td>\n",
       "      <td>11.0</td>\n",
       "      <td>25.0</td>\n",
       "      <td>4291.0</td>\n",
       "    </tr>\n",
       "  </tbody>\n",
       "</table>\n",
       "</div>"
      ],
      "text/plain": [
       "             count     mean       std  min  25%   50%   75%     max\n",
       "sum_num985  6000.0  20.3605  64.14619  0.0  4.0  11.0  25.0  4291.0"
      ]
     },
     "execution_count": 44,
     "metadata": {},
     "output_type": "execute_result"
    }
   ],
   "source": [
    "get_description_for_qual(d_logs_2, 'sum_num985')"
   ]
  },
  {
   "cell_type": "code",
   "execution_count": 10,
   "metadata": {
    "collapsed": false
   },
   "outputs": [
    {
     "data": {
      "image/png": "[encoded data removed]",
      "text/plain": [
       "<matplotlib.figure.Figure at 0x25b937cfeb8>"
      ]
     },
     "metadata": {},
     "output_type": "display_data"
    }
   ],
   "source": [
    "get_plot_for_usual(d_logs_2, 'sum_num985', text='Распределение  ', x_name='Песни', y_name='Частота')\n"
   ]
  },
  {
   "cell_type": "code",
   "execution_count": 45,
   "metadata": {
    "collapsed": false
   },
   "outputs": [
    {
     "data": {
      "text/html": [
       "<div>\n",
       "<table border=\"1\" class=\"dataframe\">\n",
       "  <thead>\n",
       "    <tr style=\"text-align: right;\">\n",
       "      <th></th>\n",
       "      <th>count</th>\n",
       "      <th>mean</th>\n",
       "      <th>std</th>\n",
       "      <th>min</th>\n",
       "      <th>25%</th>\n",
       "      <th>50%</th>\n",
       "      <th>75%</th>\n",
       "      <th>max</th>\n",
       "    </tr>\n",
       "  </thead>\n",
       "  <tbody>\n",
       "    <tr>\n",
       "      <th>sum_num100</th>\n",
       "      <td>6000.0</td>\n",
       "      <td>546.679667</td>\n",
       "      <td>741.936233</td>\n",
       "      <td>0.0</td>\n",
       "      <td>117.0</td>\n",
       "      <td>334.5</td>\n",
       "      <td>694.0</td>\n",
       "      <td>12600.0</td>\n",
       "    </tr>\n",
       "  </tbody>\n",
       "</table>\n",
       "</div>"
      ],
      "text/plain": [
       "             count        mean         std  min    25%    50%    75%      max\n",
       "sum_num100  6000.0  546.679667  741.936233  0.0  117.0  334.5  694.0  12600.0"
      ]
     },
     "execution_count": 45,
     "metadata": {},
     "output_type": "execute_result"
    }
   ],
   "source": [
    "get_description_for_qual(d_logs_2, 'sum_num100')"
   ]
  },
  {
   "cell_type": "code",
   "execution_count": 11,
   "metadata": {
    "collapsed": false
   },
   "outputs": [
    {
     "data": {
      "image/png": "[encoded data removed]",
      "text/plain": [
       "<matplotlib.figure.Figure at 0x25b932eb550>"
      ]
     },
     "metadata": {},
     "output_type": "display_data"
    }
   ],
   "source": [
    "get_plot_for_usual(d_logs_2, 'sum_num100', text='Распределение  ', x_name='Песни', y_name='Частота')\n"
   ]
  },
  {
   "cell_type": "code",
   "execution_count": 47,
   "metadata": {
    "collapsed": false
   },
   "outputs": [
    {
     "data": {
      "text/html": [
       "<div>\n",
       "<table border=\"1\" class=\"dataframe\">\n",
       "  <thead>\n",
       "    <tr style=\"text-align: right;\">\n",
       "      <th></th>\n",
       "      <th>count</th>\n",
       "      <th>mean</th>\n",
       "      <th>std</th>\n",
       "      <th>min</th>\n",
       "      <th>25%</th>\n",
       "      <th>50%</th>\n",
       "      <th>75%</th>\n",
       "      <th>max</th>\n",
       "    </tr>\n",
       "  </thead>\n",
       "  <tbody>\n",
       "    <tr>\n",
       "      <th>sum_num_unq</th>\n",
       "      <td>6000.0</td>\n",
       "      <td>535.359833</td>\n",
       "      <td>588.695599</td>\n",
       "      <td>1.0</td>\n",
       "      <td>137.0</td>\n",
       "      <td>358.0</td>\n",
       "      <td>727.0</td>\n",
       "      <td>7842.0</td>\n",
       "    </tr>\n",
       "  </tbody>\n",
       "</table>\n",
       "</div>"
      ],
      "text/plain": [
       "              count        mean         std  min    25%    50%    75%     max\n",
       "sum_num_unq  6000.0  535.359833  588.695599  1.0  137.0  358.0  727.0  7842.0"
      ]
     },
     "execution_count": 47,
     "metadata": {},
     "output_type": "execute_result"
    }
   ],
   "source": [
    "get_description_for_qual(d_logs_2, 'sum_num_unq')"
   ]
  },
  {
   "cell_type": "code",
   "execution_count": 12,
   "metadata": {
    "collapsed": false
   },
   "outputs": [
    {
     "data": {
      "image/png": "[encoded data removed]",
      "text/plain": [
       "<matplotlib.figure.Figure at 0x25b9379c9b0>"
      ]
     },
     "metadata": {},
     "output_type": "display_data"
    }
   ],
   "source": [
    "get_plot_for_usual(d_logs_2, 'sum_num_unq', text='Распределение  ', x_name='Песни', y_name='Частота')"
   ]
  },
  {
   "cell_type": "code",
   "execution_count": 48,
   "metadata": {
    "collapsed": false
   },
   "outputs": [
    {
     "data": {
      "text/html": [
       "<div>\n",
       "<table border=\"1\" class=\"dataframe\">\n",
       "  <thead>\n",
       "    <tr style=\"text-align: right;\">\n",
       "      <th></th>\n",
       "      <th>count</th>\n",
       "      <th>mean</th>\n",
       "      <th>std</th>\n",
       "      <th>min</th>\n",
       "      <th>25%</th>\n",
       "      <th>50%</th>\n",
       "      <th>75%</th>\n",
       "      <th>max</th>\n",
       "    </tr>\n",
       "  </thead>\n",
       "  <tbody>\n",
       "    <tr>\n",
       "      <th>sum_total_secs</th>\n",
       "      <td>6000.0</td>\n",
       "      <td>143200.986478</td>\n",
       "      <td>181318.842011</td>\n",
       "      <td>1.802</td>\n",
       "      <td>32837.20375</td>\n",
       "      <td>90577.6545</td>\n",
       "      <td>185114.01625</td>\n",
       "      <td>2612644.554</td>\n",
       "    </tr>\n",
       "  </tbody>\n",
       "</table>\n",
       "</div>"
      ],
      "text/plain": [
       "                 count           mean            std    min          25%  \\\n",
       "sum_total_secs  6000.0  143200.986478  181318.842011  1.802  32837.20375   \n",
       "\n",
       "                       50%           75%          max  \n",
       "sum_total_secs  90577.6545  185114.01625  2612644.554  "
      ]
     },
     "execution_count": 48,
     "metadata": {},
     "output_type": "execute_result"
    }
   ],
   "source": [
    "get_description_for_qual(d_logs_2, 'sum_total_secs')"
   ]
  },
  {
   "cell_type": "code",
   "execution_count": 13,
   "metadata": {
    "collapsed": false,
    "scrolled": true
   },
   "outputs": [
    {
     "data": {
      "image/png": "[encoded data removed]",
      "text/plain": [
       "<matplotlib.figure.Figure at 0x25b93824470>"
      ]
     },
     "metadata": {},
     "output_type": "display_data"
    }
   ],
   "source": [
    "get_plot_for_usual(d_logs_2, 'sum_total_secs', text='Распределение  ', x_name='Количество секунд', y_name='Частота')\n"
   ]
  },
  {
   "cell_type": "markdown",
   "metadata": {
    "collapsed": true
   },
   "source": [
    "# AVG"
   ]
  },
  {
   "cell_type": "code",
   "execution_count": 14,
   "metadata": {
    "collapsed": false
   },
   "outputs": [
    {
     "data": {
      "text/html": [
       "<div>\n",
       "<table border=\"1\" class=\"dataframe\">\n",
       "  <thead>\n",
       "    <tr style=\"text-align: right;\">\n",
       "      <th></th>\n",
       "      <th>count</th>\n",
       "      <th>mean</th>\n",
       "      <th>std</th>\n",
       "      <th>min</th>\n",
       "      <th>25%</th>\n",
       "      <th>50%</th>\n",
       "      <th>75%</th>\n",
       "      <th>max</th>\n",
       "    </tr>\n",
       "  </thead>\n",
       "  <tbody>\n",
       "    <tr>\n",
       "      <th>avg_num25</th>\n",
       "      <td>6000.0</td>\n",
       "      <td>5.771142</td>\n",
       "      <td>7.836326</td>\n",
       "      <td>0.0</td>\n",
       "      <td>1.8</td>\n",
       "      <td>3.62069</td>\n",
       "      <td>6.959327</td>\n",
       "      <td>205.65</td>\n",
       "    </tr>\n",
       "  </tbody>\n",
       "</table>\n",
       "</div>"
      ],
      "text/plain": [
       "            count      mean       std  min  25%      50%       75%     max\n",
       "avg_num25  6000.0  5.771142  7.836326  0.0  1.8  3.62069  6.959327  205.65"
      ]
     },
     "execution_count": 14,
     "metadata": {},
     "output_type": "execute_result"
    }
   ],
   "source": [
    "get_description_for_qual(d_logs_2, 'avg_num25')"
   ]
  },
  {
   "cell_type": "code",
   "execution_count": 15,
   "metadata": {
    "collapsed": false
   },
   "outputs": [
    {
     "data": {
      "image/png": "[encoded data removed]",
      "text/plain": [
       "<matplotlib.figure.Figure at 0x25b9272ca58>"
      ]
     },
     "metadata": {},
     "output_type": "display_data"
    }
   ],
   "source": [
    "get_plot_for_usual(d_logs_2, 'avg_num25', text='Распределение  ', x_name='Песни', y_name='Частота')\n"
   ]
  },
  {
   "cell_type": "code",
   "execution_count": 16,
   "metadata": {
    "collapsed": false
   },
   "outputs": [
    {
     "data": {
      "text/html": [
       "<div>\n",
       "<table border=\"1\" class=\"dataframe\">\n",
       "  <thead>\n",
       "    <tr style=\"text-align: right;\">\n",
       "      <th></th>\n",
       "      <th>count</th>\n",
       "      <th>mean</th>\n",
       "      <th>std</th>\n",
       "      <th>min</th>\n",
       "      <th>25%</th>\n",
       "      <th>50%</th>\n",
       "      <th>75%</th>\n",
       "      <th>max</th>\n",
       "    </tr>\n",
       "  </thead>\n",
       "  <tbody>\n",
       "    <tr>\n",
       "      <th>avg_num50</th>\n",
       "      <td>6000.0</td>\n",
       "      <td>1.398764</td>\n",
       "      <td>1.798477</td>\n",
       "      <td>0.0</td>\n",
       "      <td>0.470588</td>\n",
       "      <td>0.933333</td>\n",
       "      <td>1.730769</td>\n",
       "      <td>36.612903</td>\n",
       "    </tr>\n",
       "  </tbody>\n",
       "</table>\n",
       "</div>"
      ],
      "text/plain": [
       "            count      mean       std  min       25%       50%       75%  \\\n",
       "avg_num50  6000.0  1.398764  1.798477  0.0  0.470588  0.933333  1.730769   \n",
       "\n",
       "                 max  \n",
       "avg_num50  36.612903  "
      ]
     },
     "execution_count": 16,
     "metadata": {},
     "output_type": "execute_result"
    }
   ],
   "source": [
    "get_description_for_qual(d_logs_2, 'avg_num50')"
   ]
  },
  {
   "cell_type": "code",
   "execution_count": 17,
   "metadata": {
    "collapsed": false
   },
   "outputs": [
    {
     "data": {
      "image/png": "[encoded data removed]",
      "text/plain": [
       "<matplotlib.figure.Figure at 0x25b9314ec50>"
      ]
     },
     "metadata": {},
     "output_type": "display_data"
    }
   ],
   "source": [
    "get_plot_for_usual(d_logs_2, 'avg_num50', text='Распределение  ', x_name='Песни', y_name='Частота')\n"
   ]
  },
  {
   "cell_type": "code",
   "execution_count": 18,
   "metadata": {
    "collapsed": false
   },
   "outputs": [
    {
     "data": {
      "text/html": [
       "<div>\n",
       "<table border=\"1\" class=\"dataframe\">\n",
       "  <thead>\n",
       "    <tr style=\"text-align: right;\">\n",
       "      <th></th>\n",
       "      <th>count</th>\n",
       "      <th>mean</th>\n",
       "      <th>std</th>\n",
       "      <th>min</th>\n",
       "      <th>25%</th>\n",
       "      <th>50%</th>\n",
       "      <th>75%</th>\n",
       "      <th>max</th>\n",
       "    </tr>\n",
       "  </thead>\n",
       "  <tbody>\n",
       "    <tr>\n",
       "      <th>avg_num75</th>\n",
       "      <td>6000.0</td>\n",
       "      <td>0.848757</td>\n",
       "      <td>0.93615</td>\n",
       "      <td>0.0</td>\n",
       "      <td>0.333333</td>\n",
       "      <td>0.633333</td>\n",
       "      <td>1.080833</td>\n",
       "      <td>20.55</td>\n",
       "    </tr>\n",
       "  </tbody>\n",
       "</table>\n",
       "</div>"
      ],
      "text/plain": [
       "            count      mean      std  min       25%       50%       75%    max\n",
       "avg_num75  6000.0  0.848757  0.93615  0.0  0.333333  0.633333  1.080833  20.55"
      ]
     },
     "execution_count": 18,
     "metadata": {},
     "output_type": "execute_result"
    }
   ],
   "source": [
    "get_description_for_qual(d_logs_2, 'avg_num75')"
   ]
  },
  {
   "cell_type": "code",
   "execution_count": 19,
   "metadata": {
    "collapsed": false
   },
   "outputs": [
    {
     "data": {
      "image/png": "[encoded data removed]",
      "text/plain": [
       "<matplotlib.figure.Figure at 0x25b935ff048>"
      ]
     },
     "metadata": {},
     "output_type": "display_data"
    }
   ],
   "source": [
    "get_plot_for_usual(d_logs_2, 'avg_num75', text='Распределение  ', x_name='Песни', y_name='Частота')\n"
   ]
  },
  {
   "cell_type": "code",
   "execution_count": 20,
   "metadata": {
    "collapsed": false
   },
   "outputs": [
    {
     "data": {
      "text/html": [
       "<div>\n",
       "<table border=\"1\" class=\"dataframe\">\n",
       "  <thead>\n",
       "    <tr style=\"text-align: right;\">\n",
       "      <th></th>\n",
       "      <th>count</th>\n",
       "      <th>mean</th>\n",
       "      <th>std</th>\n",
       "      <th>min</th>\n",
       "      <th>25%</th>\n",
       "      <th>50%</th>\n",
       "      <th>75%</th>\n",
       "      <th>max</th>\n",
       "    </tr>\n",
       "  </thead>\n",
       "  <tbody>\n",
       "    <tr>\n",
       "      <th>avg_num985</th>\n",
       "      <td>6000.0</td>\n",
       "      <td>0.943166</td>\n",
       "      <td>2.185658</td>\n",
       "      <td>0.0</td>\n",
       "      <td>0.333333</td>\n",
       "      <td>0.666667</td>\n",
       "      <td>1.139163</td>\n",
       "      <td>138.419355</td>\n",
       "    </tr>\n",
       "  </tbody>\n",
       "</table>\n",
       "</div>"
      ],
      "text/plain": [
       "             count      mean       std  min       25%       50%       75%  \\\n",
       "avg_num985  6000.0  0.943166  2.185658  0.0  0.333333  0.666667  1.139163   \n",
       "\n",
       "                   max  \n",
       "avg_num985  138.419355  "
      ]
     },
     "execution_count": 20,
     "metadata": {},
     "output_type": "execute_result"
    }
   ],
   "source": [
    "get_description_for_qual(d_logs_2, 'avg_num985')"
   ]
  },
  {
   "cell_type": "code",
   "execution_count": 21,
   "metadata": {
    "collapsed": false
   },
   "outputs": [
    {
     "data": {
      "image/png": "[encoded data removed]",
      "text/plain": [
       "<matplotlib.figure.Figure at 0x25b93c65e80>"
      ]
     },
     "metadata": {},
     "output_type": "display_data"
    }
   ],
   "source": [
    "get_plot_for_usual(d_logs_2, 'avg_num985', text='Распределение  ', x_name='Песни', y_name='Частота')\n"
   ]
  },
  {
   "cell_type": "code",
   "execution_count": 22,
   "metadata": {
    "collapsed": false
   },
   "outputs": [
    {
     "data": {
      "text/html": [
       "<div>\n",
       "<table border=\"1\" class=\"dataframe\">\n",
       "  <thead>\n",
       "    <tr style=\"text-align: right;\">\n",
       "      <th></th>\n",
       "      <th>count</th>\n",
       "      <th>mean</th>\n",
       "      <th>std</th>\n",
       "      <th>min</th>\n",
       "      <th>25%</th>\n",
       "      <th>50%</th>\n",
       "      <th>75%</th>\n",
       "      <th>max</th>\n",
       "    </tr>\n",
       "  </thead>\n",
       "  <tbody>\n",
       "    <tr>\n",
       "      <th>avg_num100</th>\n",
       "      <td>6000.0</td>\n",
       "      <td>25.008899</td>\n",
       "      <td>26.430906</td>\n",
       "      <td>0.0</td>\n",
       "      <td>10.5</td>\n",
       "      <td>18.274295</td>\n",
       "      <td>30.0</td>\n",
       "      <td>406.451613</td>\n",
       "    </tr>\n",
       "  </tbody>\n",
       "</table>\n",
       "</div>"
      ],
      "text/plain": [
       "             count       mean        std  min   25%        50%   75%  \\\n",
       "avg_num100  6000.0  25.008899  26.430906  0.0  10.5  18.274295  30.0   \n",
       "\n",
       "                   max  \n",
       "avg_num100  406.451613  "
      ]
     },
     "execution_count": 22,
     "metadata": {},
     "output_type": "execute_result"
    }
   ],
   "source": [
    "get_description_for_qual(d_logs_2, 'avg_num100')"
   ]
  },
  {
   "cell_type": "code",
   "execution_count": 23,
   "metadata": {
    "collapsed": false
   },
   "outputs": [
    {
     "data": {
      "image/png": "[encoded data removed]",
      "text/plain": [
       "<matplotlib.figure.Figure at 0x25b93291e10>"
      ]
     },
     "metadata": {},
     "output_type": "display_data"
    }
   ],
   "source": [
    "get_plot_for_usual(d_logs_2, 'avg_num100', text='Распределение  ', x_name='Песни', y_name='Частота')\n"
   ]
  },
  {
   "cell_type": "code",
   "execution_count": 24,
   "metadata": {
    "collapsed": false
   },
   "outputs": [
    {
     "data": {
      "text/html": [
       "<div>\n",
       "<table border=\"1\" class=\"dataframe\">\n",
       "  <thead>\n",
       "    <tr style=\"text-align: right;\">\n",
       "      <th></th>\n",
       "      <th>count</th>\n",
       "      <th>mean</th>\n",
       "      <th>std</th>\n",
       "      <th>min</th>\n",
       "      <th>25%</th>\n",
       "      <th>50%</th>\n",
       "      <th>75%</th>\n",
       "      <th>max</th>\n",
       "    </tr>\n",
       "  </thead>\n",
       "  <tbody>\n",
       "    <tr>\n",
       "      <th>avg_num_unq</th>\n",
       "      <td>6000.0</td>\n",
       "      <td>25.046996</td>\n",
       "      <td>19.852382</td>\n",
       "      <td>1.0</td>\n",
       "      <td>12.333333</td>\n",
       "      <td>20.0</td>\n",
       "      <td>31.816272</td>\n",
       "      <td>252.967742</td>\n",
       "    </tr>\n",
       "  </tbody>\n",
       "</table>\n",
       "</div>"
      ],
      "text/plain": [
       "              count       mean        std  min        25%   50%        75%  \\\n",
       "avg_num_unq  6000.0  25.046996  19.852382  1.0  12.333333  20.0  31.816272   \n",
       "\n",
       "                    max  \n",
       "avg_num_unq  252.967742  "
      ]
     },
     "execution_count": 24,
     "metadata": {},
     "output_type": "execute_result"
    }
   ],
   "source": [
    "get_description_for_qual(d_logs_2, 'avg_num_unq')"
   ]
  },
  {
   "cell_type": "code",
   "execution_count": 25,
   "metadata": {
    "collapsed": false
   },
   "outputs": [
    {
     "data": {
      "image/png": "[encoded data removed]",
      "text/plain": [
       "<matplotlib.figure.Figure at 0x25b92363710>"
      ]
     },
     "metadata": {},
     "output_type": "display_data"
    }
   ],
   "source": [
    "get_plot_for_usual(d_logs_2, 'avg_num_unq', text='Распределение  ', x_name='Песни', y_name='Частота')"
   ]
  },
  {
   "cell_type": "code",
   "execution_count": 26,
   "metadata": {
    "collapsed": false
   },
   "outputs": [
    {
     "data": {
      "text/html": [
       "<div>\n",
       "<table border=\"1\" class=\"dataframe\">\n",
       "  <thead>\n",
       "    <tr style=\"text-align: right;\">\n",
       "      <th></th>\n",
       "      <th>count</th>\n",
       "      <th>mean</th>\n",
       "      <th>std</th>\n",
       "      <th>min</th>\n",
       "      <th>25%</th>\n",
       "      <th>50%</th>\n",
       "      <th>75%</th>\n",
       "      <th>max</th>\n",
       "    </tr>\n",
       "  </thead>\n",
       "  <tbody>\n",
       "    <tr>\n",
       "      <th>avg_total_secs</th>\n",
       "      <td>6000.0</td>\n",
       "      <td>6577.776281</td>\n",
       "      <td>6339.445707</td>\n",
       "      <td>1.802</td>\n",
       "      <td>2959.940558</td>\n",
       "      <td>4898.295339</td>\n",
       "      <td>7962.612545</td>\n",
       "      <td>84278.856581</td>\n",
       "    </tr>\n",
       "  </tbody>\n",
       "</table>\n",
       "</div>"
      ],
      "text/plain": [
       "                 count         mean          std    min          25%  \\\n",
       "avg_total_secs  6000.0  6577.776281  6339.445707  1.802  2959.940558   \n",
       "\n",
       "                        50%          75%           max  \n",
       "avg_total_secs  4898.295339  7962.612545  84278.856581  "
      ]
     },
     "execution_count": 26,
     "metadata": {},
     "output_type": "execute_result"
    }
   ],
   "source": [
    "get_description_for_qual(d_logs_2, 'avg_total_secs')"
   ]
  },
  {
   "cell_type": "code",
   "execution_count": 27,
   "metadata": {
    "collapsed": false,
    "scrolled": true
   },
   "outputs": [
    {
     "data": {
      "image/png": "[encoded data removed]",
      "text/plain": [
       "<matplotlib.figure.Figure at 0x25b9449a5c0>"
      ]
     },
     "metadata": {},
     "output_type": "display_data"
    }
   ],
   "source": [
    "get_plot_for_usual(d_logs_2, 'avg_total_secs', text='Распределение  ', x_name='Количество секунд', y_name='Частота')\n"
   ]
  },
  {
   "cell_type": "code",
   "execution_count": null,
   "metadata": {
    "collapsed": true
   },
   "outputs": [],
   "source": []
  },
  {
   "cell_type": "markdown",
   "metadata": {
    "collapsed": true
   },
   "source": [
    "# Таблица  Transactions"
   ]
  },
  {
   "cell_type": "code",
   "execution_count": 59,
   "metadata": {
    "collapsed": false
   },
   "outputs": [
    {
     "data": {
      "text/html": [
       "<div>\n",
       "<table border=\"1\" class=\"dataframe\">\n",
       "  <thead>\n",
       "    <tr style=\"text-align: right;\">\n",
       "      <th></th>\n",
       "      <th>msno</th>\n",
       "      <th>payment_method_id</th>\n",
       "      <th>payment_plan_days</th>\n",
       "      <th>plan_list_price</th>\n",
       "      <th>actual_amount_paid</th>\n",
       "      <th>is_auto_renew</th>\n",
       "      <th>transaction_date</th>\n",
       "      <th>membership_expire_date</th>\n",
       "      <th>is_cancel</th>\n",
       "    </tr>\n",
       "  </thead>\n",
       "  <tbody>\n",
       "    <tr>\n",
       "      <th>0</th>\n",
       "      <td>+/w1UrZwyka4C9oNH3+Q8fUf3fD8R3EwWrx57ODIsqk=</td>\n",
       "      <td>36</td>\n",
       "      <td>30</td>\n",
       "      <td>180</td>\n",
       "      <td>180</td>\n",
       "      <td>1</td>\n",
       "      <td>20170329</td>\n",
       "      <td>20170331</td>\n",
       "      <td>1</td>\n",
       "    </tr>\n",
       "    <tr>\n",
       "      <th>1</th>\n",
       "      <td>+mM0jyxAgO+WXyjjj1T0lIs4vYbG0zScKm/ifZ6sQYc=</td>\n",
       "      <td>41</td>\n",
       "      <td>30</td>\n",
       "      <td>149</td>\n",
       "      <td>149</td>\n",
       "      <td>1</td>\n",
       "      <td>20170319</td>\n",
       "      <td>20170419</td>\n",
       "      <td>0</td>\n",
       "    </tr>\n",
       "    <tr>\n",
       "      <th>2</th>\n",
       "      <td>1jvspS1PHcDrla+o7vzQNF5EwnljbIzPA74amszByH0=</td>\n",
       "      <td>32</td>\n",
       "      <td>180</td>\n",
       "      <td>536</td>\n",
       "      <td>536</td>\n",
       "      <td>0</td>\n",
       "      <td>20170214</td>\n",
       "      <td>20170816</td>\n",
       "      <td>0</td>\n",
       "    </tr>\n",
       "    <tr>\n",
       "      <th>3</th>\n",
       "      <td>2itkk6/ZKx1yxLVaZveY+852icG56/XS4OjQhWYjCxE=</td>\n",
       "      <td>41</td>\n",
       "      <td>30</td>\n",
       "      <td>149</td>\n",
       "      <td>149</td>\n",
       "      <td>1</td>\n",
       "      <td>20160821</td>\n",
       "      <td>20170521</td>\n",
       "      <td>0</td>\n",
       "    </tr>\n",
       "    <tr>\n",
       "      <th>4</th>\n",
       "      <td>4bUWgWmMP0KMfLFLK7kaMg+FNvqT4uSwWvRBOaHqjNE=</td>\n",
       "      <td>36</td>\n",
       "      <td>30</td>\n",
       "      <td>180</td>\n",
       "      <td>180</td>\n",
       "      <td>0</td>\n",
       "      <td>20170306</td>\n",
       "      <td>20170408</td>\n",
       "      <td>0</td>\n",
       "    </tr>\n",
       "    <tr>\n",
       "      <th>5</th>\n",
       "      <td>55/Kglk8p9b2voZ1E0g+LwE2b4y+MJK574zJ5KgfT3o=</td>\n",
       "      <td>40</td>\n",
       "      <td>30</td>\n",
       "      <td>149</td>\n",
       "      <td>0</td>\n",
       "      <td>1</td>\n",
       "      <td>20170322</td>\n",
       "      <td>20170421</td>\n",
       "      <td>0</td>\n",
       "    </tr>\n",
       "    <tr>\n",
       "      <th>6</th>\n",
       "      <td>6S24M2lYteP0X6gZed/FzesZXHgEbNlA0MJOiCVgNGk=</td>\n",
       "      <td>15</td>\n",
       "      <td>360</td>\n",
       "      <td>1200</td>\n",
       "      <td>1200</td>\n",
       "      <td>0</td>\n",
       "      <td>20170323</td>\n",
       "      <td>20180318</td>\n",
       "      <td>0</td>\n",
       "    </tr>\n",
       "    <tr>\n",
       "      <th>7</th>\n",
       "      <td>9tKD5v48fiqpTM9MnPAwu5Am5brVggRdg2h44n3cloI=</td>\n",
       "      <td>41</td>\n",
       "      <td>30</td>\n",
       "      <td>99</td>\n",
       "      <td>99</td>\n",
       "      <td>1</td>\n",
       "      <td>20170311</td>\n",
       "      <td>20170411</td>\n",
       "      <td>0</td>\n",
       "    </tr>\n",
       "    <tr>\n",
       "      <th>8</th>\n",
       "      <td>A6LssyKH5zMFyaCiue1DvyoUUlzsI3KA7L7II7MH/z8=</td>\n",
       "      <td>38</td>\n",
       "      <td>30</td>\n",
       "      <td>149</td>\n",
       "      <td>149</td>\n",
       "      <td>0</td>\n",
       "      <td>20170314</td>\n",
       "      <td>20170421</td>\n",
       "      <td>0</td>\n",
       "    </tr>\n",
       "    <tr>\n",
       "      <th>9</th>\n",
       "      <td>AzXVmnZDp2TMXf4W08XlturFCCpAro5qRSu+jIhp5lE=</td>\n",
       "      <td>41</td>\n",
       "      <td>30</td>\n",
       "      <td>129</td>\n",
       "      <td>129</td>\n",
       "      <td>1</td>\n",
       "      <td>20170306</td>\n",
       "      <td>20170406</td>\n",
       "      <td>0</td>\n",
       "    </tr>\n",
       "    <tr>\n",
       "      <th>10</th>\n",
       "      <td>CCLFFCGM1FeUlgWseK9INfVlhSir6yWF36Sv1pADL0s=</td>\n",
       "      <td>20</td>\n",
       "      <td>100</td>\n",
       "      <td>480</td>\n",
       "      <td>480</td>\n",
       "      <td>0</td>\n",
       "      <td>20170327</td>\n",
       "      <td>20170705</td>\n",
       "      <td>0</td>\n",
       "    </tr>\n",
       "    <tr>\n",
       "      <th>11</th>\n",
       "      <td>DfaLBK9HxcFDvSJV9wMIX3KIFjfMs6H81nzqGpnF0w8=</td>\n",
       "      <td>39</td>\n",
       "      <td>30</td>\n",
       "      <td>149</td>\n",
       "      <td>149</td>\n",
       "      <td>1</td>\n",
       "      <td>20170331</td>\n",
       "      <td>20170513</td>\n",
       "      <td>0</td>\n",
       "    </tr>\n",
       "    <tr>\n",
       "      <th>12</th>\n",
       "      <td>EuuT43Y50xnjS3dk1LfabPQZpFfz6PXLYAZsG6RWbpM=</td>\n",
       "      <td>41</td>\n",
       "      <td>30</td>\n",
       "      <td>99</td>\n",
       "      <td>99</td>\n",
       "      <td>1</td>\n",
       "      <td>20170309</td>\n",
       "      <td>20170309</td>\n",
       "      <td>1</td>\n",
       "    </tr>\n",
       "    <tr>\n",
       "      <th>13</th>\n",
       "      <td>FNkEx8Gr8wD2deiHhgtTmpHQJc2z/hOWIdAn4V5Aql0=</td>\n",
       "      <td>22</td>\n",
       "      <td>410</td>\n",
       "      <td>1788</td>\n",
       "      <td>1788</td>\n",
       "      <td>0</td>\n",
       "      <td>20170323</td>\n",
       "      <td>20180611</td>\n",
       "      <td>0</td>\n",
       "    </tr>\n",
       "    <tr>\n",
       "      <th>14</th>\n",
       "      <td>Gze5yixsvuyU2HhmckAcMpJBFd+KLuC9Vdh9Leu3tyA=</td>\n",
       "      <td>36</td>\n",
       "      <td>30</td>\n",
       "      <td>180</td>\n",
       "      <td>180</td>\n",
       "      <td>1</td>\n",
       "      <td>20170318</td>\n",
       "      <td>20170417</td>\n",
       "      <td>0</td>\n",
       "    </tr>\n",
       "    <tr>\n",
       "      <th>15</th>\n",
       "      <td>Hbb5idVPtcNsOEHgU9clx77ykFkRuERYzWPnGw3QwcY=</td>\n",
       "      <td>41</td>\n",
       "      <td>30</td>\n",
       "      <td>129</td>\n",
       "      <td>129</td>\n",
       "      <td>1</td>\n",
       "      <td>20170304</td>\n",
       "      <td>20170403</td>\n",
       "      <td>0</td>\n",
       "    </tr>\n",
       "    <tr>\n",
       "      <th>16</th>\n",
       "      <td>JFoTDma0vyl58SiqnNpu1oEpai8+qIo+eW/l8QO80ik=</td>\n",
       "      <td>32</td>\n",
       "      <td>90</td>\n",
       "      <td>298</td>\n",
       "      <td>298</td>\n",
       "      <td>0</td>\n",
       "      <td>20170310</td>\n",
       "      <td>20170616</td>\n",
       "      <td>0</td>\n",
       "    </tr>\n",
       "    <tr>\n",
       "      <th>17</th>\n",
       "      <td>KXCxo8sejCDuvBs8bi9m36oegDWvXbWJ5jbP58V3m4g=</td>\n",
       "      <td>41</td>\n",
       "      <td>30</td>\n",
       "      <td>99</td>\n",
       "      <td>99</td>\n",
       "      <td>1</td>\n",
       "      <td>20170302</td>\n",
       "      <td>20170302</td>\n",
       "      <td>1</td>\n",
       "    </tr>\n",
       "    <tr>\n",
       "      <th>18</th>\n",
       "      <td>LjQ1/CEfHGdevn+ADstNJDK/QeZHw5OIMdOXfhwtSdE=</td>\n",
       "      <td>32</td>\n",
       "      <td>180</td>\n",
       "      <td>536</td>\n",
       "      <td>536</td>\n",
       "      <td>0</td>\n",
       "      <td>20170312</td>\n",
       "      <td>20170910</td>\n",
       "      <td>0</td>\n",
       "    </tr>\n",
       "    <tr>\n",
       "      <th>19</th>\n",
       "      <td>My7RYCkesvUA/dipXubDIHy/aaXQXCXk+p7jWqVp8bQ=</td>\n",
       "      <td>17</td>\n",
       "      <td>60</td>\n",
       "      <td>0</td>\n",
       "      <td>0</td>\n",
       "      <td>0</td>\n",
       "      <td>20170329</td>\n",
       "      <td>20170401</td>\n",
       "      <td>0</td>\n",
       "    </tr>\n",
       "    <tr>\n",
       "      <th>20</th>\n",
       "      <td>NNqTxsLYCSUbb/Cq84xUtf1C/gq2emn/9kjewN15ImQ=</td>\n",
       "      <td>38</td>\n",
       "      <td>90</td>\n",
       "      <td>477</td>\n",
       "      <td>477</td>\n",
       "      <td>0</td>\n",
       "      <td>20170320</td>\n",
       "      <td>20170618</td>\n",
       "      <td>0</td>\n",
       "    </tr>\n",
       "    <tr>\n",
       "      <th>21</th>\n",
       "      <td>Quxg+nju86ZtRNA1alpykXPpWPd+hBv16W5DpQ6pRv4=</td>\n",
       "      <td>38</td>\n",
       "      <td>30</td>\n",
       "      <td>149</td>\n",
       "      <td>149</td>\n",
       "      <td>0</td>\n",
       "      <td>20160907</td>\n",
       "      <td>20170703</td>\n",
       "      <td>0</td>\n",
       "    </tr>\n",
       "    <tr>\n",
       "      <th>22</th>\n",
       "      <td>TWNEWbLr3WUT+zviM2kf9iqzSPQAmIeIEfgSTRsmQtQ=</td>\n",
       "      <td>40</td>\n",
       "      <td>30</td>\n",
       "      <td>149</td>\n",
       "      <td>149</td>\n",
       "      <td>1</td>\n",
       "      <td>20170209</td>\n",
       "      <td>20170606</td>\n",
       "      <td>0</td>\n",
       "    </tr>\n",
       "    <tr>\n",
       "      <th>23</th>\n",
       "      <td>UOpidQQ9MaGD7/ngIJEmQkNDVpdBtBVvUN/GckTNf20=</td>\n",
       "      <td>38</td>\n",
       "      <td>30</td>\n",
       "      <td>149</td>\n",
       "      <td>149</td>\n",
       "      <td>0</td>\n",
       "      <td>20170311</td>\n",
       "      <td>20170413</td>\n",
       "      <td>0</td>\n",
       "    </tr>\n",
       "    <tr>\n",
       "      <th>24</th>\n",
       "      <td>WVAoxOZNkknM9ozNDPadi1MREJa0TUkesUWiKkVBSFg=</td>\n",
       "      <td>41</td>\n",
       "      <td>30</td>\n",
       "      <td>129</td>\n",
       "      <td>129</td>\n",
       "      <td>1</td>\n",
       "      <td>20170111</td>\n",
       "      <td>20170412</td>\n",
       "      <td>0</td>\n",
       "    </tr>\n",
       "    <tr>\n",
       "      <th>25</th>\n",
       "      <td>Wc7VDUqjK3qxx2y9w9xxsJ2wekMeO9IIc0AUXkaTLk8=</td>\n",
       "      <td>37</td>\n",
       "      <td>30</td>\n",
       "      <td>149</td>\n",
       "      <td>149</td>\n",
       "      <td>1</td>\n",
       "      <td>20170307</td>\n",
       "      <td>20170312</td>\n",
       "      <td>1</td>\n",
       "    </tr>\n",
       "    <tr>\n",
       "      <th>26</th>\n",
       "      <td>XKIMzfCQvBBOpJ+ug7c76wT1PnFZmHDi/Szq0pxDp5g=</td>\n",
       "      <td>32</td>\n",
       "      <td>180</td>\n",
       "      <td>536</td>\n",
       "      <td>536</td>\n",
       "      <td>0</td>\n",
       "      <td>20170316</td>\n",
       "      <td>20170915</td>\n",
       "      <td>0</td>\n",
       "    </tr>\n",
       "    <tr>\n",
       "      <th>27</th>\n",
       "      <td>XZ5OUw4s3Oszu01LaxHzlibxReXAfdnqXyM9eDM6dk0=</td>\n",
       "      <td>38</td>\n",
       "      <td>90</td>\n",
       "      <td>447</td>\n",
       "      <td>447</td>\n",
       "      <td>0</td>\n",
       "      <td>20170327</td>\n",
       "      <td>20170625</td>\n",
       "      <td>0</td>\n",
       "    </tr>\n",
       "    <tr>\n",
       "      <th>28</th>\n",
       "      <td>ZSj9Jd0qZXZTvuvytqZlCCSEitZ/85f+dbMKbESm0og=</td>\n",
       "      <td>40</td>\n",
       "      <td>30</td>\n",
       "      <td>149</td>\n",
       "      <td>149</td>\n",
       "      <td>1</td>\n",
       "      <td>20170315</td>\n",
       "      <td>20170414</td>\n",
       "      <td>0</td>\n",
       "    </tr>\n",
       "    <tr>\n",
       "      <th>29</th>\n",
       "      <td>aFs/VoUIaTPBkkHIiPHI3SFaepuvygV6skWps+uJfCs=</td>\n",
       "      <td>41</td>\n",
       "      <td>30</td>\n",
       "      <td>149</td>\n",
       "      <td>149</td>\n",
       "      <td>1</td>\n",
       "      <td>20170331</td>\n",
       "      <td>20170403</td>\n",
       "      <td>1</td>\n",
       "    </tr>\n",
       "    <tr>\n",
       "      <th>...</th>\n",
       "      <td>...</td>\n",
       "      <td>...</td>\n",
       "      <td>...</td>\n",
       "      <td>...</td>\n",
       "      <td>...</td>\n",
       "      <td>...</td>\n",
       "      <td>...</td>\n",
       "      <td>...</td>\n",
       "      <td>...</td>\n",
       "    </tr>\n",
       "    <tr>\n",
       "      <th>8993</th>\n",
       "      <td>Ttau0+fjWQNTMpJtEyFiSTDhxZu8RA4DTcTeLkHgDbc=</td>\n",
       "      <td>39</td>\n",
       "      <td>30</td>\n",
       "      <td>149</td>\n",
       "      <td>149</td>\n",
       "      <td>1</td>\n",
       "      <td>20170228</td>\n",
       "      <td>20170518</td>\n",
       "      <td>0</td>\n",
       "    </tr>\n",
       "    <tr>\n",
       "      <th>8994</th>\n",
       "      <td>U5tbvceawNGN1XKTnVUWIWzXx5VTi1wtd8wTPQNecBw=</td>\n",
       "      <td>41</td>\n",
       "      <td>30</td>\n",
       "      <td>100</td>\n",
       "      <td>100</td>\n",
       "      <td>1</td>\n",
       "      <td>20170310</td>\n",
       "      <td>20170410</td>\n",
       "      <td>0</td>\n",
       "    </tr>\n",
       "    <tr>\n",
       "      <th>8995</th>\n",
       "      <td>UFAjuFrIhtY4xQEE3KiVXb7Yim9f29m1S3tUE6vYYOU=</td>\n",
       "      <td>37</td>\n",
       "      <td>30</td>\n",
       "      <td>149</td>\n",
       "      <td>149</td>\n",
       "      <td>1</td>\n",
       "      <td>20170313</td>\n",
       "      <td>20170412</td>\n",
       "      <td>0</td>\n",
       "    </tr>\n",
       "    <tr>\n",
       "      <th>8996</th>\n",
       "      <td>VbH5OGnjzB9MGPLuezhsSKgz6H9c2saW9/jux+oy8sE=</td>\n",
       "      <td>41</td>\n",
       "      <td>30</td>\n",
       "      <td>99</td>\n",
       "      <td>99</td>\n",
       "      <td>1</td>\n",
       "      <td>20170327</td>\n",
       "      <td>20170427</td>\n",
       "      <td>0</td>\n",
       "    </tr>\n",
       "    <tr>\n",
       "      <th>8997</th>\n",
       "      <td>VwHX3CDKbhPMB8LFbVpbQO4TMLb39JB9isTEGX666mw=</td>\n",
       "      <td>38</td>\n",
       "      <td>30</td>\n",
       "      <td>0</td>\n",
       "      <td>0</td>\n",
       "      <td>0</td>\n",
       "      <td>20161221</td>\n",
       "      <td>20170420</td>\n",
       "      <td>0</td>\n",
       "    </tr>\n",
       "    <tr>\n",
       "      <th>8998</th>\n",
       "      <td>XN+/rPC+jOAxkpYNmk85xvmfjIQSvDrGWLLGdceh3Nc=</td>\n",
       "      <td>37</td>\n",
       "      <td>30</td>\n",
       "      <td>149</td>\n",
       "      <td>149</td>\n",
       "      <td>1</td>\n",
       "      <td>20170317</td>\n",
       "      <td>20170329</td>\n",
       "      <td>1</td>\n",
       "    </tr>\n",
       "    <tr>\n",
       "      <th>8999</th>\n",
       "      <td>YI0ryhHWui9Mv97DSK2sdjvQCJRJfoOhDjAid+qwz5k=</td>\n",
       "      <td>38</td>\n",
       "      <td>7</td>\n",
       "      <td>0</td>\n",
       "      <td>0</td>\n",
       "      <td>0</td>\n",
       "      <td>20161012</td>\n",
       "      <td>20170629</td>\n",
       "      <td>0</td>\n",
       "    </tr>\n",
       "    <tr>\n",
       "      <th>9000</th>\n",
       "      <td>ZD1ACyb53DYchV3B0TOCXtI5PP28hZBPAZEwP2QBWXs=</td>\n",
       "      <td>36</td>\n",
       "      <td>30</td>\n",
       "      <td>180</td>\n",
       "      <td>180</td>\n",
       "      <td>1</td>\n",
       "      <td>20170309</td>\n",
       "      <td>20170408</td>\n",
       "      <td>0</td>\n",
       "    </tr>\n",
       "    <tr>\n",
       "      <th>9001</th>\n",
       "      <td>am50OMEaHojQ6bOoH1T0WHUJXfo/ieQ7dpHAwaqW6jE=</td>\n",
       "      <td>39</td>\n",
       "      <td>30</td>\n",
       "      <td>149</td>\n",
       "      <td>149</td>\n",
       "      <td>1</td>\n",
       "      <td>20170228</td>\n",
       "      <td>20170625</td>\n",
       "      <td>0</td>\n",
       "    </tr>\n",
       "    <tr>\n",
       "      <th>9002</th>\n",
       "      <td>dA8V42orM8ApL/jmIxurNJChS4G0xuCnr8pM32l3Wt4=</td>\n",
       "      <td>34</td>\n",
       "      <td>30</td>\n",
       "      <td>149</td>\n",
       "      <td>149</td>\n",
       "      <td>1</td>\n",
       "      <td>20170331</td>\n",
       "      <td>20170430</td>\n",
       "      <td>0</td>\n",
       "    </tr>\n",
       "    <tr>\n",
       "      <th>9003</th>\n",
       "      <td>dAAa6LJlXklw491JO3Y+VhM77xn9cq3ujI2xZODtcj4=</td>\n",
       "      <td>41</td>\n",
       "      <td>30</td>\n",
       "      <td>99</td>\n",
       "      <td>99</td>\n",
       "      <td>1</td>\n",
       "      <td>20170325</td>\n",
       "      <td>20170425</td>\n",
       "      <td>0</td>\n",
       "    </tr>\n",
       "    <tr>\n",
       "      <th>9004</th>\n",
       "      <td>fSaZ60/8vsDmg+jRZjPb9Dh2gYq/wH+GRTRTtDpP7Y8=</td>\n",
       "      <td>41</td>\n",
       "      <td>30</td>\n",
       "      <td>129</td>\n",
       "      <td>129</td>\n",
       "      <td>1</td>\n",
       "      <td>20170224</td>\n",
       "      <td>20170709</td>\n",
       "      <td>0</td>\n",
       "    </tr>\n",
       "    <tr>\n",
       "      <th>9005</th>\n",
       "      <td>ffe8TmA+ZGu0MLKDLBZviz5ZdH3eoFf39HDQUupWTTc=</td>\n",
       "      <td>41</td>\n",
       "      <td>30</td>\n",
       "      <td>149</td>\n",
       "      <td>149</td>\n",
       "      <td>1</td>\n",
       "      <td>20151211</td>\n",
       "      <td>20170615</td>\n",
       "      <td>0</td>\n",
       "    </tr>\n",
       "    <tr>\n",
       "      <th>9006</th>\n",
       "      <td>iN6cNbY3NK4cggEDze/eAtQj16LJq0NESaN/WXA3Hqw=</td>\n",
       "      <td>38</td>\n",
       "      <td>30</td>\n",
       "      <td>149</td>\n",
       "      <td>149</td>\n",
       "      <td>0</td>\n",
       "      <td>20170310</td>\n",
       "      <td>20170412</td>\n",
       "      <td>0</td>\n",
       "    </tr>\n",
       "    <tr>\n",
       "      <th>9007</th>\n",
       "      <td>im8mSJKwA0SRQd/l2DZCS+4YsXEtJcmvv2wofm837I4=</td>\n",
       "      <td>40</td>\n",
       "      <td>30</td>\n",
       "      <td>149</td>\n",
       "      <td>149</td>\n",
       "      <td>1</td>\n",
       "      <td>20170303</td>\n",
       "      <td>20170402</td>\n",
       "      <td>0</td>\n",
       "    </tr>\n",
       "    <tr>\n",
       "      <th>9008</th>\n",
       "      <td>ipKtQ0A+aCJo/0oMq9HVTRl2/paVf6uTW5z7JZVA0Fk=</td>\n",
       "      <td>38</td>\n",
       "      <td>30</td>\n",
       "      <td>149</td>\n",
       "      <td>149</td>\n",
       "      <td>0</td>\n",
       "      <td>20170202</td>\n",
       "      <td>20170403</td>\n",
       "      <td>0</td>\n",
       "    </tr>\n",
       "    <tr>\n",
       "      <th>9009</th>\n",
       "      <td>iu9f+fE3vhPcTkUAxRBaIgDOPnBP/8rc2m+TFFr8BQw=</td>\n",
       "      <td>41</td>\n",
       "      <td>30</td>\n",
       "      <td>99</td>\n",
       "      <td>99</td>\n",
       "      <td>1</td>\n",
       "      <td>20170325</td>\n",
       "      <td>20170425</td>\n",
       "      <td>0</td>\n",
       "    </tr>\n",
       "    <tr>\n",
       "      <th>9010</th>\n",
       "      <td>j64C3K9S0zE5KP1mxLlCa7+gkKNNZCkF1l++LcUjq0M=</td>\n",
       "      <td>31</td>\n",
       "      <td>30</td>\n",
       "      <td>149</td>\n",
       "      <td>149</td>\n",
       "      <td>1</td>\n",
       "      <td>20170331</td>\n",
       "      <td>20170430</td>\n",
       "      <td>0</td>\n",
       "    </tr>\n",
       "    <tr>\n",
       "      <th>9011</th>\n",
       "      <td>kyZps+asYkpt3q3h2V34p3AL1/50m63e7i53UBYxhoU=</td>\n",
       "      <td>38</td>\n",
       "      <td>30</td>\n",
       "      <td>149</td>\n",
       "      <td>149</td>\n",
       "      <td>0</td>\n",
       "      <td>20170319</td>\n",
       "      <td>20170418</td>\n",
       "      <td>0</td>\n",
       "    </tr>\n",
       "    <tr>\n",
       "      <th>9012</th>\n",
       "      <td>lzX3vyCG7UnoZCaq3opvxWVoEn1kFwPANG52bQiXoBw=</td>\n",
       "      <td>41</td>\n",
       "      <td>30</td>\n",
       "      <td>99</td>\n",
       "      <td>99</td>\n",
       "      <td>1</td>\n",
       "      <td>20151111</td>\n",
       "      <td>20171201</td>\n",
       "      <td>0</td>\n",
       "    </tr>\n",
       "    <tr>\n",
       "      <th>9013</th>\n",
       "      <td>mNLoIZHXe8J8PHKiQ9nSK+eRS540Mtris8/TJTUKaTs=</td>\n",
       "      <td>40</td>\n",
       "      <td>30</td>\n",
       "      <td>149</td>\n",
       "      <td>149</td>\n",
       "      <td>1</td>\n",
       "      <td>20170311</td>\n",
       "      <td>20170410</td>\n",
       "      <td>0</td>\n",
       "    </tr>\n",
       "    <tr>\n",
       "      <th>9014</th>\n",
       "      <td>oLzqcI1+HsCDIPWXOTbC5xyOEQL5vvJzLygKcFyOs4Q=</td>\n",
       "      <td>32</td>\n",
       "      <td>240</td>\n",
       "      <td>1200</td>\n",
       "      <td>1200</td>\n",
       "      <td>0</td>\n",
       "      <td>20170308</td>\n",
       "      <td>20171105</td>\n",
       "      <td>0</td>\n",
       "    </tr>\n",
       "    <tr>\n",
       "      <th>9015</th>\n",
       "      <td>oO4D8Tha90x5WyllvBdORvYfKrUwELWMbj6G554B78w=</td>\n",
       "      <td>41</td>\n",
       "      <td>30</td>\n",
       "      <td>99</td>\n",
       "      <td>99</td>\n",
       "      <td>1</td>\n",
       "      <td>20170323</td>\n",
       "      <td>20170323</td>\n",
       "      <td>1</td>\n",
       "    </tr>\n",
       "    <tr>\n",
       "      <th>9016</th>\n",
       "      <td>pI0cMv4wwhvLTBJpJSoHQrG6pdazfXo77JmRfKoyA6U=</td>\n",
       "      <td>38</td>\n",
       "      <td>10</td>\n",
       "      <td>0</td>\n",
       "      <td>0</td>\n",
       "      <td>0</td>\n",
       "      <td>20151130</td>\n",
       "      <td>20170831</td>\n",
       "      <td>0</td>\n",
       "    </tr>\n",
       "    <tr>\n",
       "      <th>9017</th>\n",
       "      <td>pnVNtM7X0feLcdNftjtetAZ2usbvs6MM8lYtOYNSshs=</td>\n",
       "      <td>41</td>\n",
       "      <td>30</td>\n",
       "      <td>129</td>\n",
       "      <td>129</td>\n",
       "      <td>1</td>\n",
       "      <td>20170315</td>\n",
       "      <td>20170415</td>\n",
       "      <td>0</td>\n",
       "    </tr>\n",
       "    <tr>\n",
       "      <th>9018</th>\n",
       "      <td>sgaZSfZdD0OZm/8wb7rqzeZkxr3F6fv0/lq3qYkhleY=</td>\n",
       "      <td>41</td>\n",
       "      <td>30</td>\n",
       "      <td>99</td>\n",
       "      <td>99</td>\n",
       "      <td>1</td>\n",
       "      <td>20170331</td>\n",
       "      <td>20170430</td>\n",
       "      <td>0</td>\n",
       "    </tr>\n",
       "    <tr>\n",
       "      <th>9019</th>\n",
       "      <td>tr+Z6rY3aj0cImYd25LJ06Cs/C3iVZMLnNRytJLD3jc=</td>\n",
       "      <td>41</td>\n",
       "      <td>30</td>\n",
       "      <td>99</td>\n",
       "      <td>99</td>\n",
       "      <td>1</td>\n",
       "      <td>20170318</td>\n",
       "      <td>20170418</td>\n",
       "      <td>0</td>\n",
       "    </tr>\n",
       "    <tr>\n",
       "      <th>9020</th>\n",
       "      <td>ucTJ98Ss3U5syRMDhIutnO9qJqvTKoXGh3xEpaE3pCk=</td>\n",
       "      <td>37</td>\n",
       "      <td>30</td>\n",
       "      <td>149</td>\n",
       "      <td>149</td>\n",
       "      <td>1</td>\n",
       "      <td>20170324</td>\n",
       "      <td>20170430</td>\n",
       "      <td>0</td>\n",
       "    </tr>\n",
       "    <tr>\n",
       "      <th>9021</th>\n",
       "      <td>w8MIDBD/Rb5Xr5yQVS5tL+jipZB1KAjjzqCQXx5n0IQ=</td>\n",
       "      <td>36</td>\n",
       "      <td>30</td>\n",
       "      <td>180</td>\n",
       "      <td>180</td>\n",
       "      <td>1</td>\n",
       "      <td>20170307</td>\n",
       "      <td>20170406</td>\n",
       "      <td>0</td>\n",
       "    </tr>\n",
       "    <tr>\n",
       "      <th>9022</th>\n",
       "      <td>wHfD7e0+WowNr6NSYMpkiTkgPsDQbfC6dNSGsN+JLa4=</td>\n",
       "      <td>41</td>\n",
       "      <td>30</td>\n",
       "      <td>99</td>\n",
       "      <td>99</td>\n",
       "      <td>1</td>\n",
       "      <td>20170331</td>\n",
       "      <td>20170430</td>\n",
       "      <td>0</td>\n",
       "    </tr>\n",
       "  </tbody>\n",
       "</table>\n",
       "<p>9023 rows × 9 columns</p>\n",
       "</div>"
      ],
      "text/plain": [
       "                                              msno  payment_method_id  \\\n",
       "0     +/w1UrZwyka4C9oNH3+Q8fUf3fD8R3EwWrx57ODIsqk=                 36   \n",
       "1     +mM0jyxAgO+WXyjjj1T0lIs4vYbG0zScKm/ifZ6sQYc=                 41   \n",
       "2     1jvspS1PHcDrla+o7vzQNF5EwnljbIzPA74amszByH0=                 32   \n",
       "3     2itkk6/ZKx1yxLVaZveY+852icG56/XS4OjQhWYjCxE=                 41   \n",
       "4     4bUWgWmMP0KMfLFLK7kaMg+FNvqT4uSwWvRBOaHqjNE=                 36   \n",
       "5     55/Kglk8p9b2voZ1E0g+LwE2b4y+MJK574zJ5KgfT3o=                 40   \n",
       "6     6S24M2lYteP0X6gZed/FzesZXHgEbNlA0MJOiCVgNGk=                 15   \n",
       "7     9tKD5v48fiqpTM9MnPAwu5Am5brVggRdg2h44n3cloI=                 41   \n",
       "8     A6LssyKH5zMFyaCiue1DvyoUUlzsI3KA7L7II7MH/z8=                 38   \n",
       "9     AzXVmnZDp2TMXf4W08XlturFCCpAro5qRSu+jIhp5lE=                 41   \n",
       "10    CCLFFCGM1FeUlgWseK9INfVlhSir6yWF36Sv1pADL0s=                 20   \n",
       "11    DfaLBK9HxcFDvSJV9wMIX3KIFjfMs6H81nzqGpnF0w8=                 39   \n",
       "12    EuuT43Y50xnjS3dk1LfabPQZpFfz6PXLYAZsG6RWbpM=                 41   \n",
       "13    FNkEx8Gr8wD2deiHhgtTmpHQJc2z/hOWIdAn4V5Aql0=                 22   \n",
       "14    Gze5yixsvuyU2HhmckAcMpJBFd+KLuC9Vdh9Leu3tyA=                 36   \n",
       "15    Hbb5idVPtcNsOEHgU9clx77ykFkRuERYzWPnGw3QwcY=                 41   \n",
       "16    JFoTDma0vyl58SiqnNpu1oEpai8+qIo+eW/l8QO80ik=                 32   \n",
       "17    KXCxo8sejCDuvBs8bi9m36oegDWvXbWJ5jbP58V3m4g=                 41   \n",
       "18    LjQ1/CEfHGdevn+ADstNJDK/QeZHw5OIMdOXfhwtSdE=                 32   \n",
       "19    My7RYCkesvUA/dipXubDIHy/aaXQXCXk+p7jWqVp8bQ=                 17   \n",
       "20    NNqTxsLYCSUbb/Cq84xUtf1C/gq2emn/9kjewN15ImQ=                 38   \n",
       "21    Quxg+nju86ZtRNA1alpykXPpWPd+hBv16W5DpQ6pRv4=                 38   \n",
       "22    TWNEWbLr3WUT+zviM2kf9iqzSPQAmIeIEfgSTRsmQtQ=                 40   \n",
       "23    UOpidQQ9MaGD7/ngIJEmQkNDVpdBtBVvUN/GckTNf20=                 38   \n",
       "24    WVAoxOZNkknM9ozNDPadi1MREJa0TUkesUWiKkVBSFg=                 41   \n",
       "25    Wc7VDUqjK3qxx2y9w9xxsJ2wekMeO9IIc0AUXkaTLk8=                 37   \n",
       "26    XKIMzfCQvBBOpJ+ug7c76wT1PnFZmHDi/Szq0pxDp5g=                 32   \n",
       "27    XZ5OUw4s3Oszu01LaxHzlibxReXAfdnqXyM9eDM6dk0=                 38   \n",
       "28    ZSj9Jd0qZXZTvuvytqZlCCSEitZ/85f+dbMKbESm0og=                 40   \n",
       "29    aFs/VoUIaTPBkkHIiPHI3SFaepuvygV6skWps+uJfCs=                 41   \n",
       "...                                            ...                ...   \n",
       "8993  Ttau0+fjWQNTMpJtEyFiSTDhxZu8RA4DTcTeLkHgDbc=                 39   \n",
       "8994  U5tbvceawNGN1XKTnVUWIWzXx5VTi1wtd8wTPQNecBw=                 41   \n",
       "8995  UFAjuFrIhtY4xQEE3KiVXb7Yim9f29m1S3tUE6vYYOU=                 37   \n",
       "8996  VbH5OGnjzB9MGPLuezhsSKgz6H9c2saW9/jux+oy8sE=                 41   \n",
       "8997  VwHX3CDKbhPMB8LFbVpbQO4TMLb39JB9isTEGX666mw=                 38   \n",
       "8998  XN+/rPC+jOAxkpYNmk85xvmfjIQSvDrGWLLGdceh3Nc=                 37   \n",
       "8999  YI0ryhHWui9Mv97DSK2sdjvQCJRJfoOhDjAid+qwz5k=                 38   \n",
       "9000  ZD1ACyb53DYchV3B0TOCXtI5PP28hZBPAZEwP2QBWXs=                 36   \n",
       "9001  am50OMEaHojQ6bOoH1T0WHUJXfo/ieQ7dpHAwaqW6jE=                 39   \n",
       "9002  dA8V42orM8ApL/jmIxurNJChS4G0xuCnr8pM32l3Wt4=                 34   \n",
       "9003  dAAa6LJlXklw491JO3Y+VhM77xn9cq3ujI2xZODtcj4=                 41   \n",
       "9004  fSaZ60/8vsDmg+jRZjPb9Dh2gYq/wH+GRTRTtDpP7Y8=                 41   \n",
       "9005  ffe8TmA+ZGu0MLKDLBZviz5ZdH3eoFf39HDQUupWTTc=                 41   \n",
       "9006  iN6cNbY3NK4cggEDze/eAtQj16LJq0NESaN/WXA3Hqw=                 38   \n",
       "9007  im8mSJKwA0SRQd/l2DZCS+4YsXEtJcmvv2wofm837I4=                 40   \n",
       "9008  ipKtQ0A+aCJo/0oMq9HVTRl2/paVf6uTW5z7JZVA0Fk=                 38   \n",
       "9009  iu9f+fE3vhPcTkUAxRBaIgDOPnBP/8rc2m+TFFr8BQw=                 41   \n",
       "9010  j64C3K9S0zE5KP1mxLlCa7+gkKNNZCkF1l++LcUjq0M=                 31   \n",
       "9011  kyZps+asYkpt3q3h2V34p3AL1/50m63e7i53UBYxhoU=                 38   \n",
       "9012  lzX3vyCG7UnoZCaq3opvxWVoEn1kFwPANG52bQiXoBw=                 41   \n",
       "9013  mNLoIZHXe8J8PHKiQ9nSK+eRS540Mtris8/TJTUKaTs=                 40   \n",
       "9014  oLzqcI1+HsCDIPWXOTbC5xyOEQL5vvJzLygKcFyOs4Q=                 32   \n",
       "9015  oO4D8Tha90x5WyllvBdORvYfKrUwELWMbj6G554B78w=                 41   \n",
       "9016  pI0cMv4wwhvLTBJpJSoHQrG6pdazfXo77JmRfKoyA6U=                 38   \n",
       "9017  pnVNtM7X0feLcdNftjtetAZ2usbvs6MM8lYtOYNSshs=                 41   \n",
       "9018  sgaZSfZdD0OZm/8wb7rqzeZkxr3F6fv0/lq3qYkhleY=                 41   \n",
       "9019  tr+Z6rY3aj0cImYd25LJ06Cs/C3iVZMLnNRytJLD3jc=                 41   \n",
       "9020  ucTJ98Ss3U5syRMDhIutnO9qJqvTKoXGh3xEpaE3pCk=                 37   \n",
       "9021  w8MIDBD/Rb5Xr5yQVS5tL+jipZB1KAjjzqCQXx5n0IQ=                 36   \n",
       "9022  wHfD7e0+WowNr6NSYMpkiTkgPsDQbfC6dNSGsN+JLa4=                 41   \n",
       "\n",
       "      payment_plan_days  plan_list_price  actual_amount_paid  is_auto_renew  \\\n",
       "0                    30              180                 180              1   \n",
       "1                    30              149                 149              1   \n",
       "2                   180              536                 536              0   \n",
       "3                    30              149                 149              1   \n",
       "4                    30              180                 180              0   \n",
       "5                    30              149                   0              1   \n",
       "6                   360             1200                1200              0   \n",
       "7                    30               99                  99              1   \n",
       "8                    30              149                 149              0   \n",
       "9                    30              129                 129              1   \n",
       "10                  100              480                 480              0   \n",
       "11                   30              149                 149              1   \n",
       "12                   30               99                  99              1   \n",
       "13                  410             1788                1788              0   \n",
       "14                   30              180                 180              1   \n",
       "15                   30              129                 129              1   \n",
       "16                   90              298                 298              0   \n",
       "17                   30               99                  99              1   \n",
       "18                  180              536                 536              0   \n",
       "19                   60                0                   0              0   \n",
       "20                   90              477                 477              0   \n",
       "21                   30              149                 149              0   \n",
       "22                   30              149                 149              1   \n",
       "23                   30              149                 149              0   \n",
       "24                   30              129                 129              1   \n",
       "25                   30              149                 149              1   \n",
       "26                  180              536                 536              0   \n",
       "27                   90              447                 447              0   \n",
       "28                   30              149                 149              1   \n",
       "29                   30              149                 149              1   \n",
       "...                 ...              ...                 ...            ...   \n",
       "8993                 30              149                 149              1   \n",
       "8994                 30              100                 100              1   \n",
       "8995                 30              149                 149              1   \n",
       "8996                 30               99                  99              1   \n",
       "8997                 30                0                   0              0   \n",
       "8998                 30              149                 149              1   \n",
       "8999                  7                0                   0              0   \n",
       "9000                 30              180                 180              1   \n",
       "9001                 30              149                 149              1   \n",
       "9002                 30              149                 149              1   \n",
       "9003                 30               99                  99              1   \n",
       "9004                 30              129                 129              1   \n",
       "9005                 30              149                 149              1   \n",
       "9006                 30              149                 149              0   \n",
       "9007                 30              149                 149              1   \n",
       "9008                 30              149                 149              0   \n",
       "9009                 30               99                  99              1   \n",
       "9010                 30              149                 149              1   \n",
       "9011                 30              149                 149              0   \n",
       "9012                 30               99                  99              1   \n",
       "9013                 30              149                 149              1   \n",
       "9014                240             1200                1200              0   \n",
       "9015                 30               99                  99              1   \n",
       "9016                 10                0                   0              0   \n",
       "9017                 30              129                 129              1   \n",
       "9018                 30               99                  99              1   \n",
       "9019                 30               99                  99              1   \n",
       "9020                 30              149                 149              1   \n",
       "9021                 30              180                 180              1   \n",
       "9022                 30               99                  99              1   \n",
       "\n",
       "      transaction_date  membership_expire_date  is_cancel  \n",
       "0             20170329                20170331          1  \n",
       "1             20170319                20170419          0  \n",
       "2             20170214                20170816          0  \n",
       "3             20160821                20170521          0  \n",
       "4             20170306                20170408          0  \n",
       "5             20170322                20170421          0  \n",
       "6             20170323                20180318          0  \n",
       "7             20170311                20170411          0  \n",
       "8             20170314                20170421          0  \n",
       "9             20170306                20170406          0  \n",
       "10            20170327                20170705          0  \n",
       "11            20170331                20170513          0  \n",
       "12            20170309                20170309          1  \n",
       "13            20170323                20180611          0  \n",
       "14            20170318                20170417          0  \n",
       "15            20170304                20170403          0  \n",
       "16            20170310                20170616          0  \n",
       "17            20170302                20170302          1  \n",
       "18            20170312                20170910          0  \n",
       "19            20170329                20170401          0  \n",
       "20            20170320                20170618          0  \n",
       "21            20160907                20170703          0  \n",
       "22            20170209                20170606          0  \n",
       "23            20170311                20170413          0  \n",
       "24            20170111                20170412          0  \n",
       "25            20170307                20170312          1  \n",
       "26            20170316                20170915          0  \n",
       "27            20170327                20170625          0  \n",
       "28            20170315                20170414          0  \n",
       "29            20170331                20170403          1  \n",
       "...                ...                     ...        ...  \n",
       "8993          20170228                20170518          0  \n",
       "8994          20170310                20170410          0  \n",
       "8995          20170313                20170412          0  \n",
       "8996          20170327                20170427          0  \n",
       "8997          20161221                20170420          0  \n",
       "8998          20170317                20170329          1  \n",
       "8999          20161012                20170629          0  \n",
       "9000          20170309                20170408          0  \n",
       "9001          20170228                20170625          0  \n",
       "9002          20170331                20170430          0  \n",
       "9003          20170325                20170425          0  \n",
       "9004          20170224                20170709          0  \n",
       "9005          20151211                20170615          0  \n",
       "9006          20170310                20170412          0  \n",
       "9007          20170303                20170402          0  \n",
       "9008          20170202                20170403          0  \n",
       "9009          20170325                20170425          0  \n",
       "9010          20170331                20170430          0  \n",
       "9011          20170319                20170418          0  \n",
       "9012          20151111                20171201          0  \n",
       "9013          20170311                20170410          0  \n",
       "9014          20170308                20171105          0  \n",
       "9015          20170323                20170323          1  \n",
       "9016          20151130                20170831          0  \n",
       "9017          20170315                20170415          0  \n",
       "9018          20170331                20170430          0  \n",
       "9019          20170318                20170418          0  \n",
       "9020          20170324                20170430          0  \n",
       "9021          20170307                20170406          0  \n",
       "9022          20170331                20170430          0  \n",
       "\n",
       "[9023 rows x 9 columns]"
      ]
     },
     "execution_count": 59,
     "metadata": {},
     "output_type": "execute_result"
    }
   ],
   "source": [
    "d_trans"
   ]
  },
  {
   "cell_type": "code",
   "execution_count": 51,
   "metadata": {
    "collapsed": false
   },
   "outputs": [
    {
     "data": {
      "text/plain": [
       "Index(['num_of_transactions', 'most_popular_payment_id',\n",
       "       'extra_payment_plans_total', 'extra_payment_plans_count',\n",
       "       'avg_plan_list_price', 'avg_actual_amount_paid', 'is_auto_renew_total',\n",
       "       'is_cancel_total', 'left_payment_seconds_total',\n",
       "       'avg_transaction_days_diff', 'max_transaction_days_diff',\n",
       "       'min_transaction_days_diff', 'avg_expire_days_diff',\n",
       "       'max_expire_days_diff', 'min_expire_days_diff',\n",
       "       'most_popular_transaction_days', 'least_popular_transaction_days',\n",
       "       'most_popular_transaction_season', 'least_popular_transaction_season',\n",
       "       'most_popular_expire_days', 'least_popular_expire_days',\n",
       "       'most_popular_expire_season', 'least_popular_expire_season', 'msno',\n",
       "       'payment_id_is_always_auto_renew'],\n",
       "      dtype='object')"
      ]
     },
     "execution_count": 51,
     "metadata": {},
     "output_type": "execute_result"
    }
   ],
   "source": [
    "d_trans_2.columns"
   ]
  },
  {
   "cell_type": "code",
   "execution_count": 29,
   "metadata": {
    "collapsed": false
   },
   "outputs": [
    {
     "data": {
      "text/html": [
       "<div>\n",
       "<table border=\"1\" class=\"dataframe\">\n",
       "  <thead>\n",
       "    <tr style=\"text-align: right;\">\n",
       "      <th></th>\n",
       "      <th>count</th>\n",
       "      <th>mean</th>\n",
       "      <th>std</th>\n",
       "      <th>min</th>\n",
       "      <th>25%</th>\n",
       "      <th>50%</th>\n",
       "      <th>75%</th>\n",
       "      <th>max</th>\n",
       "    </tr>\n",
       "  </thead>\n",
       "  <tbody>\n",
       "    <tr>\n",
       "      <th>num_of_transactions</th>\n",
       "      <td>6000.0</td>\n",
       "      <td>1.503833</td>\n",
       "      <td>1.796067</td>\n",
       "      <td>1.0</td>\n",
       "      <td>1.0</td>\n",
       "      <td>1.0</td>\n",
       "      <td>1.0</td>\n",
       "      <td>43.0</td>\n",
       "    </tr>\n",
       "  </tbody>\n",
       "</table>\n",
       "</div>"
      ],
      "text/plain": [
       "                      count      mean       std  min  25%  50%  75%   max\n",
       "num_of_transactions  6000.0  1.503833  1.796067  1.0  1.0  1.0  1.0  43.0"
      ]
     },
     "execution_count": 29,
     "metadata": {},
     "output_type": "execute_result"
    }
   ],
   "source": [
    "get_description_for_qual(d_trans_2, 'num_of_transactions')"
   ]
  },
  {
   "cell_type": "code",
   "execution_count": 37,
   "metadata": {
    "collapsed": false
   },
   "outputs": [
    {
     "data": {
      "image/png": "[encoded data removed]",
      "text/plain": [
       "<matplotlib.figure.Figure at 0x25b95ea9e10>"
      ]
     },
     "metadata": {},
     "output_type": "display_data"
    }
   ],
   "source": [
    "get_plot_for_usual(d_trans_2, 'num_of_transactions', 'Распределение' , 'Суммарное колиество транзакций', 'Частота', 40)"
   ]
  },
  {
   "cell_type": "code",
   "execution_count": 41,
   "metadata": {
    "collapsed": false
   },
   "outputs": [
    {
     "data": {
      "image/png": "[encoded data removed]",
      "text/plain": [
       "<matplotlib.figure.Figure at 0x25b921ff8d0>"
      ]
     },
     "metadata": {},
     "output_type": "display_data"
    }
   ],
   "source": [
    "get_plot_for_qual(d_trans_2, 'most_popular_payment_id', 'Распределение' , 'Суммарное колиество транзакций', 'Частота')"
   ]
  },
  {
   "cell_type": "code",
   "execution_count": 49,
   "metadata": {
    "collapsed": false
   },
   "outputs": [
    {
     "data": {
      "text/html": [
       "<div>\n",
       "<table border=\"1\" class=\"dataframe\">\n",
       "  <thead>\n",
       "    <tr style=\"text-align: right;\">\n",
       "      <th></th>\n",
       "      <th>count</th>\n",
       "      <th>mean</th>\n",
       "      <th>std</th>\n",
       "      <th>min</th>\n",
       "      <th>25%</th>\n",
       "      <th>50%</th>\n",
       "      <th>75%</th>\n",
       "      <th>max</th>\n",
       "    </tr>\n",
       "  </thead>\n",
       "  <tbody>\n",
       "    <tr>\n",
       "      <th>avg_plan_list_price</th>\n",
       "      <td>6000.0</td>\n",
       "      <td>279.653217</td>\n",
       "      <td>388.002479</td>\n",
       "      <td>0.0</td>\n",
       "      <td>124.125</td>\n",
       "      <td>149.0</td>\n",
       "      <td>180.0</td>\n",
       "      <td>1788.0</td>\n",
       "    </tr>\n",
       "  </tbody>\n",
       "</table>\n",
       "</div>"
      ],
      "text/plain": [
       "                      count        mean         std  min      25%    50%  \\\n",
       "avg_plan_list_price  6000.0  279.653217  388.002479  0.0  124.125  149.0   \n",
       "\n",
       "                       75%     max  \n",
       "avg_plan_list_price  180.0  1788.0  "
      ]
     },
     "execution_count": 49,
     "metadata": {},
     "output_type": "execute_result"
    }
   ],
   "source": [
    "get_description_for_qual(d_trans_2, 'avg_plan_list_price')"
   ]
  },
  {
   "cell_type": "code",
   "execution_count": 48,
   "metadata": {
    "collapsed": false
   },
   "outputs": [
    {
     "data": {
      "image/png": "[encoded data removed]",
      "text/plain": [
       "<matplotlib.figure.Figure at 0x25b9350c320>"
      ]
     },
     "metadata": {},
     "output_type": "display_data"
    }
   ],
   "source": [
    "get_plot_for_usual(d_trans_2, 'avg_plan_list_price','Распределение' , 'Суммарное колиество транзакций', 'Частота')"
   ]
  },
  {
   "cell_type": "code",
   "execution_count": 50,
   "metadata": {
    "collapsed": false
   },
   "outputs": [
    {
     "data": {
      "text/html": [
       "<div>\n",
       "<table border=\"1\" class=\"dataframe\">\n",
       "  <thead>\n",
       "    <tr style=\"text-align: right;\">\n",
       "      <th></th>\n",
       "      <th>count</th>\n",
       "      <th>mean</th>\n",
       "      <th>std</th>\n",
       "      <th>min</th>\n",
       "      <th>25%</th>\n",
       "      <th>50%</th>\n",
       "      <th>75%</th>\n",
       "      <th>max</th>\n",
       "    </tr>\n",
       "  </thead>\n",
       "  <tbody>\n",
       "    <tr>\n",
       "      <th>avg_actual_amount_paid</th>\n",
       "      <td>6000.0</td>\n",
       "      <td>278.25338</td>\n",
       "      <td>388.674453</td>\n",
       "      <td>0.0</td>\n",
       "      <td>100.0</td>\n",
       "      <td>149.0</td>\n",
       "      <td>180.0</td>\n",
       "      <td>1788.0</td>\n",
       "    </tr>\n",
       "  </tbody>\n",
       "</table>\n",
       "</div>"
      ],
      "text/plain": [
       "                         count       mean         std  min    25%    50%  \\\n",
       "avg_actual_amount_paid  6000.0  278.25338  388.674453  0.0  100.0  149.0   \n",
       "\n",
       "                          75%     max  \n",
       "avg_actual_amount_paid  180.0  1788.0  "
      ]
     },
     "execution_count": 50,
     "metadata": {},
     "output_type": "execute_result"
    }
   ],
   "source": [
    "get_description_for_qual(d_trans_2, 'avg_actual_amount_paid')"
   ]
  },
  {
   "cell_type": "code",
   "execution_count": 52,
   "metadata": {
    "collapsed": false
   },
   "outputs": [
    {
     "data": {
      "image/png": "[encoded data removed]",
      "text/plain": [
       "<matplotlib.figure.Figure at 0x25b938b2c18>"
      ]
     },
     "metadata": {},
     "output_type": "display_data"
    }
   ],
   "source": [
    "get_plot_for_usual(d_trans_2, 'avg_actual_amount_paid','Распределение' , 'Суммарное колиество транзакций', 'Частота')"
   ]
  },
  {
   "cell_type": "code",
   "execution_count": 55,
   "metadata": {
    "collapsed": false
   },
   "outputs": [
    {
     "data": {
      "text/html": [
       "<div>\n",
       "<table border=\"1\" class=\"dataframe\">\n",
       "  <thead>\n",
       "    <tr style=\"text-align: right;\">\n",
       "      <th></th>\n",
       "      <th>count</th>\n",
       "      <th>mean</th>\n",
       "      <th>std</th>\n",
       "      <th>min</th>\n",
       "      <th>25%</th>\n",
       "      <th>50%</th>\n",
       "      <th>75%</th>\n",
       "      <th>max</th>\n",
       "    </tr>\n",
       "  </thead>\n",
       "  <tbody>\n",
       "    <tr>\n",
       "      <th>is_auto_renew_total</th>\n",
       "      <td>6000.0</td>\n",
       "      <td>1.110667</td>\n",
       "      <td>1.807013</td>\n",
       "      <td>0.0</td>\n",
       "      <td>0.0</td>\n",
       "      <td>1.0</td>\n",
       "      <td>1.0</td>\n",
       "      <td>43.0</td>\n",
       "    </tr>\n",
       "  </tbody>\n",
       "</table>\n",
       "</div>"
      ],
      "text/plain": [
       "                      count      mean       std  min  25%  50%  75%   max\n",
       "is_auto_renew_total  6000.0  1.110667  1.807013  0.0  0.0  1.0  1.0  43.0"
      ]
     },
     "execution_count": 55,
     "metadata": {},
     "output_type": "execute_result"
    }
   ],
   "source": [
    "get_description_for_qual(d_trans_2, 'is_auto_renew_total')"
   ]
  },
  {
   "cell_type": "code",
   "execution_count": 60,
   "metadata": {
    "collapsed": false
   },
   "outputs": [
    {
     "data": {
      "image/png": "[encoded data removed]",
      "text/plain": [
       "<matplotlib.figure.Figure at 0x25b95ac0588>"
      ]
     },
     "metadata": {},
     "output_type": "display_data"
    }
   ],
   "source": [
    "get_plot_for_usual(d_trans_2, 'is_auto_renew_total','Распределение' , 'Суммарное колиество транзакций', 'Частота')"
   ]
  },
  {
   "cell_type": "code",
   "execution_count": 64,
   "metadata": {
    "collapsed": false
   },
   "outputs": [
    {
     "data": {
      "text/html": [
       "<div>\n",
       "<table border=\"1\" class=\"dataframe\">\n",
       "  <thead>\n",
       "    <tr style=\"text-align: right;\">\n",
       "      <th></th>\n",
       "      <th>count</th>\n",
       "      <th>mean</th>\n",
       "      <th>std</th>\n",
       "      <th>min</th>\n",
       "      <th>25%</th>\n",
       "      <th>50%</th>\n",
       "      <th>75%</th>\n",
       "      <th>max</th>\n",
       "    </tr>\n",
       "  </thead>\n",
       "  <tbody>\n",
       "    <tr>\n",
       "      <th>is_cancel_total</th>\n",
       "      <td>6000.0</td>\n",
       "      <td>0.135</td>\n",
       "      <td>0.363039</td>\n",
       "      <td>0.0</td>\n",
       "      <td>0.0</td>\n",
       "      <td>0.0</td>\n",
       "      <td>0.0</td>\n",
       "      <td>8.0</td>\n",
       "    </tr>\n",
       "  </tbody>\n",
       "</table>\n",
       "</div>"
      ],
      "text/plain": [
       "                  count   mean       std  min  25%  50%  75%  max\n",
       "is_cancel_total  6000.0  0.135  0.363039  0.0  0.0  0.0  0.0  8.0"
      ]
     },
     "execution_count": 64,
     "metadata": {},
     "output_type": "execute_result"
    }
   ],
   "source": [
    "get_description_for_qual(d_trans_2, 'is_cancel_total')"
   ]
  },
  {
   "cell_type": "code",
   "execution_count": 63,
   "metadata": {
    "collapsed": false
   },
   "outputs": [
    {
     "data": {
      "image/png": "[encoded data removed]",
      "text/plain": [
       "<matplotlib.figure.Figure at 0x25b929a6ba8>"
      ]
     },
     "metadata": {},
     "output_type": "display_data"
    }
   ],
   "source": [
    "get_plot_for_usual(d_trans_2, 'is_cancel_total','Распределение' , 'Суммарное колиество транзакций', 'Частота',10)"
   ]
  },
  {
   "cell_type": "code",
   "execution_count": null,
   "metadata": {
    "collapsed": true
   },
   "outputs": [],
   "source": [
    "get_description_for_qual(d_trans_2, 'is_cancel_total')"
   ]
  }
 ],
 "metadata": {
  "kernelspec": {
   "display_name": "Python 3",
   "language": "python",
   "name": "python3"
  },
  "language_info": {
   "codemirror_mode": {
    "name": "ipython",
    "version": 3
   },
   "file_extension": ".py",
   "mimetype": "text/x-python",
   "name": "python",
   "nbconvert_exporter": "python",
   "pygments_lexer": "ipython3",
   "version": "3.6.0"
  }
 },
 "nbformat": 4,
 "nbformat_minor": 2
}
